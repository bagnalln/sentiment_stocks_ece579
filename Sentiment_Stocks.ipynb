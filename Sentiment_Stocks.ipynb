{
  "nbformat": 4,
  "nbformat_minor": 0,
  "metadata": {
    "colab": {
      "name": "Sentiment_Stocks.ipynb",
      "provenance": [],
      "collapsed_sections": [
        "y4DocLrOrD2C",
        "2P84t8JexODc"
      ],
      "toc_visible": true
    },
    "kernelspec": {
      "display_name": "Python 3",
      "name": "python3"
    },
    "widgets": {
      "application/vnd.jupyter.widget-state+json": {
        "333c22aa1aca43f8bd22222ec9c464fb": {
          "model_module": "@jupyter-widgets/controls",
          "model_name": "HBoxModel",
          "state": {
            "_view_name": "HBoxView",
            "_dom_classes": [],
            "_model_name": "HBoxModel",
            "_view_module": "@jupyter-widgets/controls",
            "_model_module_version": "1.5.0",
            "_view_count": null,
            "_view_module_version": "1.5.0",
            "box_style": "",
            "layout": "IPY_MODEL_d658944317e94c44af7087e9fa755caa",
            "_model_module": "@jupyter-widgets/controls",
            "children": [
              "IPY_MODEL_63e2e0badf5f419092baa67b19682b42",
              "IPY_MODEL_7188047728ce454aa50be36c2346a6dd"
            ]
          }
        },
        "d658944317e94c44af7087e9fa755caa": {
          "model_module": "@jupyter-widgets/base",
          "model_name": "LayoutModel",
          "state": {
            "_view_name": "LayoutView",
            "grid_template_rows": null,
            "right": null,
            "justify_content": null,
            "_view_module": "@jupyter-widgets/base",
            "overflow": null,
            "_model_module_version": "1.2.0",
            "_view_count": null,
            "flex_flow": null,
            "width": null,
            "min_width": null,
            "border": null,
            "align_items": null,
            "bottom": null,
            "_model_module": "@jupyter-widgets/base",
            "top": null,
            "grid_column": null,
            "overflow_y": null,
            "overflow_x": null,
            "grid_auto_flow": null,
            "grid_area": null,
            "grid_template_columns": null,
            "flex": null,
            "_model_name": "LayoutModel",
            "justify_items": null,
            "grid_row": null,
            "max_height": null,
            "align_content": null,
            "visibility": null,
            "align_self": null,
            "height": null,
            "min_height": null,
            "padding": null,
            "grid_auto_rows": null,
            "grid_gap": null,
            "max_width": null,
            "order": null,
            "_view_module_version": "1.2.0",
            "grid_template_areas": null,
            "object_position": null,
            "object_fit": null,
            "grid_auto_columns": null,
            "margin": null,
            "display": null,
            "left": null
          }
        },
        "63e2e0badf5f419092baa67b19682b42": {
          "model_module": "@jupyter-widgets/controls",
          "model_name": "FloatProgressModel",
          "state": {
            "_view_name": "ProgressView",
            "style": "IPY_MODEL_5302caede14a4fd986f315a0fcb146f7",
            "_dom_classes": [],
            "description": "Downloading: 100%",
            "_model_name": "FloatProgressModel",
            "bar_style": "success",
            "max": 231508,
            "_view_module": "@jupyter-widgets/controls",
            "_model_module_version": "1.5.0",
            "value": 231508,
            "_view_count": null,
            "_view_module_version": "1.5.0",
            "orientation": "horizontal",
            "min": 0,
            "description_tooltip": null,
            "_model_module": "@jupyter-widgets/controls",
            "layout": "IPY_MODEL_4f3d3a603ded4fb68a27997b5b7dc50d"
          }
        },
        "7188047728ce454aa50be36c2346a6dd": {
          "model_module": "@jupyter-widgets/controls",
          "model_name": "HTMLModel",
          "state": {
            "_view_name": "HTMLView",
            "style": "IPY_MODEL_510a15c1887244559b730e16c2bc7e67",
            "_dom_classes": [],
            "description": "",
            "_model_name": "HTMLModel",
            "placeholder": "​",
            "_view_module": "@jupyter-widgets/controls",
            "_model_module_version": "1.5.0",
            "value": " 232k/232k [00:00&lt;00:00, 2.77MB/s]",
            "_view_count": null,
            "_view_module_version": "1.5.0",
            "description_tooltip": null,
            "_model_module": "@jupyter-widgets/controls",
            "layout": "IPY_MODEL_2601cd0feae04518b34c42de9f2b4761"
          }
        },
        "5302caede14a4fd986f315a0fcb146f7": {
          "model_module": "@jupyter-widgets/controls",
          "model_name": "ProgressStyleModel",
          "state": {
            "_view_name": "StyleView",
            "_model_name": "ProgressStyleModel",
            "description_width": "initial",
            "_view_module": "@jupyter-widgets/base",
            "_model_module_version": "1.5.0",
            "_view_count": null,
            "_view_module_version": "1.2.0",
            "bar_color": null,
            "_model_module": "@jupyter-widgets/controls"
          }
        },
        "4f3d3a603ded4fb68a27997b5b7dc50d": {
          "model_module": "@jupyter-widgets/base",
          "model_name": "LayoutModel",
          "state": {
            "_view_name": "LayoutView",
            "grid_template_rows": null,
            "right": null,
            "justify_content": null,
            "_view_module": "@jupyter-widgets/base",
            "overflow": null,
            "_model_module_version": "1.2.0",
            "_view_count": null,
            "flex_flow": null,
            "width": null,
            "min_width": null,
            "border": null,
            "align_items": null,
            "bottom": null,
            "_model_module": "@jupyter-widgets/base",
            "top": null,
            "grid_column": null,
            "overflow_y": null,
            "overflow_x": null,
            "grid_auto_flow": null,
            "grid_area": null,
            "grid_template_columns": null,
            "flex": null,
            "_model_name": "LayoutModel",
            "justify_items": null,
            "grid_row": null,
            "max_height": null,
            "align_content": null,
            "visibility": null,
            "align_self": null,
            "height": null,
            "min_height": null,
            "padding": null,
            "grid_auto_rows": null,
            "grid_gap": null,
            "max_width": null,
            "order": null,
            "_view_module_version": "1.2.0",
            "grid_template_areas": null,
            "object_position": null,
            "object_fit": null,
            "grid_auto_columns": null,
            "margin": null,
            "display": null,
            "left": null
          }
        },
        "510a15c1887244559b730e16c2bc7e67": {
          "model_module": "@jupyter-widgets/controls",
          "model_name": "DescriptionStyleModel",
          "state": {
            "_view_name": "StyleView",
            "_model_name": "DescriptionStyleModel",
            "description_width": "",
            "_view_module": "@jupyter-widgets/base",
            "_model_module_version": "1.5.0",
            "_view_count": null,
            "_view_module_version": "1.2.0",
            "_model_module": "@jupyter-widgets/controls"
          }
        },
        "2601cd0feae04518b34c42de9f2b4761": {
          "model_module": "@jupyter-widgets/base",
          "model_name": "LayoutModel",
          "state": {
            "_view_name": "LayoutView",
            "grid_template_rows": null,
            "right": null,
            "justify_content": null,
            "_view_module": "@jupyter-widgets/base",
            "overflow": null,
            "_model_module_version": "1.2.0",
            "_view_count": null,
            "flex_flow": null,
            "width": null,
            "min_width": null,
            "border": null,
            "align_items": null,
            "bottom": null,
            "_model_module": "@jupyter-widgets/base",
            "top": null,
            "grid_column": null,
            "overflow_y": null,
            "overflow_x": null,
            "grid_auto_flow": null,
            "grid_area": null,
            "grid_template_columns": null,
            "flex": null,
            "_model_name": "LayoutModel",
            "justify_items": null,
            "grid_row": null,
            "max_height": null,
            "align_content": null,
            "visibility": null,
            "align_self": null,
            "height": null,
            "min_height": null,
            "padding": null,
            "grid_auto_rows": null,
            "grid_gap": null,
            "max_width": null,
            "order": null,
            "_view_module_version": "1.2.0",
            "grid_template_areas": null,
            "object_position": null,
            "object_fit": null,
            "grid_auto_columns": null,
            "margin": null,
            "display": null,
            "left": null
          }
        }
      }
    }
  },
  "cells": [
    {
      "cell_type": "markdown",
      "metadata": {
        "id": "G3uOJd5gob4H"
      },
      "source": [
        "# Sentiment Driven Stock Predictions"
      ]
    },
    {
      "cell_type": "markdown",
      "metadata": {
        "id": "Jtd6RFccUgN3"
      },
      "source": [
        "## ToDo\n",
        "* @Nathan add more comments\n",
        "* @Bryan/ Kevin explore more data preprocessing techniques\n",
        "* ~~Remove twitter stuff~~\n",
        "* Pick a sentiment analysis algo - currently randomforrest is working best\n",
        "* Explore more prediction algorithms\n",
        "  * Use non-binary classifiers to directly predict time series results instead of a binary algorithm\n",
        "  * Implement better trading simulation algorithm based on above\n",
        "\n",
        "---\n",
        "\n",
        "* Need more news data for more testing\n",
        "* Add more technical indicators for stock stuff\n",
        "* Test on more stocks like SPY etc\n",
        "* Add some analysis of returns"
      ]
    },
    {
      "cell_type": "markdown",
      "metadata": {
        "id": "QC6TdTqKoiWK"
      },
      "source": [
        "## Importing Data"
      ]
    },
    {
      "cell_type": "code",
      "metadata": {
        "colab": {
          "base_uri": "https://localhost:8080/"
        },
        "id": "CcihMAwLq62P",
        "outputId": "c45f34a7-7f3c-4234-f97f-3219645d4d78"
      },
      "source": [
        "# First, mount your drive (might happen automatically)\n",
        "from google.colab import drive\n",
        "drive.mount('/content/drive')\n",
        "\n",
        "!nvidia-smi"
      ],
      "execution_count": null,
      "outputs": [
        {
          "output_type": "stream",
          "text": [
            "Mounted at /content/drive\n",
            "NVIDIA-SMI has failed because it couldn't communicate with the NVIDIA driver. Make sure that the latest NVIDIA driver is installed and running.\n",
            "\n"
          ],
          "name": "stdout"
        }
      ]
    },
    {
      "cell_type": "markdown",
      "metadata": {
        "id": "y4DocLrOrD2C"
      },
      "source": [
        "### First time downloading data to drive"
      ]
    },
    {
      "cell_type": "code",
      "metadata": {
        "id": "-1ApsakroaPy"
      },
      "source": [
        "## First time import to transfer data from kaggle to Google Drive\n",
        "\n",
        "## alternatively just download a dataset and upload it to your google drive\n",
        "\n",
        "## Generate an API key using the instructions on this site - https://medium.com/analytics-vidhya/how-to-directly-download-kaggle-dataset-to-google-drive-aa06175712e2\n",
        "## Next, on the files tab on the left browse to content and transfer the downloaded files from /content to \"MyDrive\"\n",
        "\n",
        "#  import os\n",
        "\n",
        "# os.environ['KAGGLE_USERNAME'] = \"your username\"\n",
        "# os.environ['KAGGLE_KEY'] = \"your api key\"\n",
        "\n",
        "# !kaggle datasets download -d aaron7sun/stocknews"
      ],
      "execution_count": null,
      "outputs": []
    },
    {
      "cell_type": "markdown",
      "metadata": {
        "id": "9M2PtNk1rHf2"
      },
      "source": [
        "### Normal data import"
      ]
    },
    {
      "cell_type": "code",
      "metadata": {
        "colab": {
          "base_uri": "https://localhost:8080/"
        },
        "id": "m3lkqwJfonps",
        "outputId": "91680f2b-5d01-461e-ac06-699b6b2f9117"
      },
      "source": [
        "# Once data has already been transferred, use this to import data from your drive\n",
        "\n",
        "!cp '/content/drive/MyDrive/ECE 579 Project/stooq_all_us_daily_data.zip' .\n",
        "!cp '/content/drive/MyDrive/ECE 579 Project/stocknews.zip' .\n",
        "#!cp '/content/drive/MyDrive/ECE 579/ECE579_TermProject/Code/Data/tweets-about-the-top-companies-from-2015-to-2020.zip' .\n",
        "\n",
        "# make folder structure\n",
        "!mkdir stock_data\n",
        "!mkdir stock_news\n",
        "#!mkdir tweets\n",
        "\n",
        "# unzip files\n",
        "!unzip -q stooq_all_us_daily_data.zip -d stock_data\n",
        "#!unzip -q tweets-about-the-top-companies-from-2015-to-2020 -d tweets\n",
        "!unzip -q stocknews.zip -d stock_news\n",
        "\n",
        "!ls"
      ],
      "execution_count": null,
      "outputs": [
        {
          "output_type": "stream",
          "text": [
            "drive\t     stock_data  stocknews.zip\n",
            "sample_data  stock_news  stooq_all_us_daily_data.zip\n"
          ],
          "name": "stdout"
        }
      ]
    },
    {
      "cell_type": "code",
      "metadata": {
        "colab": {
          "base_uri": "https://localhost:8080/",
          "height": 424
        },
        "id": "sE0NVbYTzP9H",
        "outputId": "94138e3b-8df3-411b-a7fc-41fe529494bd"
      },
      "source": [
        "r_data"
      ],
      "execution_count": 36,
      "outputs": [
        {
          "output_type": "execute_result",
          "data": {
            "text/html": [
              "<div>\n",
              "<style scoped>\n",
              "    .dataframe tbody tr th:only-of-type {\n",
              "        vertical-align: middle;\n",
              "    }\n",
              "\n",
              "    .dataframe tbody tr th {\n",
              "        vertical-align: top;\n",
              "    }\n",
              "\n",
              "    .dataframe thead th {\n",
              "        text-align: right;\n",
              "    }\n",
              "</style>\n",
              "<table border=\"1\" class=\"dataframe\">\n",
              "  <thead>\n",
              "    <tr style=\"text-align: right;\">\n",
              "      <th></th>\n",
              "      <th>Date</th>\n",
              "      <th>News</th>\n",
              "    </tr>\n",
              "  </thead>\n",
              "  <tbody>\n",
              "    <tr>\n",
              "      <th>0</th>\n",
              "      <td>2016-07-01</td>\n",
              "      <td>A 117-year-old woman in Mexico City finally re...</td>\n",
              "    </tr>\n",
              "    <tr>\n",
              "      <th>1</th>\n",
              "      <td>2016-07-01</td>\n",
              "      <td>IMF chief backs Athens as permanent Olympic host</td>\n",
              "    </tr>\n",
              "    <tr>\n",
              "      <th>2</th>\n",
              "      <td>2016-07-01</td>\n",
              "      <td>The president of France says if Brexit won, so...</td>\n",
              "    </tr>\n",
              "    <tr>\n",
              "      <th>3</th>\n",
              "      <td>2016-07-01</td>\n",
              "      <td>British Man Who Must Give Police 24 Hours' Not...</td>\n",
              "    </tr>\n",
              "    <tr>\n",
              "      <th>4</th>\n",
              "      <td>2016-07-01</td>\n",
              "      <td>100+ Nobel laureates urge Greenpeace to stop o...</td>\n",
              "    </tr>\n",
              "    <tr>\n",
              "      <th>...</th>\n",
              "      <td>...</td>\n",
              "      <td>...</td>\n",
              "    </tr>\n",
              "    <tr>\n",
              "      <th>73603</th>\n",
              "      <td>2008-06-08</td>\n",
              "      <td>b'Man goes berzerk in Akihabara and stabs ever...</td>\n",
              "    </tr>\n",
              "    <tr>\n",
              "      <th>73604</th>\n",
              "      <td>2008-06-08</td>\n",
              "      <td>b'Threat of world AIDS pandemic among heterose...</td>\n",
              "    </tr>\n",
              "    <tr>\n",
              "      <th>73605</th>\n",
              "      <td>2008-06-08</td>\n",
              "      <td>b'Angst in Ankara: Turkey Steers into a Danger...</td>\n",
              "    </tr>\n",
              "    <tr>\n",
              "      <th>73606</th>\n",
              "      <td>2008-06-08</td>\n",
              "      <td>b\"UK: Identity cards 'could be used to spy on ...</td>\n",
              "    </tr>\n",
              "    <tr>\n",
              "      <th>73607</th>\n",
              "      <td>2008-06-08</td>\n",
              "      <td>b'Marriage, they said, was reduced to the stat...</td>\n",
              "    </tr>\n",
              "  </tbody>\n",
              "</table>\n",
              "<p>73608 rows × 2 columns</p>\n",
              "</div>"
            ],
            "text/plain": [
              "             Date                                               News\n",
              "0      2016-07-01  A 117-year-old woman in Mexico City finally re...\n",
              "1      2016-07-01   IMF chief backs Athens as permanent Olympic host\n",
              "2      2016-07-01  The president of France says if Brexit won, so...\n",
              "3      2016-07-01  British Man Who Must Give Police 24 Hours' Not...\n",
              "4      2016-07-01  100+ Nobel laureates urge Greenpeace to stop o...\n",
              "...           ...                                                ...\n",
              "73603  2008-06-08  b'Man goes berzerk in Akihabara and stabs ever...\n",
              "73604  2008-06-08  b'Threat of world AIDS pandemic among heterose...\n",
              "73605  2008-06-08  b'Angst in Ankara: Turkey Steers into a Danger...\n",
              "73606  2008-06-08  b\"UK: Identity cards 'could be used to spy on ...\n",
              "73607  2008-06-08  b'Marriage, they said, was reduced to the stat...\n",
              "\n",
              "[73608 rows x 2 columns]"
            ]
          },
          "metadata": {
            "tags": []
          },
          "execution_count": 36
        }
      ]
    },
    {
      "cell_type": "code",
      "metadata": {
        "colab": {
          "base_uri": "https://localhost:8080/",
          "height": 1000
        },
        "id": "ERMSRiIWzRXg",
        "outputId": "25c0e7c6-c34d-4b6e-c4a4-6d26813a8e2a"
      },
      "source": [
        "df"
      ],
      "execution_count": 37,
      "outputs": [
        {
          "output_type": "execute_result",
          "data": {
            "text/html": [
              "<div>\n",
              "<style scoped>\n",
              "    .dataframe tbody tr th:only-of-type {\n",
              "        vertical-align: middle;\n",
              "    }\n",
              "\n",
              "    .dataframe tbody tr th {\n",
              "        vertical-align: top;\n",
              "    }\n",
              "\n",
              "    .dataframe thead th {\n",
              "        text-align: right;\n",
              "    }\n",
              "</style>\n",
              "<table border=\"1\" class=\"dataframe\">\n",
              "  <thead>\n",
              "    <tr style=\"text-align: right;\">\n",
              "      <th></th>\n",
              "      <th>Date</th>\n",
              "      <th>Label</th>\n",
              "      <th>Top1</th>\n",
              "      <th>Top2</th>\n",
              "      <th>Top3</th>\n",
              "      <th>Top4</th>\n",
              "      <th>Top5</th>\n",
              "      <th>Top6</th>\n",
              "      <th>Top7</th>\n",
              "      <th>Top8</th>\n",
              "      <th>Top9</th>\n",
              "      <th>Top10</th>\n",
              "      <th>Top11</th>\n",
              "      <th>Top12</th>\n",
              "      <th>Top13</th>\n",
              "      <th>Top14</th>\n",
              "      <th>Top15</th>\n",
              "      <th>Top16</th>\n",
              "      <th>Top17</th>\n",
              "      <th>Top18</th>\n",
              "      <th>Top19</th>\n",
              "      <th>Top20</th>\n",
              "      <th>Top21</th>\n",
              "      <th>Top22</th>\n",
              "      <th>Top23</th>\n",
              "      <th>Top24</th>\n",
              "      <th>Top25</th>\n",
              "    </tr>\n",
              "  </thead>\n",
              "  <tbody>\n",
              "    <tr>\n",
              "      <th>0</th>\n",
              "      <td>2008-08-08</td>\n",
              "      <td>0</td>\n",
              "      <td>b\"Georgia 'downs two Russian warplanes' as cou...</td>\n",
              "      <td>b'BREAKING: Musharraf to be impeached.'</td>\n",
              "      <td>b'Russia Today: Columns of troops roll into So...</td>\n",
              "      <td>b'Russian tanks are moving towards the capital...</td>\n",
              "      <td>b\"Afghan children raped with 'impunity,' U.N. ...</td>\n",
              "      <td>b'150 Russian tanks have entered South Ossetia...</td>\n",
              "      <td>b\"Breaking: Georgia invades South Ossetia, Rus...</td>\n",
              "      <td>b\"The 'enemy combatent' trials are nothing but...</td>\n",
              "      <td>b'Georgian troops retreat from S. Osettain cap...</td>\n",
              "      <td>b'Did the U.S. Prep Georgia for War with Russia?'</td>\n",
              "      <td>b'Rice Gives Green Light for Israel to Attack ...</td>\n",
              "      <td>b'Announcing:Class Action Lawsuit on Behalf of...</td>\n",
              "      <td>b\"So---Russia and Georgia are at war and the N...</td>\n",
              "      <td>b\"China tells Bush to stay out of other countr...</td>\n",
              "      <td>b'Did World War III start today?'</td>\n",
              "      <td>b'Georgia Invades South Ossetia - if Russia ge...</td>\n",
              "      <td>b'Al-Qaeda Faces Islamist Backlash'</td>\n",
              "      <td>b'Condoleezza Rice: \"The US would not act to p...</td>\n",
              "      <td>b'This is a busy day:  The European Union has ...</td>\n",
              "      <td>b\"Georgia will withdraw 1,000 soldiers from Ir...</td>\n",
              "      <td>b'Why the Pentagon Thinks Attacking Iran is a ...</td>\n",
              "      <td>b'Caucasus in crisis: Georgia invades South Os...</td>\n",
              "      <td>b'Indian shoe manufactory  - And again in a se...</td>\n",
              "      <td>b'Visitors Suffering from Mental Illnesses Ban...</td>\n",
              "      <td>b\"No Help for Mexico's Kidnapping Surge\"</td>\n",
              "    </tr>\n",
              "    <tr>\n",
              "      <th>1</th>\n",
              "      <td>2008-08-11</td>\n",
              "      <td>1</td>\n",
              "      <td>b'Why wont America and Nato help us? If they w...</td>\n",
              "      <td>b'Bush puts foot down on Georgian conflict'</td>\n",
              "      <td>b\"Jewish Georgian minister: Thanks to Israeli ...</td>\n",
              "      <td>b'Georgian army flees in disarray as Russians ...</td>\n",
              "      <td>b\"Olympic opening ceremony fireworks 'faked'\"</td>\n",
              "      <td>b'What were the Mossad with fraudulent New Zea...</td>\n",
              "      <td>b'Russia angered by Israeli military sale to G...</td>\n",
              "      <td>b'An American citizen living in S.Ossetia blam...</td>\n",
              "      <td>b'Welcome To World War IV! Now In High Definit...</td>\n",
              "      <td>b\"Georgia's move, a mistake of monumental prop...</td>\n",
              "      <td>b'Russia presses deeper into Georgia; U.S. say...</td>\n",
              "      <td>b'Abhinav Bindra wins first ever Individual Ol...</td>\n",
              "      <td>b' U.S. ship heads for Arctic to define territ...</td>\n",
              "      <td>b'Drivers in a Jerusalem taxi station threaten...</td>\n",
              "      <td>b'The French Team is Stunned by Phelps and the...</td>\n",
              "      <td>b'Israel and the US behind the Georgian aggres...</td>\n",
              "      <td>b'\"Do not believe TV, neither Russian nor Geor...</td>\n",
              "      <td>b'Riots are still going on in Montreal (Canada...</td>\n",
              "      <td>b'China to overtake US as largest manufacturer'</td>\n",
              "      <td>b'War in South Ossetia [PICS]'</td>\n",
              "      <td>b'Israeli Physicians Group Condemns State Tort...</td>\n",
              "      <td>b' Russia has just beaten the United States ov...</td>\n",
              "      <td>b'Perhaps *the* question about the Georgia - R...</td>\n",
              "      <td>b'Russia is so much better at war'</td>\n",
              "      <td>b\"So this is what it's come to: trading sex fo...</td>\n",
              "    </tr>\n",
              "    <tr>\n",
              "      <th>2</th>\n",
              "      <td>2008-08-12</td>\n",
              "      <td>0</td>\n",
              "      <td>b'Remember that adorable 9-year-old who sang a...</td>\n",
              "      <td>b\"Russia 'ends Georgia operation'\"</td>\n",
              "      <td>b'\"If we had no sexual harassment we would hav...</td>\n",
              "      <td>b\"Al-Qa'eda is losing support in Iraq because ...</td>\n",
              "      <td>b'Ceasefire in Georgia: Putin Outmaneuvers the...</td>\n",
              "      <td>b'Why Microsoft and Intel tried to kill the XO...</td>\n",
              "      <td>b'Stratfor: The Russo-Georgian War and the Bal...</td>\n",
              "      <td>b\"I'm Trying to Get a Sense of This Whole Geor...</td>\n",
              "      <td>b\"The US military was surprised by the timing ...</td>\n",
              "      <td>b'U.S. Beats War Drum as Iran Dumps the Dollar'</td>\n",
              "      <td>b'Gorbachev: \"Georgian military attacked the S...</td>\n",
              "      <td>b'CNN use footage of Tskhinvali ruins to cover...</td>\n",
              "      <td>b'Beginning a war as the Olympics were opening...</td>\n",
              "      <td>b'55 pyramids as large as the Luxor stacked in...</td>\n",
              "      <td>b'The 11 Top Party Cities in the World'</td>\n",
              "      <td>b'U.S. troops still in Georgia (did you know t...</td>\n",
              "      <td>b'Why Russias response to Georgia was right'</td>\n",
              "      <td>b'Gorbachev accuses U.S. of making a \"serious ...</td>\n",
              "      <td>b'Russia, Georgia, and NATO: Cold War Two'</td>\n",
              "      <td>b'Remember that adorable 62-year-old who led y...</td>\n",
              "      <td>b'War in Georgia: The Israeli connection'</td>\n",
              "      <td>b'All signs point to the US encouraging Georgi...</td>\n",
              "      <td>b'Christopher King argues that the US and NATO...</td>\n",
              "      <td>b'America: The New Mexico?'</td>\n",
              "      <td>b\"BBC NEWS | Asia-Pacific | Extinction 'by man...</td>\n",
              "    </tr>\n",
              "    <tr>\n",
              "      <th>3</th>\n",
              "      <td>2008-08-13</td>\n",
              "      <td>0</td>\n",
              "      <td>b' U.S. refuses Israel weapons to attack Iran:...</td>\n",
              "      <td>b\"When the president ordered to attack Tskhinv...</td>\n",
              "      <td>b' Israel clears troops who killed Reuters cam...</td>\n",
              "      <td>b'Britain\\'s policy of being tough on drugs is...</td>\n",
              "      <td>b'Body of 14 year old found in trunk; Latest (...</td>\n",
              "      <td>b'China has moved 10 *million* quake survivors...</td>\n",
              "      <td>b\"Bush announces Operation Get All Up In Russi...</td>\n",
              "      <td>b'Russian forces sink Georgian ships '</td>\n",
              "      <td>b\"The commander of a Navy air reconnaissance s...</td>\n",
              "      <td>b\"92% of CNN readers: Russia's actions in Geor...</td>\n",
              "      <td>b'USA to send fleet into Black Sea to help Geo...</td>\n",
              "      <td>b\"US warns against Israeli plan to strike agai...</td>\n",
              "      <td>b\"In an intriguing cyberalliance, two Estonian...</td>\n",
              "      <td>b'The CNN Effect: Georgia Schools Russia in In...</td>\n",
              "      <td>b'Why Russias response to Georgia was right'</td>\n",
              "      <td>b'Elephants extinct by 2020?'</td>\n",
              "      <td>b'US humanitarian missions soon in Georgia - i...</td>\n",
              "      <td>b\"Georgia's DDOS came from US sources\"</td>\n",
              "      <td>b'Russian convoy heads into Georgia, violating...</td>\n",
              "      <td>b'Israeli defence minister: US against strike ...</td>\n",
              "      <td>b'Gorbachev: We Had No Choice'</td>\n",
              "      <td>b'Witness: Russian forces head towards Tbilisi...</td>\n",
              "      <td>b' Quarter of Russians blame U.S. for conflict...</td>\n",
              "      <td>b'Georgian president  says US military will ta...</td>\n",
              "      <td>b'2006: Nobel laureate Aleksander Solzhenitsyn...</td>\n",
              "    </tr>\n",
              "    <tr>\n",
              "      <th>4</th>\n",
              "      <td>2008-08-14</td>\n",
              "      <td>1</td>\n",
              "      <td>b'All the experts admit that we should legalis...</td>\n",
              "      <td>b'War in South Osetia - 89 pictures made by a ...</td>\n",
              "      <td>b'Swedish wrestler Ara Abrahamian throws away ...</td>\n",
              "      <td>b'Russia exaggerated the death toll in South O...</td>\n",
              "      <td>b'Missile That Killed 9 Inside Pakistan May Ha...</td>\n",
              "      <td>b\"Rushdie Condemns Random House's Refusal to P...</td>\n",
              "      <td>b'Poland and US agree to missle defense deal. ...</td>\n",
              "      <td>b'Will the Russians conquer Tblisi? Bet on it,...</td>\n",
              "      <td>b'Russia exaggerating South Ossetian death tol...</td>\n",
              "      <td>b' Musharraf expected to resign rather than fa...</td>\n",
              "      <td>b'Moscow Made Plans Months Ago to Invade Georgia'</td>\n",
              "      <td>b'Why Russias response to Georgia was right'</td>\n",
              "      <td>b'Nigeria has handed over the potentially oil-...</td>\n",
              "      <td>b'The US and Poland have agreed a preliminary ...</td>\n",
              "      <td>b'Russia apparently is sabotaging infrastructu...</td>\n",
              "      <td>b'Bank analyst forecast Georgian crisis 2 days...</td>\n",
              "      <td>b\"Georgia confict could set back Russia's US r...</td>\n",
              "      <td>b'War in the Caucasus is as much the product o...</td>\n",
              "      <td>b'\"Non-media\" photos of South Ossetia/Georgia ...</td>\n",
              "      <td>b'Georgian TV reporter shot by Russian sniper ...</td>\n",
              "      <td>b'Saudi Arabia: Mother moves to block child ma...</td>\n",
              "      <td>b'Taliban wages war on humanitarian aid workers'</td>\n",
              "      <td>b'Russia: World  \"can forget about\" Georgia\\'s...</td>\n",
              "      <td>b'Darfur rebels accuse Sudan of mounting major...</td>\n",
              "      <td>b'Philippines : Peace Advocate say Muslims nee...</td>\n",
              "    </tr>\n",
              "    <tr>\n",
              "      <th>...</th>\n",
              "      <td>...</td>\n",
              "      <td>...</td>\n",
              "      <td>...</td>\n",
              "      <td>...</td>\n",
              "      <td>...</td>\n",
              "      <td>...</td>\n",
              "      <td>...</td>\n",
              "      <td>...</td>\n",
              "      <td>...</td>\n",
              "      <td>...</td>\n",
              "      <td>...</td>\n",
              "      <td>...</td>\n",
              "      <td>...</td>\n",
              "      <td>...</td>\n",
              "      <td>...</td>\n",
              "      <td>...</td>\n",
              "      <td>...</td>\n",
              "      <td>...</td>\n",
              "      <td>...</td>\n",
              "      <td>...</td>\n",
              "      <td>...</td>\n",
              "      <td>...</td>\n",
              "      <td>...</td>\n",
              "      <td>...</td>\n",
              "      <td>...</td>\n",
              "      <td>...</td>\n",
              "      <td>...</td>\n",
              "    </tr>\n",
              "    <tr>\n",
              "      <th>1984</th>\n",
              "      <td>2016-06-27</td>\n",
              "      <td>0</td>\n",
              "      <td>Barclays and RBS shares suspended from trading...</td>\n",
              "      <td>Pope says Church should ask forgiveness from g...</td>\n",
              "      <td>Poland 'shocked' by xenophobic abuse of Poles ...</td>\n",
              "      <td>There will be no second referendum, cabinet ag...</td>\n",
              "      <td>Scotland welcome to join EU, Merkel ally says</td>\n",
              "      <td>Sterling dips below Friday's 31-year low amid ...</td>\n",
              "      <td>No negative news about South African President...</td>\n",
              "      <td>Surge in Hate Crimes in the U.K. Following U.K...</td>\n",
              "      <td>Weapons shipped into Jordan by the CIA and Sau...</td>\n",
              "      <td>Angela Merkel said the U.K. must file exit pap...</td>\n",
              "      <td>In a birth offering hope to a threatened speci...</td>\n",
              "      <td>Sky News Journalist Left Speechless As Leave M...</td>\n",
              "      <td>Giant panda in Macau gives birth to twins</td>\n",
              "      <td>Get out now: EU leader tells Britain it must i...</td>\n",
              "      <td>Sea turtle 'beaten and left for dead' on beach...</td>\n",
              "      <td>German lawyers to probe Erdogan over alleged w...</td>\n",
              "      <td>Boris Johnson says the UK will continue to \"in...</td>\n",
              "      <td>Richard Branson is calling on the UK governmen...</td>\n",
              "      <td>Turkey 'sorry for downing Russian jet'</td>\n",
              "      <td>Edward Snowden lawyer vows new push for pardon...</td>\n",
              "      <td>Brexit opinion poll reveals majority don't wan...</td>\n",
              "      <td>Conservative MP Leave Campaigner: \"The leave c...</td>\n",
              "      <td>Economists predict UK recession, further weake...</td>\n",
              "      <td>New EU 'superstate plan by France, Germany: Cr...</td>\n",
              "      <td>Pakistani clerics declare transgender marriage...</td>\n",
              "    </tr>\n",
              "    <tr>\n",
              "      <th>1985</th>\n",
              "      <td>2016-06-28</td>\n",
              "      <td>1</td>\n",
              "      <td>2,500 Scientists To Australia: If You Want To ...</td>\n",
              "      <td>The personal details of 112,000 French police ...</td>\n",
              "      <td>S&amp;amp;P cuts United Kingdom sovereign credit r...</td>\n",
              "      <td>Huge helium deposit found in Africa</td>\n",
              "      <td>CEO of the South African state broadcaster qui...</td>\n",
              "      <td>Brexit cost investors $2 trillion, the worst o...</td>\n",
              "      <td>Hong Kong democracy activists call for return ...</td>\n",
              "      <td>Brexit: Iceland president says UK can join 'tr...</td>\n",
              "      <td>UK's Osborne: 'Absolutely' going to have to cu...</td>\n",
              "      <td>'Do not let Scotland down now' : Scottish MEP ...</td>\n",
              "      <td>British pound could hit history-making dollar ...</td>\n",
              "      <td>Merkel vows to strengthen EU, tells UK no 'che...</td>\n",
              "      <td>\"Ryanair will not deploy new aircraft on route...</td>\n",
              "      <td>People, ever more greedy and stupid, destroy t...</td>\n",
              "      <td>Siemens freezes new UK wind power investment f...</td>\n",
              "      <td>US, Canada and Mexico pledge 50% of power from...</td>\n",
              "      <td>There is increasing evidence that Australia is...</td>\n",
              "      <td>Richard Branson, the founder of Virgin Group, ...</td>\n",
              "      <td>37,000-yr-old skull from Borneo reveals surpri...</td>\n",
              "      <td>Palestinians stone Western Wall worshipers; po...</td>\n",
              "      <td>Jean-Claude Juncker asks Farage: Why are you h...</td>\n",
              "      <td>\"Romanians for Remainians\" offering a new home...</td>\n",
              "      <td>Brexit: Gibraltar in talks with Scotland to st...</td>\n",
              "      <td>8 Suicide Bombers Strike Lebanon</td>\n",
              "      <td>Mexico's security forces routinely use 'sexual...</td>\n",
              "    </tr>\n",
              "    <tr>\n",
              "      <th>1986</th>\n",
              "      <td>2016-06-29</td>\n",
              "      <td>1</td>\n",
              "      <td>Explosion At Airport In Istanbul</td>\n",
              "      <td>Yemeni former president: Terrorism is the offs...</td>\n",
              "      <td>UK must accept freedom of movement to access E...</td>\n",
              "      <td>Devastated: scientists too late to captive bre...</td>\n",
              "      <td>British Labor Party leader Jeremy Corbyn loses...</td>\n",
              "      <td>A Muslim Shop in the UK Was Just Firebombed Wh...</td>\n",
              "      <td>Mexican Authorities Sexually Torture Women in ...</td>\n",
              "      <td>UK shares and pound continue to recover</td>\n",
              "      <td>Iceland historian Johannesson wins presidentia...</td>\n",
              "      <td>99-Million-Yr-Old Bird Wings Found Encased in ...</td>\n",
              "      <td>A chatbot programmed by a British teenager has...</td>\n",
              "      <td>The Philippine president-elect said Monday he ...</td>\n",
              "      <td>Former Belgian Prime Minister ridicules Nigel ...</td>\n",
              "      <td>Brexiteer Nigel Farage To EU: 'You're Not Laug...</td>\n",
              "      <td>Islamic State bombings in southern Yemen kill ...</td>\n",
              "      <td>Escape Tunnel, Dug by Hand, Is Found at Holoca...</td>\n",
              "      <td>The land under Beijing is sinking by as much a...</td>\n",
              "      <td>Car bomb and Anti-Islamic attack on Mosque in ...</td>\n",
              "      <td>Emaciated lions in Taiz Zoo are trapped in blo...</td>\n",
              "      <td>Rupert Murdoch describes Brexit as 'wonderful'...</td>\n",
              "      <td>More than 40 killed in Yemen suicide attacks</td>\n",
              "      <td>Google Found Disastrous Symantec and Norton Vu...</td>\n",
              "      <td>Extremist violence on the rise in Germany: Dom...</td>\n",
              "      <td>BBC News: Labour MPs pass Corbyn no-confidence...</td>\n",
              "      <td>Tiny New Zealand town with 'too many jobs' lau...</td>\n",
              "    </tr>\n",
              "    <tr>\n",
              "      <th>1987</th>\n",
              "      <td>2016-06-30</td>\n",
              "      <td>1</td>\n",
              "      <td>Jamaica proposes marijuana dispensers for tour...</td>\n",
              "      <td>Stephen Hawking says pollution and 'stupidity'...</td>\n",
              "      <td>Boris Johnson says he will not run for Tory pa...</td>\n",
              "      <td>Six gay men in Ivory Coast were abused and for...</td>\n",
              "      <td>Switzerland denies citizenship to Muslim immig...</td>\n",
              "      <td>Palestinian terrorist stabs israeli teen girl ...</td>\n",
              "      <td>Puerto Rico will default on $1 billion of debt...</td>\n",
              "      <td>Republic of Ireland fans to be awarded medal f...</td>\n",
              "      <td>Afghan suicide bomber 'kills up to 40' - BBC News</td>\n",
              "      <td>US airstrikes kill at least 250 ISIS fighters ...</td>\n",
              "      <td>Turkish Cop Who Took Down Istanbul Gunman Hail...</td>\n",
              "      <td>Cannabis compounds could treat Alzheimer's by ...</td>\n",
              "      <td>Japan's top court has approved blanket surveil...</td>\n",
              "      <td>CIA Gave Romania Millions to Host Secret Prisons</td>\n",
              "      <td>Groups urge U.N. to suspend Saudi Arabia from ...</td>\n",
              "      <td>Googles free wifi at Indian railway stations i...</td>\n",
              "      <td>Mounting evidence suggests 'hobbits' were wipe...</td>\n",
              "      <td>The men who carried out Tuesday's terror attac...</td>\n",
              "      <td>Calls to suspend Saudi Arabia from UN Human Ri...</td>\n",
              "      <td>More Than 100 Nobel Laureates Call Out Greenpe...</td>\n",
              "      <td>British pedophile sentenced to 85 years in US ...</td>\n",
              "      <td>US permitted 1,200 offshore fracks in Gulf of ...</td>\n",
              "      <td>We will be swimming in ridicule - French beach...</td>\n",
              "      <td>UEFA says no minutes of silence for Istanbul v...</td>\n",
              "      <td>Law Enforcement Sources: Gun Used in Paris Ter...</td>\n",
              "    </tr>\n",
              "    <tr>\n",
              "      <th>1988</th>\n",
              "      <td>2016-07-01</td>\n",
              "      <td>1</td>\n",
              "      <td>A 117-year-old woman in Mexico City finally re...</td>\n",
              "      <td>IMF chief backs Athens as permanent Olympic host</td>\n",
              "      <td>The president of France says if Brexit won, so...</td>\n",
              "      <td>British Man Who Must Give Police 24 Hours' Not...</td>\n",
              "      <td>100+ Nobel laureates urge Greenpeace to stop o...</td>\n",
              "      <td>Brazil: Huge spike in number of police killing...</td>\n",
              "      <td>Austria's highest court annuls presidential el...</td>\n",
              "      <td>Facebook wins privacy case, can track any Belg...</td>\n",
              "      <td>Switzerland denies Muslim girls citizenship af...</td>\n",
              "      <td>China kills millions of innocent meditators fo...</td>\n",
              "      <td>France Cracks Down on Factory Farms - A viral ...</td>\n",
              "      <td>Abbas PLO Faction Calls Killer of 13-Year-Old ...</td>\n",
              "      <td>Taiwanese warship accidentally fires missile t...</td>\n",
              "      <td>Iran celebrates American Human Rights Week, mo...</td>\n",
              "      <td>U.N. panel moves to curb bias against L.G.B.T....</td>\n",
              "      <td>The United States has placed Myanmar, Uzbekist...</td>\n",
              "      <td>S&amp;amp;P revises European Union credit rating t...</td>\n",
              "      <td>India gets $1 billion loan from World Bank for...</td>\n",
              "      <td>U.S. sailors detained by Iran spoke too much u...</td>\n",
              "      <td>Mass fish kill in Vietnam solved as Taiwan ste...</td>\n",
              "      <td>Philippines president Rodrigo Duterte urges pe...</td>\n",
              "      <td>Spain arrests three Pakistanis accused of prom...</td>\n",
              "      <td>Venezuela, where anger over food shortages is ...</td>\n",
              "      <td>A Hindu temple worker has been killed by three...</td>\n",
              "      <td>Ozone layer hole seems to be healing - US &amp;amp...</td>\n",
              "    </tr>\n",
              "  </tbody>\n",
              "</table>\n",
              "<p>1989 rows × 27 columns</p>\n",
              "</div>"
            ],
            "text/plain": [
              "            Date  ...                                              Top25\n",
              "0     2008-08-08  ...           b\"No Help for Mexico's Kidnapping Surge\"\n",
              "1     2008-08-11  ...  b\"So this is what it's come to: trading sex fo...\n",
              "2     2008-08-12  ...  b\"BBC NEWS | Asia-Pacific | Extinction 'by man...\n",
              "3     2008-08-13  ...  b'2006: Nobel laureate Aleksander Solzhenitsyn...\n",
              "4     2008-08-14  ...  b'Philippines : Peace Advocate say Muslims nee...\n",
              "...          ...  ...                                                ...\n",
              "1984  2016-06-27  ...  Pakistani clerics declare transgender marriage...\n",
              "1985  2016-06-28  ...  Mexico's security forces routinely use 'sexual...\n",
              "1986  2016-06-29  ...  Tiny New Zealand town with 'too many jobs' lau...\n",
              "1987  2016-06-30  ...  Law Enforcement Sources: Gun Used in Paris Ter...\n",
              "1988  2016-07-01  ...  Ozone layer hole seems to be healing - US &amp...\n",
              "\n",
              "[1989 rows x 27 columns]"
            ]
          },
          "metadata": {
            "tags": []
          },
          "execution_count": 37
        }
      ]
    },
    {
      "cell_type": "code",
      "metadata": {
        "colab": {
          "base_uri": "https://localhost:8080/",
          "height": 424
        },
        "id": "5GEH2YUNdAhg",
        "outputId": "89f05009-f018-4e85-c000-bdbcdac92e13"
      },
      "source": [
        "import pandas as pd\n",
        "\n",
        "#reshape reddit data to match news headlines\n",
        "\n",
        "r_data =  pd.read_csv('/content/stock_news/RedditNews.csv')\n",
        "foo = lambda a: \" / \".join(a) \n",
        "reddit_data = r_data.groupby(by=['Date']).agg({'News':foo}).reset_index()\n",
        "reddit_data"
      ],
      "execution_count": 18,
      "outputs": [
        {
          "output_type": "execute_result",
          "data": {
            "text/html": [
              "<div>\n",
              "<style scoped>\n",
              "    .dataframe tbody tr th:only-of-type {\n",
              "        vertical-align: middle;\n",
              "    }\n",
              "\n",
              "    .dataframe tbody tr th {\n",
              "        vertical-align: top;\n",
              "    }\n",
              "\n",
              "    .dataframe thead th {\n",
              "        text-align: right;\n",
              "    }\n",
              "</style>\n",
              "<table border=\"1\" class=\"dataframe\">\n",
              "  <thead>\n",
              "    <tr style=\"text-align: right;\">\n",
              "      <th></th>\n",
              "      <th>Date</th>\n",
              "      <th>News</th>\n",
              "    </tr>\n",
              "  </thead>\n",
              "  <tbody>\n",
              "    <tr>\n",
              "      <th>0</th>\n",
              "      <td>2008-06-08</td>\n",
              "      <td>b'Nim Chimpsky: The tragedy of the chimp who t...</td>\n",
              "    </tr>\n",
              "    <tr>\n",
              "      <th>1</th>\n",
              "      <td>2008-06-09</td>\n",
              "      <td>b'United States quits Human Rights Council' / ...</td>\n",
              "    </tr>\n",
              "    <tr>\n",
              "      <th>2</th>\n",
              "      <td>2008-06-10</td>\n",
              "      <td>b'Oil shortage a myth, says industry insider' ...</td>\n",
              "    </tr>\n",
              "    <tr>\n",
              "      <th>3</th>\n",
              "      <td>2008-06-11</td>\n",
              "      <td>b'BBC uncovers lost Iraq billions' / b'War Cri...</td>\n",
              "    </tr>\n",
              "    <tr>\n",
              "      <th>4</th>\n",
              "      <td>2008-06-12</td>\n",
              "      <td>b'Did US attack Pakistan last night? \"Pakistan...</td>\n",
              "    </tr>\n",
              "    <tr>\n",
              "      <th>...</th>\n",
              "      <td>...</td>\n",
              "      <td>...</td>\n",
              "    </tr>\n",
              "    <tr>\n",
              "      <th>2938</th>\n",
              "      <td>2016-06-27</td>\n",
              "      <td>Barclays and RBS shares suspended from trading...</td>\n",
              "    </tr>\n",
              "    <tr>\n",
              "      <th>2939</th>\n",
              "      <td>2016-06-28</td>\n",
              "      <td>2,500 Scientists To Australia: If You Want To ...</td>\n",
              "    </tr>\n",
              "    <tr>\n",
              "      <th>2940</th>\n",
              "      <td>2016-06-29</td>\n",
              "      <td>Explosion At Airport In Istanbul / Yemeni form...</td>\n",
              "    </tr>\n",
              "    <tr>\n",
              "      <th>2941</th>\n",
              "      <td>2016-06-30</td>\n",
              "      <td>Jamaica proposes marijuana dispensers for tour...</td>\n",
              "    </tr>\n",
              "    <tr>\n",
              "      <th>2942</th>\n",
              "      <td>2016-07-01</td>\n",
              "      <td>A 117-year-old woman in Mexico City finally re...</td>\n",
              "    </tr>\n",
              "  </tbody>\n",
              "</table>\n",
              "<p>2943 rows × 2 columns</p>\n",
              "</div>"
            ],
            "text/plain": [
              "            Date                                               News\n",
              "0     2008-06-08  b'Nim Chimpsky: The tragedy of the chimp who t...\n",
              "1     2008-06-09  b'United States quits Human Rights Council' / ...\n",
              "2     2008-06-10  b'Oil shortage a myth, says industry insider' ...\n",
              "3     2008-06-11  b'BBC uncovers lost Iraq billions' / b'War Cri...\n",
              "4     2008-06-12  b'Did US attack Pakistan last night? \"Pakistan...\n",
              "...          ...                                                ...\n",
              "2938  2016-06-27  Barclays and RBS shares suspended from trading...\n",
              "2939  2016-06-28  2,500 Scientists To Australia: If You Want To ...\n",
              "2940  2016-06-29  Explosion At Airport In Istanbul / Yemeni form...\n",
              "2941  2016-06-30  Jamaica proposes marijuana dispensers for tour...\n",
              "2942  2016-07-01  A 117-year-old woman in Mexico City finally re...\n",
              "\n",
              "[2943 rows x 2 columns]"
            ]
          },
          "metadata": {
            "tags": []
          },
          "execution_count": 18
        }
      ]
    },
    {
      "cell_type": "markdown",
      "metadata": {
        "id": "905W_TKbwEmp"
      },
      "source": [
        "### Stock data class"
      ]
    },
    {
      "cell_type": "code",
      "metadata": {
        "id": "9NxyVtBzcyMQ"
      },
      "source": [
        "# class for stock data\n",
        "import os\n",
        "import pandas as pd\n",
        "from datetime import datetime, date\n",
        "from sklearn.metrics import classification_report, confusion_matrix, accuracy_score\n",
        "import matplotlib.pyplot as plt \n",
        "%matplotlib inline\n",
        "\n",
        "class Stock_data():\n",
        "  \n",
        "  def __init__(self, symbol, historical = True, timeframe = 'daily', source_folder = '/content/stock_data/data/daily/us'):\n",
        "    self.symbol = symbol + '.us.txt'\n",
        "    self.historical = historical\n",
        "    self.timeframe = timeframe\n",
        "    self.source_folder = source_folder\n",
        "    self.data = pd.DataFrame()\n",
        "\n",
        "    # get csv path from symbol by searching\n",
        "    for root, dirs, files in os.walk(self.source_folder):\n",
        "      if self.symbol in files:\n",
        "        self.csv_path = os.path.join(root, self.symbol)\n",
        "\n",
        "    if not self.csv_path:\n",
        "      print('Error, symbol not found')\n",
        "  \n",
        "    # import data\n",
        "    if historical == True & bool(timeframe == 'daily'):\n",
        "      self.import_data()\n",
        "\n",
        "  # function for importing data\n",
        "  def import_data(self):\n",
        "    self.data = pd.read_csv(self.csv_path, parse_dates=['<DATE>'],\n",
        "                            date_parser=lambda x: datetime.strptime(x, '%Y%m%d')) #index_col = '<DATE>', \n",
        "\n",
        "  # removes excess columns\n",
        "  def clean_data(self):\n",
        "    del self.data['<TICKER>']\n",
        "    del self.data['<PER>']\n",
        "    del self.data['<OPENINT>']\n",
        "    del self.data['<TIME>']\n",
        "\n",
        "  # gets data from a range of dates\n",
        "  def get_daterange(self, start_date, end_date, data = 0):\n",
        "    if data:\n",
        "      temp_data = data\n",
        "    else:\n",
        "      temp_data = data\n",
        "\n",
        "    temp_data = temp_data.loc[(temp_data['<DATE>'] <= end_date) & (temp_data['<DATE>'] >= start_date)]\n",
        "    temp_data = temp_data.reset_index()\n",
        "    return temp_data\n",
        "\n",
        "  # returns input data with a binary label depending on if the stock price went up or down that day\n",
        "  def get_binarylabel(self, data):\n",
        "    if data:\n",
        "      temp_data = data\n",
        "    else:\n",
        "      temp_data = data\n",
        "\n",
        "    temp_data.loc[temp_data['<CLOSE>'] - temp_data['<OPEN>'] > 0, 'Label'] = int(1)\n",
        "    temp_data.loc[temp_data['<CLOSE>'] - temp_data['<OPEN>'] <= 0, 'Label'] = int(0)\n",
        "    return temp_data\n",
        "\n",
        "  def get_laggedbinarylabel(self, lag=1, data = 0):\n",
        "    if data:\n",
        "      temp_data = data\n",
        "    else:\n",
        "      temp_data = data\n",
        "\n",
        "    temp_data.loc[temp_data['<CLOSE>'] - temp_data['<OPEN>'] > 0, 'Label'] = int(1)\n",
        "    temp_data.loc[temp_data['<CLOSE>'] - temp_data['<OPEN>'] <= 0, 'Label'] = int(0)\n",
        "    return temp_data\n",
        "\n",
        "  def get_renamed(self):\n",
        "    return self.data.rename(columns = {'<DATE>':'Date', '<OPEN>':'Open', '<HIGH>':'High', '<LOW>':'Low', '<CLOSE>':'Close', '<VOL>':'Vol'}, inplace = True) \n",
        "\n",
        "  def set_data(self, dataframe):\n",
        "    self.data = dataframe\n",
        "\n",
        "  def get_data(self):\n",
        "    return self.data\n",
        "\n",
        "\n",
        "# function to report performance metrics\n",
        "def report(labels, predictions):\n",
        "\n",
        "  # Report accuracy on test data\n",
        "  matrix = confusion_matrix(labels, predictions)\n",
        "  print('Confusion Matrix')\n",
        "  print(matrix)\n",
        "  print()\n",
        "  score = accuracy_score(labels, predictions)\n",
        "  print('Overall prediction accuracy: ' + str(score) + '\\n')\n",
        "  report = classification_report(labels, predictions)\n",
        "  print('Classification Report: ')\n",
        "  print(report)\n"
      ],
      "execution_count": 33,
      "outputs": []
    },
    {
      "cell_type": "code",
      "metadata": {
        "colab": {
          "base_uri": "https://localhost:8080/"
        },
        "id": "xy6B2EXr2v6e",
        "outputId": "00910472-b458-4fb4-d1b9-19d3f9b24c84"
      },
      "source": [
        "# import stock data by setting up data class\n",
        "# imports djia data (dia etf)\n",
        "dia_data = Stock_data('dia')\n",
        "# uses clean function of data class to remove excess columns\n",
        "dia_data.clean_data()\n",
        "\n",
        "# same for s&p 500 (spy etc) dataset\n",
        "spy_data = Stock_data('spy')\n",
        "spy_data.clean_data()\n",
        "\n",
        "# same for nasdaq (qqq)\n",
        "qqq_data = Stock_data('qqq')\n",
        "qqq_data.clean_data()\n",
        "\n",
        "# make sure data looks right\n",
        "print(dia_data.data)"
      ],
      "execution_count": 42,
      "outputs": [
        {
          "output_type": "stream",
          "text": [
            "         <DATE>    <OPEN>    <HIGH>    <LOW>  <CLOSE>     <VOL>\n",
            "0    2005-02-25   87.6640   88.4780   87.571   88.428   6101982\n",
            "1    2005-02-28   88.2250   88.9380   87.535   87.891   9135557\n",
            "2    2005-03-01   87.9500   88.5290   87.950   88.324   6510615\n",
            "3    2005-03-02   87.9850   88.7010   87.932   88.192   9343052\n",
            "4    2005-03-03   88.4780   88.6830   87.836   88.341  10124004\n",
            "...         ...       ...       ...      ...      ...       ...\n",
            "4009 2021-02-01  302.2800  303.3500  300.140  302.020   3138644\n",
            "4010 2021-02-02  304.5399  308.4300  304.520  306.820   3090522\n",
            "4011 2021-02-03  306.1000  307.9353  305.180  307.260   2087820\n",
            "4012 2021-02-04  307.8500  310.6700  307.770  310.670   2638783\n",
            "4013 2021-02-05  312.3600  312.5500  310.870  311.540   1955091\n",
            "\n",
            "[4014 rows x 6 columns]\n"
          ],
          "name": "stdout"
        }
      ]
    },
    {
      "cell_type": "markdown",
      "metadata": {
        "id": "NVAs5Dee04nC"
      },
      "source": [
        "## Sentiment Analysis"
      ]
    },
    {
      "cell_type": "code",
      "metadata": {
        "colab": {
          "base_uri": "https://localhost:8080/",
          "height": 1000
        },
        "id": "MdLHIvItBPb4",
        "outputId": "e5cb0539-4b46-465d-ddf3-ef63a19f40cc"
      },
      "source": [
        "# Displaying news headlines dataset\n",
        "\n",
        "df = pd.read_csv('stock_news/Combined_News_DJIA.csv')\n",
        "df"
      ],
      "execution_count": 21,
      "outputs": [
        {
          "output_type": "execute_result",
          "data": {
            "text/html": [
              "<div>\n",
              "<style scoped>\n",
              "    .dataframe tbody tr th:only-of-type {\n",
              "        vertical-align: middle;\n",
              "    }\n",
              "\n",
              "    .dataframe tbody tr th {\n",
              "        vertical-align: top;\n",
              "    }\n",
              "\n",
              "    .dataframe thead th {\n",
              "        text-align: right;\n",
              "    }\n",
              "</style>\n",
              "<table border=\"1\" class=\"dataframe\">\n",
              "  <thead>\n",
              "    <tr style=\"text-align: right;\">\n",
              "      <th></th>\n",
              "      <th>Date</th>\n",
              "      <th>Label</th>\n",
              "      <th>Top1</th>\n",
              "      <th>Top2</th>\n",
              "      <th>Top3</th>\n",
              "      <th>Top4</th>\n",
              "      <th>Top5</th>\n",
              "      <th>Top6</th>\n",
              "      <th>Top7</th>\n",
              "      <th>Top8</th>\n",
              "      <th>Top9</th>\n",
              "      <th>Top10</th>\n",
              "      <th>Top11</th>\n",
              "      <th>Top12</th>\n",
              "      <th>Top13</th>\n",
              "      <th>Top14</th>\n",
              "      <th>Top15</th>\n",
              "      <th>Top16</th>\n",
              "      <th>Top17</th>\n",
              "      <th>Top18</th>\n",
              "      <th>Top19</th>\n",
              "      <th>Top20</th>\n",
              "      <th>Top21</th>\n",
              "      <th>Top22</th>\n",
              "      <th>Top23</th>\n",
              "      <th>Top24</th>\n",
              "      <th>Top25</th>\n",
              "    </tr>\n",
              "  </thead>\n",
              "  <tbody>\n",
              "    <tr>\n",
              "      <th>0</th>\n",
              "      <td>2008-08-08</td>\n",
              "      <td>0</td>\n",
              "      <td>b\"Georgia 'downs two Russian warplanes' as cou...</td>\n",
              "      <td>b'BREAKING: Musharraf to be impeached.'</td>\n",
              "      <td>b'Russia Today: Columns of troops roll into So...</td>\n",
              "      <td>b'Russian tanks are moving towards the capital...</td>\n",
              "      <td>b\"Afghan children raped with 'impunity,' U.N. ...</td>\n",
              "      <td>b'150 Russian tanks have entered South Ossetia...</td>\n",
              "      <td>b\"Breaking: Georgia invades South Ossetia, Rus...</td>\n",
              "      <td>b\"The 'enemy combatent' trials are nothing but...</td>\n",
              "      <td>b'Georgian troops retreat from S. Osettain cap...</td>\n",
              "      <td>b'Did the U.S. Prep Georgia for War with Russia?'</td>\n",
              "      <td>b'Rice Gives Green Light for Israel to Attack ...</td>\n",
              "      <td>b'Announcing:Class Action Lawsuit on Behalf of...</td>\n",
              "      <td>b\"So---Russia and Georgia are at war and the N...</td>\n",
              "      <td>b\"China tells Bush to stay out of other countr...</td>\n",
              "      <td>b'Did World War III start today?'</td>\n",
              "      <td>b'Georgia Invades South Ossetia - if Russia ge...</td>\n",
              "      <td>b'Al-Qaeda Faces Islamist Backlash'</td>\n",
              "      <td>b'Condoleezza Rice: \"The US would not act to p...</td>\n",
              "      <td>b'This is a busy day:  The European Union has ...</td>\n",
              "      <td>b\"Georgia will withdraw 1,000 soldiers from Ir...</td>\n",
              "      <td>b'Why the Pentagon Thinks Attacking Iran is a ...</td>\n",
              "      <td>b'Caucasus in crisis: Georgia invades South Os...</td>\n",
              "      <td>b'Indian shoe manufactory  - And again in a se...</td>\n",
              "      <td>b'Visitors Suffering from Mental Illnesses Ban...</td>\n",
              "      <td>b\"No Help for Mexico's Kidnapping Surge\"</td>\n",
              "    </tr>\n",
              "    <tr>\n",
              "      <th>1</th>\n",
              "      <td>2008-08-11</td>\n",
              "      <td>1</td>\n",
              "      <td>b'Why wont America and Nato help us? If they w...</td>\n",
              "      <td>b'Bush puts foot down on Georgian conflict'</td>\n",
              "      <td>b\"Jewish Georgian minister: Thanks to Israeli ...</td>\n",
              "      <td>b'Georgian army flees in disarray as Russians ...</td>\n",
              "      <td>b\"Olympic opening ceremony fireworks 'faked'\"</td>\n",
              "      <td>b'What were the Mossad with fraudulent New Zea...</td>\n",
              "      <td>b'Russia angered by Israeli military sale to G...</td>\n",
              "      <td>b'An American citizen living in S.Ossetia blam...</td>\n",
              "      <td>b'Welcome To World War IV! Now In High Definit...</td>\n",
              "      <td>b\"Georgia's move, a mistake of monumental prop...</td>\n",
              "      <td>b'Russia presses deeper into Georgia; U.S. say...</td>\n",
              "      <td>b'Abhinav Bindra wins first ever Individual Ol...</td>\n",
              "      <td>b' U.S. ship heads for Arctic to define territ...</td>\n",
              "      <td>b'Drivers in a Jerusalem taxi station threaten...</td>\n",
              "      <td>b'The French Team is Stunned by Phelps and the...</td>\n",
              "      <td>b'Israel and the US behind the Georgian aggres...</td>\n",
              "      <td>b'\"Do not believe TV, neither Russian nor Geor...</td>\n",
              "      <td>b'Riots are still going on in Montreal (Canada...</td>\n",
              "      <td>b'China to overtake US as largest manufacturer'</td>\n",
              "      <td>b'War in South Ossetia [PICS]'</td>\n",
              "      <td>b'Israeli Physicians Group Condemns State Tort...</td>\n",
              "      <td>b' Russia has just beaten the United States ov...</td>\n",
              "      <td>b'Perhaps *the* question about the Georgia - R...</td>\n",
              "      <td>b'Russia is so much better at war'</td>\n",
              "      <td>b\"So this is what it's come to: trading sex fo...</td>\n",
              "    </tr>\n",
              "    <tr>\n",
              "      <th>2</th>\n",
              "      <td>2008-08-12</td>\n",
              "      <td>0</td>\n",
              "      <td>b'Remember that adorable 9-year-old who sang a...</td>\n",
              "      <td>b\"Russia 'ends Georgia operation'\"</td>\n",
              "      <td>b'\"If we had no sexual harassment we would hav...</td>\n",
              "      <td>b\"Al-Qa'eda is losing support in Iraq because ...</td>\n",
              "      <td>b'Ceasefire in Georgia: Putin Outmaneuvers the...</td>\n",
              "      <td>b'Why Microsoft and Intel tried to kill the XO...</td>\n",
              "      <td>b'Stratfor: The Russo-Georgian War and the Bal...</td>\n",
              "      <td>b\"I'm Trying to Get a Sense of This Whole Geor...</td>\n",
              "      <td>b\"The US military was surprised by the timing ...</td>\n",
              "      <td>b'U.S. Beats War Drum as Iran Dumps the Dollar'</td>\n",
              "      <td>b'Gorbachev: \"Georgian military attacked the S...</td>\n",
              "      <td>b'CNN use footage of Tskhinvali ruins to cover...</td>\n",
              "      <td>b'Beginning a war as the Olympics were opening...</td>\n",
              "      <td>b'55 pyramids as large as the Luxor stacked in...</td>\n",
              "      <td>b'The 11 Top Party Cities in the World'</td>\n",
              "      <td>b'U.S. troops still in Georgia (did you know t...</td>\n",
              "      <td>b'Why Russias response to Georgia was right'</td>\n",
              "      <td>b'Gorbachev accuses U.S. of making a \"serious ...</td>\n",
              "      <td>b'Russia, Georgia, and NATO: Cold War Two'</td>\n",
              "      <td>b'Remember that adorable 62-year-old who led y...</td>\n",
              "      <td>b'War in Georgia: The Israeli connection'</td>\n",
              "      <td>b'All signs point to the US encouraging Georgi...</td>\n",
              "      <td>b'Christopher King argues that the US and NATO...</td>\n",
              "      <td>b'America: The New Mexico?'</td>\n",
              "      <td>b\"BBC NEWS | Asia-Pacific | Extinction 'by man...</td>\n",
              "    </tr>\n",
              "    <tr>\n",
              "      <th>3</th>\n",
              "      <td>2008-08-13</td>\n",
              "      <td>0</td>\n",
              "      <td>b' U.S. refuses Israel weapons to attack Iran:...</td>\n",
              "      <td>b\"When the president ordered to attack Tskhinv...</td>\n",
              "      <td>b' Israel clears troops who killed Reuters cam...</td>\n",
              "      <td>b'Britain\\'s policy of being tough on drugs is...</td>\n",
              "      <td>b'Body of 14 year old found in trunk; Latest (...</td>\n",
              "      <td>b'China has moved 10 *million* quake survivors...</td>\n",
              "      <td>b\"Bush announces Operation Get All Up In Russi...</td>\n",
              "      <td>b'Russian forces sink Georgian ships '</td>\n",
              "      <td>b\"The commander of a Navy air reconnaissance s...</td>\n",
              "      <td>b\"92% of CNN readers: Russia's actions in Geor...</td>\n",
              "      <td>b'USA to send fleet into Black Sea to help Geo...</td>\n",
              "      <td>b\"US warns against Israeli plan to strike agai...</td>\n",
              "      <td>b\"In an intriguing cyberalliance, two Estonian...</td>\n",
              "      <td>b'The CNN Effect: Georgia Schools Russia in In...</td>\n",
              "      <td>b'Why Russias response to Georgia was right'</td>\n",
              "      <td>b'Elephants extinct by 2020?'</td>\n",
              "      <td>b'US humanitarian missions soon in Georgia - i...</td>\n",
              "      <td>b\"Georgia's DDOS came from US sources\"</td>\n",
              "      <td>b'Russian convoy heads into Georgia, violating...</td>\n",
              "      <td>b'Israeli defence minister: US against strike ...</td>\n",
              "      <td>b'Gorbachev: We Had No Choice'</td>\n",
              "      <td>b'Witness: Russian forces head towards Tbilisi...</td>\n",
              "      <td>b' Quarter of Russians blame U.S. for conflict...</td>\n",
              "      <td>b'Georgian president  says US military will ta...</td>\n",
              "      <td>b'2006: Nobel laureate Aleksander Solzhenitsyn...</td>\n",
              "    </tr>\n",
              "    <tr>\n",
              "      <th>4</th>\n",
              "      <td>2008-08-14</td>\n",
              "      <td>1</td>\n",
              "      <td>b'All the experts admit that we should legalis...</td>\n",
              "      <td>b'War in South Osetia - 89 pictures made by a ...</td>\n",
              "      <td>b'Swedish wrestler Ara Abrahamian throws away ...</td>\n",
              "      <td>b'Russia exaggerated the death toll in South O...</td>\n",
              "      <td>b'Missile That Killed 9 Inside Pakistan May Ha...</td>\n",
              "      <td>b\"Rushdie Condemns Random House's Refusal to P...</td>\n",
              "      <td>b'Poland and US agree to missle defense deal. ...</td>\n",
              "      <td>b'Will the Russians conquer Tblisi? Bet on it,...</td>\n",
              "      <td>b'Russia exaggerating South Ossetian death tol...</td>\n",
              "      <td>b' Musharraf expected to resign rather than fa...</td>\n",
              "      <td>b'Moscow Made Plans Months Ago to Invade Georgia'</td>\n",
              "      <td>b'Why Russias response to Georgia was right'</td>\n",
              "      <td>b'Nigeria has handed over the potentially oil-...</td>\n",
              "      <td>b'The US and Poland have agreed a preliminary ...</td>\n",
              "      <td>b'Russia apparently is sabotaging infrastructu...</td>\n",
              "      <td>b'Bank analyst forecast Georgian crisis 2 days...</td>\n",
              "      <td>b\"Georgia confict could set back Russia's US r...</td>\n",
              "      <td>b'War in the Caucasus is as much the product o...</td>\n",
              "      <td>b'\"Non-media\" photos of South Ossetia/Georgia ...</td>\n",
              "      <td>b'Georgian TV reporter shot by Russian sniper ...</td>\n",
              "      <td>b'Saudi Arabia: Mother moves to block child ma...</td>\n",
              "      <td>b'Taliban wages war on humanitarian aid workers'</td>\n",
              "      <td>b'Russia: World  \"can forget about\" Georgia\\'s...</td>\n",
              "      <td>b'Darfur rebels accuse Sudan of mounting major...</td>\n",
              "      <td>b'Philippines : Peace Advocate say Muslims nee...</td>\n",
              "    </tr>\n",
              "    <tr>\n",
              "      <th>...</th>\n",
              "      <td>...</td>\n",
              "      <td>...</td>\n",
              "      <td>...</td>\n",
              "      <td>...</td>\n",
              "      <td>...</td>\n",
              "      <td>...</td>\n",
              "      <td>...</td>\n",
              "      <td>...</td>\n",
              "      <td>...</td>\n",
              "      <td>...</td>\n",
              "      <td>...</td>\n",
              "      <td>...</td>\n",
              "      <td>...</td>\n",
              "      <td>...</td>\n",
              "      <td>...</td>\n",
              "      <td>...</td>\n",
              "      <td>...</td>\n",
              "      <td>...</td>\n",
              "      <td>...</td>\n",
              "      <td>...</td>\n",
              "      <td>...</td>\n",
              "      <td>...</td>\n",
              "      <td>...</td>\n",
              "      <td>...</td>\n",
              "      <td>...</td>\n",
              "      <td>...</td>\n",
              "      <td>...</td>\n",
              "    </tr>\n",
              "    <tr>\n",
              "      <th>1984</th>\n",
              "      <td>2016-06-27</td>\n",
              "      <td>0</td>\n",
              "      <td>Barclays and RBS shares suspended from trading...</td>\n",
              "      <td>Pope says Church should ask forgiveness from g...</td>\n",
              "      <td>Poland 'shocked' by xenophobic abuse of Poles ...</td>\n",
              "      <td>There will be no second referendum, cabinet ag...</td>\n",
              "      <td>Scotland welcome to join EU, Merkel ally says</td>\n",
              "      <td>Sterling dips below Friday's 31-year low amid ...</td>\n",
              "      <td>No negative news about South African President...</td>\n",
              "      <td>Surge in Hate Crimes in the U.K. Following U.K...</td>\n",
              "      <td>Weapons shipped into Jordan by the CIA and Sau...</td>\n",
              "      <td>Angela Merkel said the U.K. must file exit pap...</td>\n",
              "      <td>In a birth offering hope to a threatened speci...</td>\n",
              "      <td>Sky News Journalist Left Speechless As Leave M...</td>\n",
              "      <td>Giant panda in Macau gives birth to twins</td>\n",
              "      <td>Get out now: EU leader tells Britain it must i...</td>\n",
              "      <td>Sea turtle 'beaten and left for dead' on beach...</td>\n",
              "      <td>German lawyers to probe Erdogan over alleged w...</td>\n",
              "      <td>Boris Johnson says the UK will continue to \"in...</td>\n",
              "      <td>Richard Branson is calling on the UK governmen...</td>\n",
              "      <td>Turkey 'sorry for downing Russian jet'</td>\n",
              "      <td>Edward Snowden lawyer vows new push for pardon...</td>\n",
              "      <td>Brexit opinion poll reveals majority don't wan...</td>\n",
              "      <td>Conservative MP Leave Campaigner: \"The leave c...</td>\n",
              "      <td>Economists predict UK recession, further weake...</td>\n",
              "      <td>New EU 'superstate plan by France, Germany: Cr...</td>\n",
              "      <td>Pakistani clerics declare transgender marriage...</td>\n",
              "    </tr>\n",
              "    <tr>\n",
              "      <th>1985</th>\n",
              "      <td>2016-06-28</td>\n",
              "      <td>1</td>\n",
              "      <td>2,500 Scientists To Australia: If You Want To ...</td>\n",
              "      <td>The personal details of 112,000 French police ...</td>\n",
              "      <td>S&amp;amp;P cuts United Kingdom sovereign credit r...</td>\n",
              "      <td>Huge helium deposit found in Africa</td>\n",
              "      <td>CEO of the South African state broadcaster qui...</td>\n",
              "      <td>Brexit cost investors $2 trillion, the worst o...</td>\n",
              "      <td>Hong Kong democracy activists call for return ...</td>\n",
              "      <td>Brexit: Iceland president says UK can join 'tr...</td>\n",
              "      <td>UK's Osborne: 'Absolutely' going to have to cu...</td>\n",
              "      <td>'Do not let Scotland down now' : Scottish MEP ...</td>\n",
              "      <td>British pound could hit history-making dollar ...</td>\n",
              "      <td>Merkel vows to strengthen EU, tells UK no 'che...</td>\n",
              "      <td>\"Ryanair will not deploy new aircraft on route...</td>\n",
              "      <td>People, ever more greedy and stupid, destroy t...</td>\n",
              "      <td>Siemens freezes new UK wind power investment f...</td>\n",
              "      <td>US, Canada and Mexico pledge 50% of power from...</td>\n",
              "      <td>There is increasing evidence that Australia is...</td>\n",
              "      <td>Richard Branson, the founder of Virgin Group, ...</td>\n",
              "      <td>37,000-yr-old skull from Borneo reveals surpri...</td>\n",
              "      <td>Palestinians stone Western Wall worshipers; po...</td>\n",
              "      <td>Jean-Claude Juncker asks Farage: Why are you h...</td>\n",
              "      <td>\"Romanians for Remainians\" offering a new home...</td>\n",
              "      <td>Brexit: Gibraltar in talks with Scotland to st...</td>\n",
              "      <td>8 Suicide Bombers Strike Lebanon</td>\n",
              "      <td>Mexico's security forces routinely use 'sexual...</td>\n",
              "    </tr>\n",
              "    <tr>\n",
              "      <th>1986</th>\n",
              "      <td>2016-06-29</td>\n",
              "      <td>1</td>\n",
              "      <td>Explosion At Airport In Istanbul</td>\n",
              "      <td>Yemeni former president: Terrorism is the offs...</td>\n",
              "      <td>UK must accept freedom of movement to access E...</td>\n",
              "      <td>Devastated: scientists too late to captive bre...</td>\n",
              "      <td>British Labor Party leader Jeremy Corbyn loses...</td>\n",
              "      <td>A Muslim Shop in the UK Was Just Firebombed Wh...</td>\n",
              "      <td>Mexican Authorities Sexually Torture Women in ...</td>\n",
              "      <td>UK shares and pound continue to recover</td>\n",
              "      <td>Iceland historian Johannesson wins presidentia...</td>\n",
              "      <td>99-Million-Yr-Old Bird Wings Found Encased in ...</td>\n",
              "      <td>A chatbot programmed by a British teenager has...</td>\n",
              "      <td>The Philippine president-elect said Monday he ...</td>\n",
              "      <td>Former Belgian Prime Minister ridicules Nigel ...</td>\n",
              "      <td>Brexiteer Nigel Farage To EU: 'You're Not Laug...</td>\n",
              "      <td>Islamic State bombings in southern Yemen kill ...</td>\n",
              "      <td>Escape Tunnel, Dug by Hand, Is Found at Holoca...</td>\n",
              "      <td>The land under Beijing is sinking by as much a...</td>\n",
              "      <td>Car bomb and Anti-Islamic attack on Mosque in ...</td>\n",
              "      <td>Emaciated lions in Taiz Zoo are trapped in blo...</td>\n",
              "      <td>Rupert Murdoch describes Brexit as 'wonderful'...</td>\n",
              "      <td>More than 40 killed in Yemen suicide attacks</td>\n",
              "      <td>Google Found Disastrous Symantec and Norton Vu...</td>\n",
              "      <td>Extremist violence on the rise in Germany: Dom...</td>\n",
              "      <td>BBC News: Labour MPs pass Corbyn no-confidence...</td>\n",
              "      <td>Tiny New Zealand town with 'too many jobs' lau...</td>\n",
              "    </tr>\n",
              "    <tr>\n",
              "      <th>1987</th>\n",
              "      <td>2016-06-30</td>\n",
              "      <td>1</td>\n",
              "      <td>Jamaica proposes marijuana dispensers for tour...</td>\n",
              "      <td>Stephen Hawking says pollution and 'stupidity'...</td>\n",
              "      <td>Boris Johnson says he will not run for Tory pa...</td>\n",
              "      <td>Six gay men in Ivory Coast were abused and for...</td>\n",
              "      <td>Switzerland denies citizenship to Muslim immig...</td>\n",
              "      <td>Palestinian terrorist stabs israeli teen girl ...</td>\n",
              "      <td>Puerto Rico will default on $1 billion of debt...</td>\n",
              "      <td>Republic of Ireland fans to be awarded medal f...</td>\n",
              "      <td>Afghan suicide bomber 'kills up to 40' - BBC News</td>\n",
              "      <td>US airstrikes kill at least 250 ISIS fighters ...</td>\n",
              "      <td>Turkish Cop Who Took Down Istanbul Gunman Hail...</td>\n",
              "      <td>Cannabis compounds could treat Alzheimer's by ...</td>\n",
              "      <td>Japan's top court has approved blanket surveil...</td>\n",
              "      <td>CIA Gave Romania Millions to Host Secret Prisons</td>\n",
              "      <td>Groups urge U.N. to suspend Saudi Arabia from ...</td>\n",
              "      <td>Googles free wifi at Indian railway stations i...</td>\n",
              "      <td>Mounting evidence suggests 'hobbits' were wipe...</td>\n",
              "      <td>The men who carried out Tuesday's terror attac...</td>\n",
              "      <td>Calls to suspend Saudi Arabia from UN Human Ri...</td>\n",
              "      <td>More Than 100 Nobel Laureates Call Out Greenpe...</td>\n",
              "      <td>British pedophile sentenced to 85 years in US ...</td>\n",
              "      <td>US permitted 1,200 offshore fracks in Gulf of ...</td>\n",
              "      <td>We will be swimming in ridicule - French beach...</td>\n",
              "      <td>UEFA says no minutes of silence for Istanbul v...</td>\n",
              "      <td>Law Enforcement Sources: Gun Used in Paris Ter...</td>\n",
              "    </tr>\n",
              "    <tr>\n",
              "      <th>1988</th>\n",
              "      <td>2016-07-01</td>\n",
              "      <td>1</td>\n",
              "      <td>A 117-year-old woman in Mexico City finally re...</td>\n",
              "      <td>IMF chief backs Athens as permanent Olympic host</td>\n",
              "      <td>The president of France says if Brexit won, so...</td>\n",
              "      <td>British Man Who Must Give Police 24 Hours' Not...</td>\n",
              "      <td>100+ Nobel laureates urge Greenpeace to stop o...</td>\n",
              "      <td>Brazil: Huge spike in number of police killing...</td>\n",
              "      <td>Austria's highest court annuls presidential el...</td>\n",
              "      <td>Facebook wins privacy case, can track any Belg...</td>\n",
              "      <td>Switzerland denies Muslim girls citizenship af...</td>\n",
              "      <td>China kills millions of innocent meditators fo...</td>\n",
              "      <td>France Cracks Down on Factory Farms - A viral ...</td>\n",
              "      <td>Abbas PLO Faction Calls Killer of 13-Year-Old ...</td>\n",
              "      <td>Taiwanese warship accidentally fires missile t...</td>\n",
              "      <td>Iran celebrates American Human Rights Week, mo...</td>\n",
              "      <td>U.N. panel moves to curb bias against L.G.B.T....</td>\n",
              "      <td>The United States has placed Myanmar, Uzbekist...</td>\n",
              "      <td>S&amp;amp;P revises European Union credit rating t...</td>\n",
              "      <td>India gets $1 billion loan from World Bank for...</td>\n",
              "      <td>U.S. sailors detained by Iran spoke too much u...</td>\n",
              "      <td>Mass fish kill in Vietnam solved as Taiwan ste...</td>\n",
              "      <td>Philippines president Rodrigo Duterte urges pe...</td>\n",
              "      <td>Spain arrests three Pakistanis accused of prom...</td>\n",
              "      <td>Venezuela, where anger over food shortages is ...</td>\n",
              "      <td>A Hindu temple worker has been killed by three...</td>\n",
              "      <td>Ozone layer hole seems to be healing - US &amp;amp...</td>\n",
              "    </tr>\n",
              "  </tbody>\n",
              "</table>\n",
              "<p>1989 rows × 27 columns</p>\n",
              "</div>"
            ],
            "text/plain": [
              "            Date  ...                                              Top25\n",
              "0     2008-08-08  ...           b\"No Help for Mexico's Kidnapping Surge\"\n",
              "1     2008-08-11  ...  b\"So this is what it's come to: trading sex fo...\n",
              "2     2008-08-12  ...  b\"BBC NEWS | Asia-Pacific | Extinction 'by man...\n",
              "3     2008-08-13  ...  b'2006: Nobel laureate Aleksander Solzhenitsyn...\n",
              "4     2008-08-14  ...  b'Philippines : Peace Advocate say Muslims nee...\n",
              "...          ...  ...                                                ...\n",
              "1984  2016-06-27  ...  Pakistani clerics declare transgender marriage...\n",
              "1985  2016-06-28  ...  Mexico's security forces routinely use 'sexual...\n",
              "1986  2016-06-29  ...  Tiny New Zealand town with 'too many jobs' lau...\n",
              "1987  2016-06-30  ...  Law Enforcement Sources: Gun Used in Paris Ter...\n",
              "1988  2016-07-01  ...  Ozone layer hole seems to be healing - US &amp...\n",
              "\n",
              "[1989 rows x 27 columns]"
            ]
          },
          "metadata": {
            "tags": []
          },
          "execution_count": 21
        }
      ]
    },
    {
      "cell_type": "markdown",
      "metadata": {
        "id": "NiElntphrBwO"
      },
      "source": [
        "### News"
      ]
    },
    {
      "cell_type": "markdown",
      "metadata": {
        "id": "e1eK7XRpxVgz"
      },
      "source": [
        "#### Random Forrest/ Bag of Words"
      ]
    },
    {
      "cell_type": "code",
      "metadata": {
        "id": "dIBId-y3lciM"
      },
      "source": [
        "import pandas as pd\n",
        "from sklearn.feature_extraction.text import CountVectorizer\n",
        "from sklearn.ensemble import RandomForestClassifier\n",
        "\n",
        "class RandomForrestSentiment():\n",
        "\n",
        "  def __init__(self, stock_dataset, news_dataset_path = 'stock_news/Combined_News_DJIA.csv'):\n",
        "    self.news_path = news_dataset_path\n",
        "    self.stock_data = stock_dataset\n",
        "    self.news_data = pd.read_csv(news_dataset_path)\n",
        "\n",
        "# -----------------------------------------------------------------------------------\n",
        "  #DATA PREP\n",
        "  # sets up news dataset for random forrest\n",
        "  def prepare_news_data(self, data = 0, label = 'source'):\n",
        "    if label != 'source':\n",
        "    # allows using next day's stock change by providing stock dataframe, can make this better\n",
        "      if data:\n",
        "        self.news_data['Label']  = data['Label'].astype(int)\n",
        "\n",
        "    # split data\n",
        "    self.train = self.news_data[self.news_data['Date'] < '20150101']\n",
        "    self.test = self.news_data[self.news_data['Date'] > '20141231']\n",
        "\n",
        "    # remove extra indices\n",
        "    self.data = self.train.iloc[:, 2:27]\n",
        "\n",
        "    # remove non alphabetical characters\n",
        "    self.data.replace(\"[^a-zA-Z]\", \" \", regex=True, inplace=True)\n",
        "\n",
        "    # rename columns\n",
        "    list1 = [i for i in range(25)]\n",
        "    new_Index = [str(i) for i in list1]\n",
        "    self.data.columns = new_Index\n",
        "\n",
        "    # make everything lowercase\n",
        "    for index in new_Index:\n",
        "        self.data[index] = self.data[index].str.lower()\n",
        "\n",
        "    # create list for each row merging all headlines into one\n",
        "    self.headlines = []\n",
        "    for row in range(0, len(self.data.index)):\n",
        "        self.headlines.append(' '.join(str(x) for x in self.data.iloc[row, 0:25]))\n",
        "\n",
        "  def prepare_reddit_data(self):\n",
        "    self.r_data =  pd.read_csv('/content/stock_news/RedditNews.csv')\n",
        "    foo = lambda a: \" / \".join(a) \n",
        "    self.reddit_data = self.r_data.groupby(by=['Date']).agg({'News':foo}).reset_index()\n",
        "    \n",
        "    self.reddit_data.replace(\"[^a-zA-Z]\", \" \", regex=True, inplace=True)\n",
        "    self.reddit_data['News'].str.lower()\n",
        "\n",
        "    self.r_headlines = []\n",
        "    for row in range(0, len(self.reddit_data)):\n",
        "      self.r_headlines.append(' '.join(str(x) for x in self.reddit_data.iloc[row, 0:25]))\n",
        "\n",
        "\n",
        "# -----------------------------------------------------------------------------------\n",
        "  #TOKENIZATION\n",
        "  def tokenize_data(self, bag = True, ngrams = 2):\n",
        "    # convert all sentences into vectors\n",
        "    self.countVector = CountVectorizer(ngram_range=(ngrams, ngrams))\n",
        "    #ngram(2,2) means it will combine the 2 words together and assign the value\n",
        "\n",
        "    # bag of words\n",
        "    if bag:\n",
        "      self.trainDataset = self.countVector.fit_transform(self.headlines)\n",
        "\n",
        "  def train_model(self):\n",
        "    # Setup random forest classifier and train\n",
        "    self.randomClassifier = RandomForestClassifier(n_estimators=200, criterion='entropy')\n",
        "    self.randomClassifier.fit(self.trainDataset, self.train['Label'])\n",
        "\n",
        "  def test_model(self):\n",
        "    # predict for test data\n",
        "    self.testTransform =[]\n",
        "    for row in range(0, len(self.test.index)):\n",
        "        self.testTransform.append(' '.join(str(x) for x in self.test.iloc[row, 2:27]))\n",
        "\n",
        "    self.test_dataset = self.countVector.transform(self.testTransform)\n",
        "    self.predictions = self.randomClassifier.predict(self.test_dataset)\n",
        "\n",
        "  def get_performance_report(self):\n",
        "    report(self.test['Label'], self.predictions)\n"
      ],
      "execution_count": 30,
      "outputs": []
    },
    {
      "cell_type": "code",
      "metadata": {
        "colab": {
          "base_uri": "https://localhost:8080/"
        },
        "id": "Qi2h7EXS3Waq",
        "outputId": "4e68024c-5165-4cf4-d715-20451c67c71c"
      },
      "source": [
        "generic_forrest.predictions"
      ],
      "execution_count": 41,
      "outputs": [
        {
          "output_type": "execute_result",
          "data": {
            "text/plain": [
              "array([1, 0, 0, 1, 1, 0, 0, 0, 0, 0, 1, 1, 1, 1, 0, 1, 0, 0, 1, 0, 1, 1,\n",
              "       1, 1, 0, 0, 1, 0, 1, 1, 1, 0, 0, 1, 0, 1, 1, 0, 0, 1, 0, 0, 1, 0,\n",
              "       1, 0, 0, 1, 0, 1, 0, 1, 0, 1, 0, 0, 0, 0, 1, 1, 0, 0, 1, 1, 0, 1,\n",
              "       1, 1, 0, 1, 1, 0, 0, 1, 0, 1, 1, 1, 0, 1, 0, 0, 1, 1, 0, 0, 1, 1,\n",
              "       0, 0, 0, 1, 1, 1, 1, 0, 1, 0, 0, 1, 0, 0, 1, 0, 1, 0, 0, 0, 0, 1,\n",
              "       1, 0, 0, 1, 1, 1, 0, 1, 1, 0, 0, 1, 0, 1, 1, 0, 0, 1, 0, 1, 1, 1,\n",
              "       1, 0, 1, 0, 1, 0, 0, 0, 0, 0, 1, 1, 0, 0, 0, 0, 0, 0, 0, 1, 0, 0,\n",
              "       1, 1, 1, 0, 0, 0, 0, 0, 0, 1, 1, 0, 0, 0, 1, 1, 0, 1, 0, 1, 1, 0,\n",
              "       1, 1, 0, 0, 1, 0, 0, 0, 1, 0, 1, 1, 0, 1, 1, 1, 1, 1, 1, 1, 0, 0,\n",
              "       1, 1, 1, 0, 0, 1, 1, 0, 0, 1, 0, 0, 1, 1, 0, 0, 1, 0, 1, 0, 0, 0,\n",
              "       1, 1, 1, 0, 1, 0, 1, 1, 0, 0, 1, 0, 0, 1, 0, 0, 0, 1, 0, 1, 1, 1,\n",
              "       0, 0, 1, 1, 1, 0, 0, 1, 0, 0, 0, 1, 1, 1, 1, 0, 1, 1, 1, 1, 0, 0,\n",
              "       0, 1, 1, 0, 1, 1, 0, 1, 0, 1, 1, 1, 1, 0, 1, 1, 0, 1, 1, 1, 1, 1,\n",
              "       1, 1, 1, 0, 1, 1, 1, 1, 1, 1, 1, 1, 1, 1, 0, 1, 1, 0, 1, 1, 1, 1,\n",
              "       1, 1, 0, 0, 1, 1, 1, 0, 1, 1, 1, 1, 1, 0, 1, 0, 1, 1, 1, 0, 1, 1,\n",
              "       1, 1, 1, 0, 0, 1, 1, 1, 1, 1, 1, 1, 1, 1, 1, 0, 0, 1, 1, 1, 1, 0,\n",
              "       0, 0, 0, 0, 0, 1, 0, 1, 1, 0, 1, 1, 1, 0, 1, 1, 0, 1, 1, 1, 1, 0,\n",
              "       1, 1, 1, 1])"
            ]
          },
          "metadata": {
            "tags": []
          },
          "execution_count": 41
        }
      ]
    },
    {
      "cell_type": "code",
      "metadata": {
        "colab": {
          "base_uri": "https://localhost:8080/",
          "height": 182
        },
        "id": "FGm7mFc60GWQ",
        "outputId": "8b2bd518-df82-4375-a6f6-49f148e0da22"
      },
      "source": [
        "generic_forrest.headlines[1]"
      ],
      "execution_count": 39,
      "outputs": [
        {
          "output_type": "execute_result",
          "data": {
            "application/vnd.google.colaboratory.intrinsic+json": {
              "type": "string"
            },
            "text/plain": [
              "'b why wont america and nato help us  if they wont help us now  why did we help them in iraq   b bush puts foot down on georgian conflict  b jewish georgian minister  thanks to israeli training  we re fending off russia   b georgian army flees in disarray as russians advance   gori abandoned to russia without a shot fired  b olympic opening ceremony fireworks  faked   b what were the mossad with fraudulent new zealand passports doing in iraq   b russia angered by israeli military sale to georgia  b an american citizen living in s ossetia blames u s  and georgian leaders for the genocide of innocent people  b welcome to world war iv  now in high definition   b georgia s move  a mistake of monumental proportions   b russia presses deeper into georgia  u s  says regime change is goal  b abhinav bindra wins first ever individual olympic gold medal for india  b  u s  ship heads for arctic to define territory  b drivers in a jerusalem taxi station threaten to quit rather than work for their new boss   an arab  b the french team is stunned by phelps and the  x   m relay team  b israel and the us behind the georgian aggression   b  do not believe tv  neither russian nor georgian  there are much more victims   b riots are still going on in montreal  canada  because police murdered a boy on saturday   b china to overtake us as largest manufacturer  b war in south ossetia  pics   b israeli physicians group condemns state torture  b  russia has just beaten the united states over the head with peak oil  b perhaps  the  question about the georgia   russia conflict   b russia is so much better at war  b so this is what it s come to  trading sex for food  '"
            ]
          },
          "metadata": {
            "tags": []
          },
          "execution_count": 39
        }
      ]
    },
    {
      "cell_type": "code",
      "metadata": {
        "colab": {
          "base_uri": "https://localhost:8080/"
        },
        "id": "dcr2yPXd4pLe",
        "outputId": "56b4ce02-9925-4093-ec1a-86b62f34e630"
      },
      "source": [
        "generic_forrest = RandomForrestSentiment(spy_data)\n",
        "generic_forrest.prepare_news_data()\n",
        "generic_forrest.tokenize_data()\n",
        "generic_forrest.train_model()\n",
        "generic_forrest.test_model()\n",
        "generic_forrest.get_performance_report()"
      ],
      "execution_count": 29,
      "outputs": [
        {
          "output_type": "stream",
          "text": [
            "Confusion Matrix\n",
            "[[146  40]\n",
            " [ 18 174]]\n",
            "\n",
            "Overall prediction accuracy: 0.8465608465608465\n",
            "\n",
            "Classification Report: \n",
            "              precision    recall  f1-score   support\n",
            "\n",
            "           0       0.89      0.78      0.83       186\n",
            "           1       0.81      0.91      0.86       192\n",
            "\n",
            "    accuracy                           0.85       378\n",
            "   macro avg       0.85      0.85      0.85       378\n",
            "weighted avg       0.85      0.85      0.85       378\n",
            "\n"
          ],
          "name": "stdout"
        }
      ]
    },
    {
      "cell_type": "markdown",
      "metadata": {
        "id": "2P84t8JexODc"
      },
      "source": [
        "### DistilBERT"
      ]
    },
    {
      "cell_type": "code",
      "metadata": {
        "id": "5iog5VqwwbJ-"
      },
      "source": [
        "# Prep all data for headlines\n",
        "# remove extra indices\n",
        "\n",
        "data = df.iloc[:, 2:27]\n",
        "\n",
        "# remove non alphabetical characters\n",
        "data.replace(\"[^a-zA-Z]\", \" \", regex=True, inplace=True)\n",
        "\n",
        "# rename columns\n",
        "list1 = [i for i in range(25)]\n",
        "new_Index = [str(i) for i in list1]\n",
        "data.columns = new_Index\n",
        "\n",
        "# make everything lowercase\n",
        "for index in new_Index:\n",
        "    data[index] = data[index].str.lower()\n",
        "\n",
        "# create list for each row merging all headlines into one\n",
        "news_headlines = []\n",
        "for row in range(0, len(data.index)):\n",
        "    news_headlines.append(' '.join(str(x) for x in data.iloc[row, 0:25]))"
      ],
      "execution_count": null,
      "outputs": []
    },
    {
      "cell_type": "code",
      "metadata": {
        "colab": {
          "base_uri": "https://localhost:8080/"
        },
        "id": "7gVpMfKhyfYT",
        "outputId": "e8725a93-be62-4b00-a3df-6babb39a9c0a"
      },
      "source": [
        "!pip install transformers"
      ],
      "execution_count": null,
      "outputs": [
        {
          "output_type": "stream",
          "text": [
            "Collecting transformers\n",
            "\u001b[?25l  Downloading https://files.pythonhosted.org/packages/f9/54/5ca07ec9569d2f232f3166de5457b63943882f7950ddfcc887732fc7fb23/transformers-4.3.3-py3-none-any.whl (1.9MB)\n",
            "\u001b[K     |████████████████████████████████| 1.9MB 18.8MB/s \n",
            "\u001b[?25hRequirement already satisfied: filelock in /usr/local/lib/python3.7/dist-packages (from transformers) (3.0.12)\n",
            "Requirement already satisfied: tqdm>=4.27 in /usr/local/lib/python3.7/dist-packages (from transformers) (4.41.1)\n",
            "Requirement already satisfied: requests in /usr/local/lib/python3.7/dist-packages (from transformers) (2.23.0)\n",
            "Requirement already satisfied: importlib-metadata; python_version < \"3.8\" in /usr/local/lib/python3.7/dist-packages (from transformers) (3.7.0)\n",
            "Collecting sacremoses\n",
            "\u001b[?25l  Downloading https://files.pythonhosted.org/packages/7d/34/09d19aff26edcc8eb2a01bed8e98f13a1537005d31e95233fd48216eed10/sacremoses-0.0.43.tar.gz (883kB)\n",
            "\u001b[K     |████████████████████████████████| 890kB 49.9MB/s \n",
            "\u001b[?25hRequirement already satisfied: regex!=2019.12.17 in /usr/local/lib/python3.7/dist-packages (from transformers) (2019.12.20)\n",
            "Requirement already satisfied: packaging in /usr/local/lib/python3.7/dist-packages (from transformers) (20.9)\n",
            "Requirement already satisfied: numpy>=1.17 in /usr/local/lib/python3.7/dist-packages (from transformers) (1.19.5)\n",
            "Collecting tokenizers<0.11,>=0.10.1\n",
            "\u001b[?25l  Downloading https://files.pythonhosted.org/packages/71/23/2ddc317b2121117bf34dd00f5b0de194158f2a44ee2bf5e47c7166878a97/tokenizers-0.10.1-cp37-cp37m-manylinux2010_x86_64.whl (3.2MB)\n",
            "\u001b[K     |████████████████████████████████| 3.2MB 44.5MB/s \n",
            "\u001b[?25hRequirement already satisfied: idna<3,>=2.5 in /usr/local/lib/python3.7/dist-packages (from requests->transformers) (2.10)\n",
            "Requirement already satisfied: chardet<4,>=3.0.2 in /usr/local/lib/python3.7/dist-packages (from requests->transformers) (3.0.4)\n",
            "Requirement already satisfied: urllib3!=1.25.0,!=1.25.1,<1.26,>=1.21.1 in /usr/local/lib/python3.7/dist-packages (from requests->transformers) (1.24.3)\n",
            "Requirement already satisfied: certifi>=2017.4.17 in /usr/local/lib/python3.7/dist-packages (from requests->transformers) (2020.12.5)\n",
            "Requirement already satisfied: typing-extensions>=3.6.4; python_version < \"3.8\" in /usr/local/lib/python3.7/dist-packages (from importlib-metadata; python_version < \"3.8\"->transformers) (3.7.4.3)\n",
            "Requirement already satisfied: zipp>=0.5 in /usr/local/lib/python3.7/dist-packages (from importlib-metadata; python_version < \"3.8\"->transformers) (3.4.1)\n",
            "Requirement already satisfied: six in /usr/local/lib/python3.7/dist-packages (from sacremoses->transformers) (1.15.0)\n",
            "Requirement already satisfied: click in /usr/local/lib/python3.7/dist-packages (from sacremoses->transformers) (7.1.2)\n",
            "Requirement already satisfied: joblib in /usr/local/lib/python3.7/dist-packages (from sacremoses->transformers) (1.0.1)\n",
            "Requirement already satisfied: pyparsing>=2.0.2 in /usr/local/lib/python3.7/dist-packages (from packaging->transformers) (2.4.7)\n",
            "Building wheels for collected packages: sacremoses\n",
            "  Building wheel for sacremoses (setup.py) ... \u001b[?25l\u001b[?25hdone\n",
            "  Created wheel for sacremoses: filename=sacremoses-0.0.43-cp37-none-any.whl size=893262 sha256=5464ea22688acf34a5fde3a97df4fd08b477fb31bdef68e996370667058ce4d6\n",
            "  Stored in directory: /root/.cache/pip/wheels/29/3c/fd/7ce5c3f0666dab31a50123635e6fb5e19ceb42ce38d4e58f45\n",
            "Successfully built sacremoses\n",
            "Installing collected packages: sacremoses, tokenizers, transformers\n",
            "Successfully installed sacremoses-0.0.43 tokenizers-0.10.1 transformers-4.3.3\n"
          ],
          "name": "stdout"
        }
      ]
    },
    {
      "cell_type": "code",
      "metadata": {
        "id": "U-pP_m6FPwKl"
      },
      "source": [
        "import warnings\n",
        "warnings.simplefilter('ignore')\n",
        "import numpy as np\n",
        "import pandas as pd\n",
        "from tqdm import tqdm\n",
        "from sklearn import metrics\n",
        "import transformers\n",
        "import torch\n",
        "from torch.utils.data import Dataset, DataLoader, RandomSampler, SequentialSampler\n",
        "from transformers import DistilBertTokenizer, DistilBertModel\n",
        "import logging\n",
        "logging.basicConfig(level=logging.ERROR)"
      ],
      "execution_count": null,
      "outputs": []
    },
    {
      "cell_type": "code",
      "metadata": {
        "id": "0nHJ-ZhiP17D"
      },
      "source": [
        "# # Setting up the device for GPU usage\n",
        "\n",
        "from torch import cuda\n",
        "device = 'cuda' if cuda.is_available() else 'cpu'"
      ],
      "execution_count": null,
      "outputs": []
    },
    {
      "cell_type": "code",
      "metadata": {
        "id": "hZKWXo4mQi3j",
        "colab": {
          "base_uri": "https://localhost:8080/",
          "height": 67,
          "referenced_widgets": [
            "333c22aa1aca43f8bd22222ec9c464fb",
            "d658944317e94c44af7087e9fa755caa",
            "63e2e0badf5f419092baa67b19682b42",
            "7188047728ce454aa50be36c2346a6dd",
            "5302caede14a4fd986f315a0fcb146f7",
            "4f3d3a603ded4fb68a27997b5b7dc50d",
            "510a15c1887244559b730e16c2bc7e67",
            "2601cd0feae04518b34c42de9f2b4761"
          ]
        },
        "outputId": "c0fd7ce6-3198-4138-e2ad-63bd95b0838c"
      },
      "source": [
        "# Sections of config\n",
        "\n",
        "# Defining some key variables that will be used later on in the training\n",
        "MAX_LEN = 512\n",
        "TRAIN_BATCH_SIZE = 4\n",
        "VALID_BATCH_SIZE = 4\n",
        "EPOCHS = 5\n",
        "LEARNING_RATE = 1e-05\n",
        "\n",
        "tokenizer = DistilBertTokenizer.from_pretrained('distilbert-base-uncased', truncation=True, do_lower_case=True)\n",
        "# tokenizer = Tokenizer.from_pretrained('distilgpt2', truncation=True, do_lower_case=True)"
      ],
      "execution_count": null,
      "outputs": [
        {
          "output_type": "display_data",
          "data": {
            "application/vnd.jupyter.widget-view+json": {
              "model_id": "333c22aa1aca43f8bd22222ec9c464fb",
              "version_minor": 0,
              "version_major": 2
            },
            "text/plain": [
              "HBox(children=(FloatProgress(value=0.0, description='Downloading', max=231508.0, style=ProgressStyle(descripti…"
            ]
          },
          "metadata": {
            "tags": []
          }
        },
        {
          "output_type": "stream",
          "text": [
            "\n"
          ],
          "name": "stdout"
        }
      ]
    },
    {
      "cell_type": "code",
      "metadata": {
        "id": "EJM-_VTeQn8K"
      },
      "source": [
        "class LabelDataset(Dataset):\n",
        "\n",
        "  def __init__(self, dataframe, tokenizer, max_len):\n",
        "    self.tokenizer = tokenizer\n",
        "    self.data = dataframe\n",
        "    self.text = dataframe.Headlines\n",
        "    self.targets = self.data.Labels\n",
        "    self.max_len = max_len\n",
        "\n",
        "  def __len__(self):\n",
        "    return len(self.text)\n",
        "\n",
        "  def __getitem__(self, index):\n",
        "    text = str(self.text[index])\n",
        "    text = \" \".join(text.split())\n",
        "\n",
        "    inputs = self.tokenizer.encode_plus(\n",
        "      text,\n",
        "      None,\n",
        "      add_special_tokens=True,\n",
        "      max_length=self.max_len,\n",
        "      pad_to_max_length=True,\n",
        "      return_token_type_ids=True\n",
        "    )\n",
        "    ids = inputs['input_ids']\n",
        "    mask = inputs['attention_mask']\n",
        "    token_type_ids = inputs[\"token_type_ids\"]\n",
        "\n",
        "\n",
        "    return {\n",
        "      'ids': torch.tensor(ids, dtype=torch.long),\n",
        "      'mask': torch.tensor(mask, dtype=torch.long),\n",
        "      'token_type_ids': torch.tensor(token_type_ids, dtype=torch.long),\n",
        "      'targets': torch.tensor(self.targets[index], dtype=torch.float)\n",
        "    }"
      ],
      "execution_count": null,
      "outputs": []
    },
    {
      "cell_type": "code",
      "metadata": {
        "colab": {
          "base_uri": "https://localhost:8080/"
        },
        "id": "vq4tBqGPREvt",
        "outputId": "feaeea2a-32ec-4df5-c46b-321f53947e8d"
      },
      "source": [
        "# Creating the dataset and dataloader for the neural network\n",
        "train_dat = pd.DataFrame()\n",
        "train_dat['Headlines'] = news_headlines\n",
        "train_dat['Labels'] = df['Label']\n",
        "# train_dat['Labels'] = stock_lagged['Label']\n",
        "# train_dat['Labels'] = generic_forrest.news_data['Label']\n",
        "train_dat['Labels'] = train_dat.iloc[:, 1:].values.tolist()\n",
        "train_dat['Date'] = df['Date']\n",
        "train_dat\n",
        "\n",
        "new_df = train_dat\n",
        "\n",
        "# train_size = 0.8\n",
        "# train_data=new_df.sample(frac=train_size,random_state=200)\n",
        "# test_data=new_df.drop(train_data.index).reset_index(drop=True)\n",
        "# train_data = train_data.reset_index(drop=True)\n",
        "\n",
        "# Split data\n",
        "train_data = new_df[new_df['Date'] < '2014-10-01']\n",
        "test_data = new_df[new_df['Date'] >= '2014-10-01']\n",
        "# test_data = new_df.loc[(new_df['Date'] >= '2014-10-01') & (new_df['Date'] <= '2015-07-01')]\n",
        "# val_data = new_df[new_df['Date'] > '2015-07-01']\n",
        "\n",
        "del train_data['Date']\n",
        "del test_data['Date']\n",
        "# del val_data['Date']\n",
        "\n",
        "test_data = test_data.reset_index()\n",
        "# val_data = val_data.reset_index()\n",
        "\n",
        "print(\"FULL Dataset: {}\".format(new_df.shape))\n",
        "print(\"TRAIN Dataset: {}\".format(train_data.shape))\n",
        "print(\"TEST Dataset: {}\".format(test_data.shape))\n",
        "# print(\"VAL Dataset: {}\".format(val_data.shape))\n",
        "\n",
        "training_set = LabelDataset(train_data, tokenizer, MAX_LEN)\n",
        "testing_set = LabelDataset(test_data, tokenizer, MAX_LEN)\n",
        "# validation_set = LabelDataset(val_data, tokenizer, MAX_LEN)"
      ],
      "execution_count": null,
      "outputs": [
        {
          "output_type": "stream",
          "text": [
            "FULL Dataset: (1989, 3)\n",
            "TRAIN Dataset: (1547, 2)\n",
            "TEST Dataset: (442, 3)\n"
          ],
          "name": "stdout"
        }
      ]
    },
    {
      "cell_type": "code",
      "metadata": {
        "id": "cz8xKkunRGIi"
      },
      "source": [
        "train_params = {'batch_size': TRAIN_BATCH_SIZE,\n",
        "                'shuffle': False,\n",
        "                'num_workers': 0\n",
        "                }\n",
        "\n",
        "test_params = {'batch_size': VALID_BATCH_SIZE,\n",
        "                'shuffle': False,\n",
        "                'num_workers': 0\n",
        "                }\n",
        "\n",
        "val_params = {'batch_size': VALID_BATCH_SIZE,\n",
        "                'shuffle': False,\n",
        "                'num_workers': 0\n",
        "                }\n",
        "\n",
        "training_loader = DataLoader(training_set, **train_params)\n",
        "testing_loader = DataLoader(testing_set, **test_params)\n",
        "# validation_loader = DataLoader(validation_set, ** val_params)"
      ],
      "execution_count": null,
      "outputs": []
    },
    {
      "cell_type": "code",
      "metadata": {
        "id": "RHJQRgiBvwTC",
        "colab": {
          "base_uri": "https://localhost:8080/"
        },
        "outputId": "f2063e32-8f85-4c52-82cf-36e585d94d53"
      },
      "source": [
        "# Creating the customized model, by adding a drop out and a dense layer on top of distil bert to get the final output for the model. \n",
        "# Example source: https://colab.research.google.com/github/DhavalTaunk08/Transformers_scripts/blob/master/Transformers_multilabel_distilbert.ipynb#scrollTo=FeftvDhjDSPp\n",
        "\n",
        "class DistilBERTClass(torch.nn.Module):\n",
        "  def __init__(self):\n",
        "    super(DistilBERTClass, self).__init__()\n",
        "    # self.l1 = DistilBertModel.from_pretrained(\"distilgpt2\")\n",
        "    self.l1 = DistilBertModel.from_pretrained(\"distilbert-base-uncased\")\n",
        "    self.pre_classifier = torch.nn.Linear(768, 768)\n",
        "    self.dropout = torch.nn.Dropout(0.1)\n",
        "    self.classifier = torch.nn.Linear(768, 1)\n",
        "\n",
        "  def forward(self, input_ids, attention_mask, token_type_ids):\n",
        "    output_1 = self.l1(input_ids=input_ids, attention_mask=attention_mask)\n",
        "    hidden_state = output_1[0]\n",
        "    pooler = hidden_state[:, 0]\n",
        "    pooler = self.pre_classifier(pooler)\n",
        "    pooler = torch.nn.Tanh()(pooler)\n",
        "    pooler = self.dropout(pooler)\n",
        "    output = self.classifier(pooler)\n",
        "    return output\n",
        "\n",
        "model = DistilBERTClass()\n",
        "model.to(device)"
      ],
      "execution_count": null,
      "outputs": [
        {
          "output_type": "execute_result",
          "data": {
            "text/plain": [
              "DistilBERTClass(\n",
              "  (l1): DistilBertModel(\n",
              "    (embeddings): Embeddings(\n",
              "      (word_embeddings): Embedding(30522, 768, padding_idx=0)\n",
              "      (position_embeddings): Embedding(512, 768)\n",
              "      (LayerNorm): LayerNorm((768,), eps=1e-12, elementwise_affine=True)\n",
              "      (dropout): Dropout(p=0.1, inplace=False)\n",
              "    )\n",
              "    (transformer): Transformer(\n",
              "      (layer): ModuleList(\n",
              "        (0): TransformerBlock(\n",
              "          (attention): MultiHeadSelfAttention(\n",
              "            (dropout): Dropout(p=0.1, inplace=False)\n",
              "            (q_lin): Linear(in_features=768, out_features=768, bias=True)\n",
              "            (k_lin): Linear(in_features=768, out_features=768, bias=True)\n",
              "            (v_lin): Linear(in_features=768, out_features=768, bias=True)\n",
              "            (out_lin): Linear(in_features=768, out_features=768, bias=True)\n",
              "          )\n",
              "          (sa_layer_norm): LayerNorm((768,), eps=1e-12, elementwise_affine=True)\n",
              "          (ffn): FFN(\n",
              "            (dropout): Dropout(p=0.1, inplace=False)\n",
              "            (lin1): Linear(in_features=768, out_features=3072, bias=True)\n",
              "            (lin2): Linear(in_features=3072, out_features=768, bias=True)\n",
              "          )\n",
              "          (output_layer_norm): LayerNorm((768,), eps=1e-12, elementwise_affine=True)\n",
              "        )\n",
              "        (1): TransformerBlock(\n",
              "          (attention): MultiHeadSelfAttention(\n",
              "            (dropout): Dropout(p=0.1, inplace=False)\n",
              "            (q_lin): Linear(in_features=768, out_features=768, bias=True)\n",
              "            (k_lin): Linear(in_features=768, out_features=768, bias=True)\n",
              "            (v_lin): Linear(in_features=768, out_features=768, bias=True)\n",
              "            (out_lin): Linear(in_features=768, out_features=768, bias=True)\n",
              "          )\n",
              "          (sa_layer_norm): LayerNorm((768,), eps=1e-12, elementwise_affine=True)\n",
              "          (ffn): FFN(\n",
              "            (dropout): Dropout(p=0.1, inplace=False)\n",
              "            (lin1): Linear(in_features=768, out_features=3072, bias=True)\n",
              "            (lin2): Linear(in_features=3072, out_features=768, bias=True)\n",
              "          )\n",
              "          (output_layer_norm): LayerNorm((768,), eps=1e-12, elementwise_affine=True)\n",
              "        )\n",
              "        (2): TransformerBlock(\n",
              "          (attention): MultiHeadSelfAttention(\n",
              "            (dropout): Dropout(p=0.1, inplace=False)\n",
              "            (q_lin): Linear(in_features=768, out_features=768, bias=True)\n",
              "            (k_lin): Linear(in_features=768, out_features=768, bias=True)\n",
              "            (v_lin): Linear(in_features=768, out_features=768, bias=True)\n",
              "            (out_lin): Linear(in_features=768, out_features=768, bias=True)\n",
              "          )\n",
              "          (sa_layer_norm): LayerNorm((768,), eps=1e-12, elementwise_affine=True)\n",
              "          (ffn): FFN(\n",
              "            (dropout): Dropout(p=0.1, inplace=False)\n",
              "            (lin1): Linear(in_features=768, out_features=3072, bias=True)\n",
              "            (lin2): Linear(in_features=3072, out_features=768, bias=True)\n",
              "          )\n",
              "          (output_layer_norm): LayerNorm((768,), eps=1e-12, elementwise_affine=True)\n",
              "        )\n",
              "        (3): TransformerBlock(\n",
              "          (attention): MultiHeadSelfAttention(\n",
              "            (dropout): Dropout(p=0.1, inplace=False)\n",
              "            (q_lin): Linear(in_features=768, out_features=768, bias=True)\n",
              "            (k_lin): Linear(in_features=768, out_features=768, bias=True)\n",
              "            (v_lin): Linear(in_features=768, out_features=768, bias=True)\n",
              "            (out_lin): Linear(in_features=768, out_features=768, bias=True)\n",
              "          )\n",
              "          (sa_layer_norm): LayerNorm((768,), eps=1e-12, elementwise_affine=True)\n",
              "          (ffn): FFN(\n",
              "            (dropout): Dropout(p=0.1, inplace=False)\n",
              "            (lin1): Linear(in_features=768, out_features=3072, bias=True)\n",
              "            (lin2): Linear(in_features=3072, out_features=768, bias=True)\n",
              "          )\n",
              "          (output_layer_norm): LayerNorm((768,), eps=1e-12, elementwise_affine=True)\n",
              "        )\n",
              "        (4): TransformerBlock(\n",
              "          (attention): MultiHeadSelfAttention(\n",
              "            (dropout): Dropout(p=0.1, inplace=False)\n",
              "            (q_lin): Linear(in_features=768, out_features=768, bias=True)\n",
              "            (k_lin): Linear(in_features=768, out_features=768, bias=True)\n",
              "            (v_lin): Linear(in_features=768, out_features=768, bias=True)\n",
              "            (out_lin): Linear(in_features=768, out_features=768, bias=True)\n",
              "          )\n",
              "          (sa_layer_norm): LayerNorm((768,), eps=1e-12, elementwise_affine=True)\n",
              "          (ffn): FFN(\n",
              "            (dropout): Dropout(p=0.1, inplace=False)\n",
              "            (lin1): Linear(in_features=768, out_features=3072, bias=True)\n",
              "            (lin2): Linear(in_features=3072, out_features=768, bias=True)\n",
              "          )\n",
              "          (output_layer_norm): LayerNorm((768,), eps=1e-12, elementwise_affine=True)\n",
              "        )\n",
              "        (5): TransformerBlock(\n",
              "          (attention): MultiHeadSelfAttention(\n",
              "            (dropout): Dropout(p=0.1, inplace=False)\n",
              "            (q_lin): Linear(in_features=768, out_features=768, bias=True)\n",
              "            (k_lin): Linear(in_features=768, out_features=768, bias=True)\n",
              "            (v_lin): Linear(in_features=768, out_features=768, bias=True)\n",
              "            (out_lin): Linear(in_features=768, out_features=768, bias=True)\n",
              "          )\n",
              "          (sa_layer_norm): LayerNorm((768,), eps=1e-12, elementwise_affine=True)\n",
              "          (ffn): FFN(\n",
              "            (dropout): Dropout(p=0.1, inplace=False)\n",
              "            (lin1): Linear(in_features=768, out_features=3072, bias=True)\n",
              "            (lin2): Linear(in_features=3072, out_features=768, bias=True)\n",
              "          )\n",
              "          (output_layer_norm): LayerNorm((768,), eps=1e-12, elementwise_affine=True)\n",
              "        )\n",
              "      )\n",
              "    )\n",
              "  )\n",
              "  (pre_classifier): Linear(in_features=768, out_features=768, bias=True)\n",
              "  (dropout): Dropout(p=0.1, inplace=False)\n",
              "  (classifier): Linear(in_features=768, out_features=1, bias=True)\n",
              ")"
            ]
          },
          "metadata": {
            "tags": []
          },
          "execution_count": 66
        }
      ]
    },
    {
      "cell_type": "code",
      "metadata": {
        "id": "Mk145BxGS9o1"
      },
      "source": [
        "def loss_fn(outputs, targets):\n",
        "  return torch.nn.BCEWithLogitsLoss()(outputs, targets)\n",
        "\n",
        "optimizer = torch.optim.Adam(params =  model.parameters(), lr=LEARNING_RATE)\n",
        "\n",
        "def train_model(epoch):\n",
        "  model.train()\n",
        "  for _,data in tqdm(enumerate(training_loader, 0)):\n",
        "    ids = data['ids'].to(device, dtype = torch.long)\n",
        "    mask = data['mask'].to(device, dtype = torch.long)\n",
        "    token_type_ids = data['token_type_ids'].to(device, dtype = torch.long)\n",
        "    targets = data['targets'].to(device, dtype = torch.float)\n",
        "\n",
        "    outputs = model(ids, mask, token_type_ids)\n",
        "\n",
        "    optimizer.zero_grad()\n",
        "    loss = loss_fn(outputs, targets)\n",
        "    if _%5000==0:\n",
        "      print(f'Epoch: {epoch}, Loss:  {loss.item()}')\n",
        "    \n",
        "    optimizer.zero_grad()\n",
        "    loss.backward()\n",
        "    optimizer.step()"
      ],
      "execution_count": null,
      "outputs": []
    },
    {
      "cell_type": "code",
      "metadata": {
        "id": "lT-Aa-Q1S_lZ",
        "colab": {
          "base_uri": "https://localhost:8080/"
        },
        "outputId": "9aa96fee-9fc0-404c-dfa8-2bf54575a4b9"
      },
      "source": [
        "for epoch in range(EPOCHS):\n",
        "    train_model(epoch)"
      ],
      "execution_count": null,
      "outputs": [
        {
          "output_type": "stream",
          "text": [
            "1it [00:00,  3.38it/s]"
          ],
          "name": "stderr"
        },
        {
          "output_type": "stream",
          "text": [
            "Epoch: 0, Loss:  0.6995131373405457\n"
          ],
          "name": "stdout"
        },
        {
          "output_type": "stream",
          "text": [
            "387it [01:33,  4.12it/s]\n",
            "1it [00:00,  4.38it/s]"
          ],
          "name": "stderr"
        },
        {
          "output_type": "stream",
          "text": [
            "Epoch: 1, Loss:  0.7472215294837952\n"
          ],
          "name": "stdout"
        },
        {
          "output_type": "stream",
          "text": [
            "387it [01:34,  4.09it/s]\n",
            "1it [00:00,  4.29it/s]"
          ],
          "name": "stderr"
        },
        {
          "output_type": "stream",
          "text": [
            "Epoch: 2, Loss:  0.752421498298645\n"
          ],
          "name": "stdout"
        },
        {
          "output_type": "stream",
          "text": [
            "387it [01:34,  4.09it/s]\n",
            "1it [00:00,  4.34it/s]"
          ],
          "name": "stderr"
        },
        {
          "output_type": "stream",
          "text": [
            "Epoch: 3, Loss:  0.35861483216285706\n"
          ],
          "name": "stdout"
        },
        {
          "output_type": "stream",
          "text": [
            "387it [01:35,  4.07it/s]\n",
            "1it [00:00,  4.30it/s]"
          ],
          "name": "stderr"
        },
        {
          "output_type": "stream",
          "text": [
            "Epoch: 4, Loss:  0.04436396434903145\n"
          ],
          "name": "stdout"
        },
        {
          "output_type": "stream",
          "text": [
            "387it [01:35,  4.07it/s]\n"
          ],
          "name": "stderr"
        }
      ]
    },
    {
      "cell_type": "code",
      "metadata": {
        "id": "el3_qbEJTA7Q"
      },
      "source": [
        "def validation(testing_loader):\n",
        "  model.eval()\n",
        "  fin_targets=[]\n",
        "  fin_outputs=[]\n",
        "  with torch.no_grad():\n",
        "    for _, data in tqdm(enumerate(testing_loader, 0)):\n",
        "      ids = data['ids'].to(device, dtype = torch.long)\n",
        "      mask = data['mask'].to(device, dtype = torch.long)\n",
        "      token_type_ids = data['token_type_ids'].to(device, dtype = torch.long)\n",
        "      targets = data['targets'].to(device, dtype = torch.float)\n",
        "      outputs = model(ids, mask, token_type_ids)\n",
        "      fin_targets.extend(targets.cpu().detach().numpy().tolist())\n",
        "      fin_outputs.extend(torch.sigmoid(outputs).cpu().detach().numpy().tolist())\n",
        "  return fin_outputs, fin_targets"
      ],
      "execution_count": null,
      "outputs": []
    },
    {
      "cell_type": "code",
      "metadata": {
        "cellView": "code",
        "colab": {
          "base_uri": "https://localhost:8080/"
        },
        "id": "IokY-AhFTCPb",
        "outputId": "fdd5d732-8801-4229-b5db-2ecae91a77b2"
      },
      "source": [
        "outputs, targets = validation(testing_loader)\n",
        "\n",
        "# val_out, val_targets = validation(validation_loader)\n",
        "# val_outputs = np.array(val_out) >= 0.5\n",
        "\n",
        "final_outputs = np.array(outputs) >=0.5"
      ],
      "execution_count": null,
      "outputs": [
        {
          "output_type": "stream",
          "text": [
            "111it [00:10, 10.60it/s]\n"
          ],
          "name": "stderr"
        }
      ]
    },
    {
      "cell_type": "code",
      "metadata": {
        "colab": {
          "base_uri": "https://localhost:8080/"
        },
        "id": "vFVRkk3eTDjH",
        "outputId": "bbb131a3-5cbc-4214-d200-6d9316c4a104"
      },
      "source": [
        "# Saving the files to drive\n",
        "\n",
        "output_model_file = \"/content/drive/MyDrive/ECE 579 Project/models/distilbert_model_newslabels.bin\"\n",
        "output_vocab_file = \"/content/drive/MyDrive/ECE 579 Project/models/vocab_newslabels.bin\"\n",
        "\n",
        "torch.save(model, output_model_file)\n",
        "tokenizer.save_vocabulary(output_vocab_file)\n",
        "\n",
        "print('Saved')"
      ],
      "execution_count": null,
      "outputs": [
        {
          "output_type": "stream",
          "text": [
            "Saved\n"
          ],
          "name": "stdout"
        }
      ]
    },
    {
      "cell_type": "code",
      "metadata": {
        "colab": {
          "base_uri": "https://localhost:8080/"
        },
        "id": "6rHce0E6UnKF",
        "outputId": "b1ac584d-a985-41dc-9adc-724a298e1642"
      },
      "source": [
        "report(targets, final_outputs.astype(int))"
      ],
      "execution_count": null,
      "outputs": [
        {
          "output_type": "stream",
          "text": [
            "Confusion Matrix\n",
            "[[ 68 146]\n",
            " [ 79 149]]\n",
            "\n",
            "Overall prediction accuracy: 0.49095022624434387\n",
            "\n",
            "Classification Report: \n",
            "              precision    recall  f1-score   support\n",
            "\n",
            "         0.0       0.46      0.32      0.38       214\n",
            "         1.0       0.51      0.65      0.57       228\n",
            "\n",
            "    accuracy                           0.49       442\n",
            "   macro avg       0.48      0.49      0.47       442\n",
            "weighted avg       0.48      0.49      0.48       442\n",
            "\n"
          ],
          "name": "stdout"
        }
      ]
    },
    {
      "cell_type": "code",
      "metadata": {
        "id": "btbZgWvLi7iB"
      },
      "source": [
        "# report(val_targets, val_outputs.astype(int))"
      ],
      "execution_count": null,
      "outputs": []
    },
    {
      "cell_type": "markdown",
      "metadata": {
        "id": "4YSoi-qmlS86"
      },
      "source": [
        "### Vadersentiment"
      ]
    },
    {
      "cell_type": "code",
      "metadata": {
        "colab": {
          "base_uri": "https://localhost:8080/"
        },
        "id": "qE5fgSvElYYZ",
        "outputId": "e9d37e37-8e73-4c9e-9c6b-1a13add24bd9"
      },
      "source": [
        "!pip install vaderSentiment"
      ],
      "execution_count": 46,
      "outputs": [
        {
          "output_type": "stream",
          "text": [
            "Collecting vaderSentiment\n",
            "\u001b[?25l  Downloading https://files.pythonhosted.org/packages/76/fc/310e16254683c1ed35eeb97386986d6c00bc29df17ce280aed64d55537e9/vaderSentiment-3.3.2-py2.py3-none-any.whl (125kB)\n",
            "\r\u001b[K     |██▋                             | 10kB 14.3MB/s eta 0:00:01\r\u001b[K     |█████▏                          | 20kB 19.7MB/s eta 0:00:01\r\u001b[K     |███████▉                        | 30kB 22.6MB/s eta 0:00:01\r\u001b[K     |██████████▍                     | 40kB 26.0MB/s eta 0:00:01\r\u001b[K     |█████████████                   | 51kB 20.1MB/s eta 0:00:01\r\u001b[K     |███████████████▋                | 61kB 20.8MB/s eta 0:00:01\r\u001b[K     |██████████████████▏             | 71kB 21.9MB/s eta 0:00:01\r\u001b[K     |████████████████████▉           | 81kB 16.8MB/s eta 0:00:01\r\u001b[K     |███████████████████████▍        | 92kB 17.7MB/s eta 0:00:01\r\u001b[K     |██████████████████████████      | 102kB 16.8MB/s eta 0:00:01\r\u001b[K     |████████████████████████████▋   | 112kB 16.8MB/s eta 0:00:01\r\u001b[K     |███████████████████████████████▏| 122kB 16.8MB/s eta 0:00:01\r\u001b[K     |████████████████████████████████| 133kB 16.8MB/s \n",
            "\u001b[?25hRequirement already satisfied: requests in /usr/local/lib/python3.7/dist-packages (from vaderSentiment) (2.23.0)\n",
            "Requirement already satisfied: chardet<4,>=3.0.2 in /usr/local/lib/python3.7/dist-packages (from requests->vaderSentiment) (3.0.4)\n",
            "Requirement already satisfied: idna<3,>=2.5 in /usr/local/lib/python3.7/dist-packages (from requests->vaderSentiment) (2.10)\n",
            "Requirement already satisfied: urllib3!=1.25.0,!=1.25.1,<1.26,>=1.21.1 in /usr/local/lib/python3.7/dist-packages (from requests->vaderSentiment) (1.24.3)\n",
            "Requirement already satisfied: certifi>=2017.4.17 in /usr/local/lib/python3.7/dist-packages (from requests->vaderSentiment) (2020.12.5)\n",
            "Installing collected packages: vaderSentiment\n",
            "Successfully installed vaderSentiment-3.3.2\n"
          ],
          "name": "stdout"
        }
      ]
    },
    {
      "cell_type": "code",
      "metadata": {
        "id": "fDpeyW8X5SpV"
      },
      "source": [
        "# Prep all data for headlines\n",
        "# remove extra indices\n",
        "\n",
        "data = df.iloc[:, 2:27]\n",
        "\n",
        "# remove non alphabetical characters\n",
        "data.replace(\"[^a-zA-Z]\", \" \", regex=True, inplace=True)\n",
        "\n",
        "# rename columns\n",
        "list1 = [i for i in range(25)]\n",
        "new_Index = [str(i) for i in list1]\n",
        "data.columns = new_Index\n",
        "\n",
        "# make everything lowercase\n",
        "for index in new_Index:\n",
        "    data[index] = data[index].str.lower()\n",
        "\n",
        "# create list for each row merging all headlines into one\n",
        "news_headlines = []\n",
        "for row in range(0, len(data.index)):\n",
        "    news_headlines.append(' '.join(str(x) for x in data.iloc[row, 0:25]))"
      ],
      "execution_count": 47,
      "outputs": []
    },
    {
      "cell_type": "code",
      "metadata": {
        "id": "3PBes0PelclA"
      },
      "source": [
        "from vaderSentiment.vaderSentiment import SentimentIntensityAnalyzer\n",
        "\n",
        "vader_analyzer = SentimentIntensityAnalyzer()\n",
        "out = []\n",
        "\n",
        "# use headlines list from generic_forrest\n",
        "for item in range(0, len(news_headlines)):\n",
        "  out.append(vader_analyzer.polarity_scores(news_headlines[item]))\n",
        "\n",
        "vader_output = pd.DataFrame(out, columns=['neg', 'neu', 'pos', 'compound'])"
      ],
      "execution_count": 48,
      "outputs": []
    },
    {
      "cell_type": "markdown",
      "metadata": {
        "id": "DcfvTKiRpfJy"
      },
      "source": [
        "## XGBoost Stuff"
      ]
    },
    {
      "cell_type": "code",
      "metadata": {
        "id": "zSnuWEbTnrfc"
      },
      "source": [
        "def xgboost_data_gen(stock_data):\n",
        "  # Building input data - including stock data, sentiment, technical indicators (RSI/ MA/ etc.)\n",
        "  # stock data\n",
        "  start_date = '2008-08-08'\n",
        "  end_date = '2016-06-28'\n",
        "  test_stock_data = stock_data.data\n",
        "  test_stock_data = test_stock_data.loc[(test_stock_data['<DATE>'] >= start_date) & (test_stock_data['<DATE>'] <= end_date)]\n",
        "  test_stock_data = test_stock_data.reset_index()\n",
        "\n",
        "  # random forrest output\n",
        "  rf_labels = pd.DataFrame(df['Label'].loc[(df['Date'] < '20141231')])\n",
        "  rf_labels = rf_labels['Label'].append(pd.Series(name = 'Label', data = generic_forrest.predictions), ignore_index = True)\n",
        "  rf_labels = rf_labels.rename('RandomForrest')\n",
        "\n",
        "  # technical indicators\n",
        "  # moving average columns\n",
        "  test_stock_data['MA5'] = test_stock_data['<CLOSE>'].rolling(window=5).mean()\n",
        "  test_stock_data['MA10'] = test_stock_data['<CLOSE>'].rolling(window=10).mean()\n",
        "  test_stock_data['MA20'] = test_stock_data['<CLOSE>'].rolling(window=20).mean()\n",
        "  test_stock_data['MA50'] = test_stock_data['<CLOSE>'].rolling(window=50).mean()\n",
        "  test_stock_data['MA200'] = test_stock_data['<CLOSE>'].rolling(window=200).mean()\n",
        "\n",
        "  # Force Index (ForceIndex)\n",
        "  test_stock_data['FI'] = test_stock_data['<CLOSE>'].diff(1) * test_stock_data['<VOL>']\n",
        "\n",
        "  # final concat of data inputs    \n",
        "  xgboost_data = pd.concat([vader_output, test_stock_data, rf_labels], axis=1, join='inner')\n",
        "  # rename columns since xgboost doesn't like <>\n",
        "  xgboost_data.rename(columns = {'<DATE>':'Date', '<OPEN>':'Open', '<HIGH>':'High', '<LOW>':'Low', '<CLOSE>':'Close', '<VOL>':'Vol'}, inplace = True)\n",
        "  # get rid of old index\n",
        "  del xgboost_data['index']\n",
        "\n",
        "  # make sure data looks good\n",
        "  return xgboost_data"
      ],
      "execution_count": 43,
      "outputs": []
    },
    {
      "cell_type": "code",
      "metadata": {
        "id": "s_JlMMqx6xM5"
      },
      "source": [
        "def xgboost_split(xg_data):\n",
        "\n",
        "  # split into test and train around 2014-10-01\n",
        "  X_train = xg_data[xg_data['Date'] < '2015-01-01']\n",
        "  del X_train['Date']\n",
        "  X_test = xg_data[xg_data['Date'] >= '2015-01-01']\n",
        "  del X_test['Date']\n",
        "  y_train = df[df['Date'] < '2014-12-31']['Label']\n",
        "  y_test = df[df['Date'] >= '2014-12-31']['Label']\n",
        "\n",
        "  # remove some extra data pieces.... (not sure why these are here)\n",
        "  y_test.pop(1985)\n",
        "  y_test.pop(1986)\n",
        "  y_test.pop(1987)\n",
        "  y_test.pop(1988)\n",
        "\n",
        "  return X_train, X_test, y_train, y_test"
      ],
      "execution_count": null,
      "outputs": []
    },
    {
      "cell_type": "code",
      "metadata": {
        "id": "QFlHsal3nQxv"
      },
      "source": [
        "from xgboost import XGBClassifier\n",
        "from sklearn.metrics import classification_report\n",
        "\n",
        "def xg_train(X_train, X_test, y_train, y_test):\n",
        "  # setup xgboost classifier (binary classifier)\n",
        "  model = XGBClassifier(max_depth = 50, n_estimators = 500, learning_rate = 0.01)\n",
        "  # train model\n",
        "  model.fit(X_train, y_train)\n",
        "  # predict test data\n",
        "  y_pred = model.predict(X_test)\n",
        "  # display accuracy\n",
        "  accu_score = accuracy_score(y_test, y_pred)\n",
        "  print(accu_score)\n",
        "  print(classification_report(y_pred, y_test))\n",
        "  return model, y_pred"
      ],
      "execution_count": null,
      "outputs": []
    },
    {
      "cell_type": "code",
      "metadata": {
        "id": "KCqYU-Ek_7Hn"
      },
      "source": [
        "import seaborn as sns\n",
        "import numpy as np\n",
        "\n",
        "def xg_importance(model):\n",
        "  # plot feature importance in classifier\n",
        "  indices = np.argsort(model.feature_importances_)[::-1]\n",
        "\n",
        "  features = []\n",
        "  for i in range(10):\n",
        "      features.append(xgboost_data.columns[indices[i]])\n",
        "\n",
        "  fig, ax = plt.subplots(figsize=(15,5))     \n",
        "\n",
        "  sns.barplot(x=features, y=model.feature_importances_[indices[range(10)]],\\\n",
        "  label=\"Importtant Categorical Features\", palette=(\"Blues_d\"),ax=ax).\\\n",
        "  set_title('Categorical Features Importance')\n",
        "\n",
        "  ax.set(xlabel=\"Columns\", ylabel = \"Importance\")"
      ],
      "execution_count": null,
      "outputs": []
    },
    {
      "cell_type": "code",
      "metadata": {
        "colab": {
          "base_uri": "https://localhost:8080/",
          "height": 424
        },
        "id": "w8_y8G3e45Vt",
        "outputId": "ae76a0d7-f76b-45ae-d988-2d4fb728ff29"
      },
      "source": [
        "xgboost_data_dia = xgboost_data_gen(dia_data)\n",
        "xgboost_data_dia"
      ],
      "execution_count": 50,
      "outputs": [
        {
          "output_type": "execute_result",
          "data": {
            "text/html": [
              "<div>\n",
              "<style scoped>\n",
              "    .dataframe tbody tr th:only-of-type {\n",
              "        vertical-align: middle;\n",
              "    }\n",
              "\n",
              "    .dataframe tbody tr th {\n",
              "        vertical-align: top;\n",
              "    }\n",
              "\n",
              "    .dataframe thead th {\n",
              "        text-align: right;\n",
              "    }\n",
              "</style>\n",
              "<table border=\"1\" class=\"dataframe\">\n",
              "  <thead>\n",
              "    <tr style=\"text-align: right;\">\n",
              "      <th></th>\n",
              "      <th>neg</th>\n",
              "      <th>neu</th>\n",
              "      <th>pos</th>\n",
              "      <th>compound</th>\n",
              "      <th>Date</th>\n",
              "      <th>Open</th>\n",
              "      <th>High</th>\n",
              "      <th>Low</th>\n",
              "      <th>Close</th>\n",
              "      <th>Vol</th>\n",
              "      <th>MA5</th>\n",
              "      <th>MA10</th>\n",
              "      <th>MA20</th>\n",
              "      <th>MA50</th>\n",
              "      <th>MA200</th>\n",
              "      <th>FI</th>\n",
              "      <th>RandomForrest</th>\n",
              "    </tr>\n",
              "  </thead>\n",
              "  <tbody>\n",
              "    <tr>\n",
              "      <th>0</th>\n",
              "      <td>0.221</td>\n",
              "      <td>0.741</td>\n",
              "      <td>0.039</td>\n",
              "      <td>-0.9982</td>\n",
              "      <td>2008-08-08</td>\n",
              "      <td>93.219</td>\n",
              "      <td>96.008</td>\n",
              "      <td>93.057</td>\n",
              "      <td>95.446</td>\n",
              "      <td>38254036</td>\n",
              "      <td>NaN</td>\n",
              "      <td>NaN</td>\n",
              "      <td>NaN</td>\n",
              "      <td>NaN</td>\n",
              "      <td>NaN</td>\n",
              "      <td>NaN</td>\n",
              "      <td>0</td>\n",
              "    </tr>\n",
              "    <tr>\n",
              "      <th>1</th>\n",
              "      <td>0.172</td>\n",
              "      <td>0.746</td>\n",
              "      <td>0.082</td>\n",
              "      <td>-0.9837</td>\n",
              "      <td>2008-08-11</td>\n",
              "      <td>95.483</td>\n",
              "      <td>96.908</td>\n",
              "      <td>95.307</td>\n",
              "      <td>96.136</td>\n",
              "      <td>27554381</td>\n",
              "      <td>NaN</td>\n",
              "      <td>NaN</td>\n",
              "      <td>NaN</td>\n",
              "      <td>NaN</td>\n",
              "      <td>NaN</td>\n",
              "      <td>1.901252e+07</td>\n",
              "      <td>1</td>\n",
              "    </tr>\n",
              "    <tr>\n",
              "      <th>2</th>\n",
              "      <td>0.116</td>\n",
              "      <td>0.832</td>\n",
              "      <td>0.052</td>\n",
              "      <td>-0.9679</td>\n",
              "      <td>2008-08-12</td>\n",
              "      <td>95.841</td>\n",
              "      <td>95.901</td>\n",
              "      <td>94.717</td>\n",
              "      <td>95.121</td>\n",
              "      <td>27502355</td>\n",
              "      <td>NaN</td>\n",
              "      <td>NaN</td>\n",
              "      <td>NaN</td>\n",
              "      <td>NaN</td>\n",
              "      <td>NaN</td>\n",
              "      <td>-2.791489e+07</td>\n",
              "      <td>0</td>\n",
              "    </tr>\n",
              "    <tr>\n",
              "      <th>3</th>\n",
              "      <td>0.139</td>\n",
              "      <td>0.800</td>\n",
              "      <td>0.061</td>\n",
              "      <td>-0.9818</td>\n",
              "      <td>2008-08-13</td>\n",
              "      <td>94.717</td>\n",
              "      <td>94.813</td>\n",
              "      <td>93.608</td>\n",
              "      <td>94.189</td>\n",
              "      <td>34546335</td>\n",
              "      <td>NaN</td>\n",
              "      <td>NaN</td>\n",
              "      <td>NaN</td>\n",
              "      <td>NaN</td>\n",
              "      <td>NaN</td>\n",
              "      <td>-3.219718e+07</td>\n",
              "      <td>0</td>\n",
              "    </tr>\n",
              "    <tr>\n",
              "      <th>4</th>\n",
              "      <td>0.175</td>\n",
              "      <td>0.728</td>\n",
              "      <td>0.097</td>\n",
              "      <td>-0.9850</td>\n",
              "      <td>2008-08-14</td>\n",
              "      <td>93.738</td>\n",
              "      <td>95.744</td>\n",
              "      <td>93.608</td>\n",
              "      <td>94.992</td>\n",
              "      <td>30158885</td>\n",
              "      <td>95.1768</td>\n",
              "      <td>NaN</td>\n",
              "      <td>NaN</td>\n",
              "      <td>NaN</td>\n",
              "      <td>NaN</td>\n",
              "      <td>2.421758e+07</td>\n",
              "      <td>1</td>\n",
              "    </tr>\n",
              "    <tr>\n",
              "      <th>...</th>\n",
              "      <td>...</td>\n",
              "      <td>...</td>\n",
              "      <td>...</td>\n",
              "      <td>...</td>\n",
              "      <td>...</td>\n",
              "      <td>...</td>\n",
              "      <td>...</td>\n",
              "      <td>...</td>\n",
              "      <td>...</td>\n",
              "      <td>...</td>\n",
              "      <td>...</td>\n",
              "      <td>...</td>\n",
              "      <td>...</td>\n",
              "      <td>...</td>\n",
              "      <td>...</td>\n",
              "      <td>...</td>\n",
              "      <td>...</td>\n",
              "    </tr>\n",
              "    <tr>\n",
              "      <th>1980</th>\n",
              "      <td>0.196</td>\n",
              "      <td>0.751</td>\n",
              "      <td>0.053</td>\n",
              "      <td>-0.9979</td>\n",
              "      <td>2016-06-22</td>\n",
              "      <td>164.530</td>\n",
              "      <td>165.170</td>\n",
              "      <td>163.780</td>\n",
              "      <td>163.920</td>\n",
              "      <td>3205796</td>\n",
              "      <td>163.7500</td>\n",
              "      <td>163.801</td>\n",
              "      <td>164.1290</td>\n",
              "      <td>163.6164</td>\n",
              "      <td>157.13315</td>\n",
              "      <td>-1.442608e+06</td>\n",
              "      <td>1</td>\n",
              "    </tr>\n",
              "    <tr>\n",
              "      <th>1981</th>\n",
              "      <td>0.112</td>\n",
              "      <td>0.815</td>\n",
              "      <td>0.072</td>\n",
              "      <td>-0.9833</td>\n",
              "      <td>2016-06-23</td>\n",
              "      <td>165.220</td>\n",
              "      <td>165.970</td>\n",
              "      <td>164.920</td>\n",
              "      <td>165.970</td>\n",
              "      <td>3167600</td>\n",
              "      <td>164.2500</td>\n",
              "      <td>163.828</td>\n",
              "      <td>164.2155</td>\n",
              "      <td>163.6532</td>\n",
              "      <td>157.21755</td>\n",
              "      <td>6.493580e+06</td>\n",
              "      <td>1</td>\n",
              "    </tr>\n",
              "    <tr>\n",
              "      <th>1982</th>\n",
              "      <td>0.160</td>\n",
              "      <td>0.754</td>\n",
              "      <td>0.087</td>\n",
              "      <td>-0.9897</td>\n",
              "      <td>2016-06-24</td>\n",
              "      <td>161.120</td>\n",
              "      <td>163.080</td>\n",
              "      <td>159.970</td>\n",
              "      <td>160.270</td>\n",
              "      <td>12324106</td>\n",
              "      <td>163.7320</td>\n",
              "      <td>163.391</td>\n",
              "      <td>164.0260</td>\n",
              "      <td>163.5724</td>\n",
              "      <td>157.28425</td>\n",
              "      <td>-7.024740e+07</td>\n",
              "      <td>1</td>\n",
              "    </tr>\n",
              "    <tr>\n",
              "      <th>1983</th>\n",
              "      <td>0.096</td>\n",
              "      <td>0.855</td>\n",
              "      <td>0.049</td>\n",
              "      <td>-0.9167</td>\n",
              "      <td>2016-06-27</td>\n",
              "      <td>159.180</td>\n",
              "      <td>159.180</td>\n",
              "      <td>157.260</td>\n",
              "      <td>158.010</td>\n",
              "      <td>8327343</td>\n",
              "      <td>162.5080</td>\n",
              "      <td>162.852</td>\n",
              "      <td>163.7045</td>\n",
              "      <td>163.4520</td>\n",
              "      <td>157.33560</td>\n",
              "      <td>-1.881980e+07</td>\n",
              "      <td>1</td>\n",
              "    </tr>\n",
              "    <tr>\n",
              "      <th>1984</th>\n",
              "      <td>0.144</td>\n",
              "      <td>0.760</td>\n",
              "      <td>0.096</td>\n",
              "      <td>-0.9618</td>\n",
              "      <td>2016-06-28</td>\n",
              "      <td>159.550</td>\n",
              "      <td>160.500</td>\n",
              "      <td>158.920</td>\n",
              "      <td>160.460</td>\n",
              "      <td>6112097</td>\n",
              "      <td>161.7260</td>\n",
              "      <td>162.611</td>\n",
              "      <td>163.5430</td>\n",
              "      <td>163.3606</td>\n",
              "      <td>157.39465</td>\n",
              "      <td>1.497464e+07</td>\n",
              "      <td>0</td>\n",
              "    </tr>\n",
              "  </tbody>\n",
              "</table>\n",
              "<p>1985 rows × 17 columns</p>\n",
              "</div>"
            ],
            "text/plain": [
              "        neg    neu    pos  ...      MA200            FI  RandomForrest\n",
              "0     0.221  0.741  0.039  ...        NaN           NaN              0\n",
              "1     0.172  0.746  0.082  ...        NaN  1.901252e+07              1\n",
              "2     0.116  0.832  0.052  ...        NaN -2.791489e+07              0\n",
              "3     0.139  0.800  0.061  ...        NaN -3.219718e+07              0\n",
              "4     0.175  0.728  0.097  ...        NaN  2.421758e+07              1\n",
              "...     ...    ...    ...  ...        ...           ...            ...\n",
              "1980  0.196  0.751  0.053  ...  157.13315 -1.442608e+06              1\n",
              "1981  0.112  0.815  0.072  ...  157.21755  6.493580e+06              1\n",
              "1982  0.160  0.754  0.087  ...  157.28425 -7.024740e+07              1\n",
              "1983  0.096  0.855  0.049  ...  157.33560 -1.881980e+07              1\n",
              "1984  0.144  0.760  0.096  ...  157.39465  1.497464e+07              0\n",
              "\n",
              "[1985 rows x 17 columns]"
            ]
          },
          "metadata": {
            "tags": []
          },
          "execution_count": 50
        }
      ]
    },
    {
      "cell_type": "code",
      "metadata": {
        "colab": {
          "base_uri": "https://localhost:8080/"
        },
        "id": "pL7NfHIPr2cU",
        "outputId": "bcbb1931-d242-46e7-8d5d-e635eb01bc75"
      },
      "source": [
        "xgboost_data_dia = xgboost_data_gen(dia_data)\n",
        "xgboost_data_spy = xgboost_data_gen(spy_data)\n",
        "xgboost_data_qqq = xgboost_data_gen(qqq_data)\n",
        "\n",
        "X_train_dia, X_test_dia, y_train_dia, y_test_dia = xgboost_split(xgboost_data_dia)\n",
        "X_train_spy, X_test_spy, y_train_spy, y_test_spy = xgboost_split(xgboost_data_spy)\n",
        "X_train_qqq, X_test_qqq, y_train_qqq, y_test_qqq = xgboost_split(xgboost_data_qqq)\n",
        "\n",
        "dia_model, dia_pred = xg_train(X_train_dia, X_test_dia, y_train_dia, y_test_dia)\n",
        "spy_model, spy_pred = xg_train(X_train_spy, X_test_spy, y_train_spy, y_test_spy)\n",
        "# qqq_model, qqq_pred = xg_train(X_train_qqq, X_test_qqq, y_train_qqq, y_test_qqq)"
      ],
      "execution_count": null,
      "outputs": [
        {
          "output_type": "stream",
          "text": [
            "0.8693333333333333\n",
            "              precision    recall  f1-score   support\n",
            "\n",
            "           0       0.74      1.00      0.85       138\n",
            "           1       1.00      0.79      0.88       237\n",
            "\n",
            "    accuracy                           0.87       375\n",
            "   macro avg       0.87      0.90      0.87       375\n",
            "weighted avg       0.90      0.87      0.87       375\n",
            "\n",
            "0.8693333333333333\n",
            "              precision    recall  f1-score   support\n",
            "\n",
            "           0       0.74      1.00      0.85       138\n",
            "           1       1.00      0.79      0.88       237\n",
            "\n",
            "    accuracy                           0.87       375\n",
            "   macro avg       0.87      0.90      0.87       375\n",
            "weighted avg       0.90      0.87      0.87       375\n",
            "\n"
          ],
          "name": "stdout"
        }
      ]
    },
    {
      "cell_type": "code",
      "metadata": {
        "colab": {
          "base_uri": "https://localhost:8080/",
          "height": 350
        },
        "id": "iY_zKWSDvITU",
        "outputId": "b00ece3b-edb8-4258-a41c-553b6dfd85f1"
      },
      "source": [
        "xg_importance(dia_model)"
      ],
      "execution_count": null,
      "outputs": [
        {
          "output_type": "display_data",
          "data": {
            "image/png": "[encoded data removed]",
            "text/plain": [
              "<Figure size 1080x360 with 1 Axes>"
            ]
          },
          "metadata": {
            "tags": [],
            "needs_background": "light"
          }
        }
      ]
    },
    {
      "cell_type": "code",
      "metadata": {
        "id": "wjxrPahDKSvj"
      },
      "source": [
        "# setup data for regressor\n",
        "# remove close/ open price from X_train and use them for y_train etc.\n",
        "reg_y_train = X_train.Close\n",
        "reg_y_test = X_test.Close\n",
        "\n",
        "reg_y_train = reg_y_train.shift(1).reset_index()\n",
        "reg_y_test = reg_y_test.shift(1).reset_index()\n",
        "\n",
        "reg_X_train = X_train\n",
        "reg_X_test = X_test\n",
        "\n",
        "del reg_X_train['Close']\n",
        "del reg_y_train['index']\n",
        "del reg_X_test['Close']\n",
        "del reg_y_test['index']"
      ],
      "execution_count": null,
      "outputs": []
    },
    {
      "cell_type": "code",
      "metadata": {
        "colab": {
          "base_uri": "https://localhost:8080/",
          "height": 283
        },
        "id": "YVGCg5kGBpoy",
        "outputId": "af173100-7113-49e4-c5ee-b31f0702e8a1"
      },
      "source": [
        "from xgboost import XGBRegressor\n",
        "from sklearn.metrics import mean_squared_error as MSE\n",
        "\n",
        "reg_model = XGBRegressor()\n",
        "reg_model.fit(X_train, reg_y_train)\n",
        "reg_pred = reg_model.predict(X_test)\n",
        "rmse = np.sqrt(MSE(reg_y_test, reg_pred))\n",
        "print(\"RMSE : % f\" %(rmse))\n",
        "\n",
        "plot_out = reg_y_test.to_list()\n",
        "\n",
        "plt.plot(range(0, len(reg_pred)), reg_pred, linestyle = (0,(0.1,2)), dash_capstyle = 'round', linewidth = 4, color = 'Green')\n",
        "plt.plot(plot_out)\n",
        "plt.show()"
      ],
      "execution_count": null,
      "outputs": [
        {
          "output_type": "stream",
          "text": [
            "[16:50:36] WARNING: /workspace/src/objective/regression_obj.cu:152: reg:linear is now deprecated in favor of reg:squarederror.\n"
          ],
          "name": "stdout"
        },
        {
          "output_type": "display_data",
          "data": {
            "image/png": "[encoded data removed]",
            "text/plain": [
              "<Figure size 432x288 with 1 Axes>"
            ]
          },
          "metadata": {
            "tags": [],
            "needs_background": "light"
          }
        }
      ]
    },
    {
      "cell_type": "code",
      "metadata": {
        "colab": {
          "base_uri": "https://localhost:8080/",
          "height": 368
        },
        "id": "I8_XNiGePg9d",
        "outputId": "5be5aac7-b7dc-4405-f74e-a82812b1c276"
      },
      "source": [
        "import seaborn as sns\n",
        "import numpy as np\n",
        "\n",
        "# plot feature importance in classifier\n",
        "indices = np.argsort(reg_model.feature_importances_)[::-1]\n",
        "\n",
        "features = []\n",
        "for i in range(10):\n",
        "    features.append(X_train.columns[indices[i]])\n",
        "\n",
        "fig, ax = plt.subplots(figsize=(15,5))     \n",
        "\n",
        "sns.barplot(x=features, y=reg_model.feature_importances_[indices[range(10)]],\\\n",
        "label=\"Importtant Categorical Features\", palette=(\"Blues_d\"),ax=ax).\\\n",
        "set_title('Categorical Features Importance')\n",
        "\n",
        "ax.set(xlabel=\"Columns\", ylabel = \"Importance\")"
      ],
      "execution_count": null,
      "outputs": [
        {
          "output_type": "execute_result",
          "data": {
            "text/plain": [
              "[Text(0, 0.5, 'Importance'), Text(0.5, 0, 'Columns')]"
            ]
          },
          "metadata": {
            "tags": []
          },
          "execution_count": 80
        },
        {
          "output_type": "display_data",
          "data": {
            "image/png": "[encoded data removed]",
            "text/plain": [
              "<Figure size 1080x360 with 1 Axes>"
            ]
          },
          "metadata": {
            "tags": [],
            "needs_background": "light"
          }
        }
      ]
    },
    {
      "cell_type": "markdown",
      "metadata": {
        "id": "LbFzAfajAix9"
      },
      "source": [
        "## ARIMA"
      ]
    },
    {
      "cell_type": "code",
      "metadata": {
        "id": "GUXGF-pGswYX",
        "colab": {
          "base_uri": "https://localhost:8080/"
        },
        "outputId": "d7b34467-4608-4870-eb59-cd952c9136f5"
      },
      "source": [
        "!pip install pmdarima"
      ],
      "execution_count": 32,
      "outputs": [
        {
          "output_type": "stream",
          "text": [
            "Collecting pmdarima\n",
            "\u001b[?25l  Downloading https://files.pythonhosted.org/packages/e4/a8/bdf15174e35d072e145d16388b1d3bc7605b752610170cb022a290411427/pmdarima-1.8.0-cp37-cp37m-manylinux1_x86_64.whl (1.5MB)\n",
            "\r\u001b[K     |▎                               | 10kB 12.3MB/s eta 0:00:01\r\u001b[K     |▌                               | 20kB 17.8MB/s eta 0:00:01\r\u001b[K     |▊                               | 30kB 22.0MB/s eta 0:00:01\r\u001b[K     |█                               | 40kB 24.3MB/s eta 0:00:01\r\u001b[K     |█▏                              | 51kB 26.5MB/s eta 0:00:01\r\u001b[K     |█▍                              | 61kB 21.2MB/s eta 0:00:01\r\u001b[K     |█▋                              | 71kB 19.4MB/s eta 0:00:01\r\u001b[K     |█▉                              | 81kB 18.5MB/s eta 0:00:01\r\u001b[K     |██                              | 92kB 17.7MB/s eta 0:00:01\r\u001b[K     |██▎                             | 102kB 18.4MB/s eta 0:00:01\r\u001b[K     |██▌                             | 112kB 18.4MB/s eta 0:00:01\r\u001b[K     |██▊                             | 122kB 18.4MB/s eta 0:00:01\r\u001b[K     |███                             | 133kB 18.4MB/s eta 0:00:01\r\u001b[K     |███▏                            | 143kB 18.4MB/s eta 0:00:01\r\u001b[K     |███▍                            | 153kB 18.4MB/s eta 0:00:01\r\u001b[K     |███▋                            | 163kB 18.4MB/s eta 0:00:01\r\u001b[K     |███▉                            | 174kB 18.4MB/s eta 0:00:01\r\u001b[K     |████                            | 184kB 18.4MB/s eta 0:00:01\r\u001b[K     |████▎                           | 194kB 18.4MB/s eta 0:00:01\r\u001b[K     |████▌                           | 204kB 18.4MB/s eta 0:00:01\r\u001b[K     |████▊                           | 215kB 18.4MB/s eta 0:00:01\r\u001b[K     |█████                           | 225kB 18.4MB/s eta 0:00:01\r\u001b[K     |█████▏                          | 235kB 18.4MB/s eta 0:00:01\r\u001b[K     |█████▍                          | 245kB 18.4MB/s eta 0:00:01\r\u001b[K     |█████▋                          | 256kB 18.4MB/s eta 0:00:01\r\u001b[K     |█████▉                          | 266kB 18.4MB/s eta 0:00:01\r\u001b[K     |██████                          | 276kB 18.4MB/s eta 0:00:01\r\u001b[K     |██████▎                         | 286kB 18.4MB/s eta 0:00:01\r\u001b[K     |██████▌                         | 296kB 18.4MB/s eta 0:00:01\r\u001b[K     |██████▊                         | 307kB 18.4MB/s eta 0:00:01\r\u001b[K     |███████                         | 317kB 18.4MB/s eta 0:00:01\r\u001b[K     |███████▏                        | 327kB 18.4MB/s eta 0:00:01\r\u001b[K     |███████▍                        | 337kB 18.4MB/s eta 0:00:01\r\u001b[K     |███████▋                        | 348kB 18.4MB/s eta 0:00:01\r\u001b[K     |███████▉                        | 358kB 18.4MB/s eta 0:00:01\r\u001b[K     |████████                        | 368kB 18.4MB/s eta 0:00:01\r\u001b[K     |████████▎                       | 378kB 18.4MB/s eta 0:00:01\r\u001b[K     |████████▌                       | 389kB 18.4MB/s eta 0:00:01\r\u001b[K     |████████▊                       | 399kB 18.4MB/s eta 0:00:01\r\u001b[K     |█████████                       | 409kB 18.4MB/s eta 0:00:01\r\u001b[K     |█████████▏                      | 419kB 18.4MB/s eta 0:00:01\r\u001b[K     |█████████▍                      | 430kB 18.4MB/s eta 0:00:01\r\u001b[K     |█████████▋                      | 440kB 18.4MB/s eta 0:00:01\r\u001b[K     |█████████▉                      | 450kB 18.4MB/s eta 0:00:01\r\u001b[K     |██████████                      | 460kB 18.4MB/s eta 0:00:01\r\u001b[K     |██████████▎                     | 471kB 18.4MB/s eta 0:00:01\r\u001b[K     |██████████▌                     | 481kB 18.4MB/s eta 0:00:01\r\u001b[K     |██████████▊                     | 491kB 18.4MB/s eta 0:00:01\r\u001b[K     |███████████                     | 501kB 18.4MB/s eta 0:00:01\r\u001b[K     |███████████▏                    | 512kB 18.4MB/s eta 0:00:01\r\u001b[K     |███████████▌                    | 522kB 18.4MB/s eta 0:00:01\r\u001b[K     |███████████▊                    | 532kB 18.4MB/s eta 0:00:01\r\u001b[K     |████████████                    | 542kB 18.4MB/s eta 0:00:01\r\u001b[K     |████████████▏                   | 552kB 18.4MB/s eta 0:00:01\r\u001b[K     |████████████▍                   | 563kB 18.4MB/s eta 0:00:01\r\u001b[K     |████████████▋                   | 573kB 18.4MB/s eta 0:00:01\r\u001b[K     |████████████▉                   | 583kB 18.4MB/s eta 0:00:01\r\u001b[K     |█████████████                   | 593kB 18.4MB/s eta 0:00:01\r\u001b[K     |█████████████▎                  | 604kB 18.4MB/s eta 0:00:01\r\u001b[K     |█████████████▌                  | 614kB 18.4MB/s eta 0:00:01\r\u001b[K     |█████████████▊                  | 624kB 18.4MB/s eta 0:00:01\r\u001b[K     |██████████████                  | 634kB 18.4MB/s eta 0:00:01\r\u001b[K     |██████████████▏                 | 645kB 18.4MB/s eta 0:00:01\r\u001b[K     |██████████████▍                 | 655kB 18.4MB/s eta 0:00:01\r\u001b[K     |██████████████▋                 | 665kB 18.4MB/s eta 0:00:01\r\u001b[K     |██████████████▉                 | 675kB 18.4MB/s eta 0:00:01\r\u001b[K     |███████████████                 | 686kB 18.4MB/s eta 0:00:01\r\u001b[K     |███████████████▎                | 696kB 18.4MB/s eta 0:00:01\r\u001b[K     |███████████████▌                | 706kB 18.4MB/s eta 0:00:01\r\u001b[K     |███████████████▊                | 716kB 18.4MB/s eta 0:00:01\r\u001b[K     |████████████████                | 727kB 18.4MB/s eta 0:00:01\r\u001b[K     |████████████████▏               | 737kB 18.4MB/s eta 0:00:01\r\u001b[K     |████████████████▍               | 747kB 18.4MB/s eta 0:00:01\r\u001b[K     |████████████████▋               | 757kB 18.4MB/s eta 0:00:01\r\u001b[K     |████████████████▉               | 768kB 18.4MB/s eta 0:00:01\r\u001b[K     |█████████████████               | 778kB 18.4MB/s eta 0:00:01\r\u001b[K     |█████████████████▎              | 788kB 18.4MB/s eta 0:00:01\r\u001b[K     |█████████████████▌              | 798kB 18.4MB/s eta 0:00:01\r\u001b[K     |█████████████████▊              | 808kB 18.4MB/s eta 0:00:01\r\u001b[K     |██████████████████              | 819kB 18.4MB/s eta 0:00:01\r\u001b[K     |██████████████████▏             | 829kB 18.4MB/s eta 0:00:01\r\u001b[K     |██████████████████▍             | 839kB 18.4MB/s eta 0:00:01\r\u001b[K     |██████████████████▋             | 849kB 18.4MB/s eta 0:00:01\r\u001b[K     |██████████████████▉             | 860kB 18.4MB/s eta 0:00:01\r\u001b[K     |███████████████████             | 870kB 18.4MB/s eta 0:00:01\r\u001b[K     |███████████████████▎            | 880kB 18.4MB/s eta 0:00:01\r\u001b[K     |███████████████████▌            | 890kB 18.4MB/s eta 0:00:01\r\u001b[K     |███████████████████▊            | 901kB 18.4MB/s eta 0:00:01\r\u001b[K     |████████████████████            | 911kB 18.4MB/s eta 0:00:01\r\u001b[K     |████████████████████▏           | 921kB 18.4MB/s eta 0:00:01\r\u001b[K     |████████████████████▍           | 931kB 18.4MB/s eta 0:00:01\r\u001b[K     |████████████████████▋           | 942kB 18.4MB/s eta 0:00:01\r\u001b[K     |████████████████████▉           | 952kB 18.4MB/s eta 0:00:01\r\u001b[K     |█████████████████████           | 962kB 18.4MB/s eta 0:00:01\r\u001b[K     |█████████████████████▎          | 972kB 18.4MB/s eta 0:00:01\r\u001b[K     |█████████████████████▌          | 983kB 18.4MB/s eta 0:00:01\r\u001b[K     |█████████████████████▊          | 993kB 18.4MB/s eta 0:00:01\r\u001b[K     |██████████████████████          | 1.0MB 18.4MB/s eta 0:00:01\r\u001b[K     |██████████████████████▏         | 1.0MB 18.4MB/s eta 0:00:01\r\u001b[K     |██████████████████████▍         | 1.0MB 18.4MB/s eta 0:00:01\r\u001b[K     |██████████████████████▊         | 1.0MB 18.4MB/s eta 0:00:01\r\u001b[K     |███████████████████████         | 1.0MB 18.4MB/s eta 0:00:01\r\u001b[K     |███████████████████████▏        | 1.1MB 18.4MB/s eta 0:00:01\r\u001b[K     |███████████████████████▍        | 1.1MB 18.4MB/s eta 0:00:01\r\u001b[K     |███████████████████████▋        | 1.1MB 18.4MB/s eta 0:00:01\r\u001b[K     |███████████████████████▉        | 1.1MB 18.4MB/s eta 0:00:01\r\u001b[K     |████████████████████████        | 1.1MB 18.4MB/s eta 0:00:01\r\u001b[K     |████████████████████████▎       | 1.1MB 18.4MB/s eta 0:00:01\r\u001b[K     |████████████████████████▌       | 1.1MB 18.4MB/s eta 0:00:01\r\u001b[K     |████████████████████████▊       | 1.1MB 18.4MB/s eta 0:00:01\r\u001b[K     |█████████████████████████       | 1.1MB 18.4MB/s eta 0:00:01\r\u001b[K     |█████████████████████████▏      | 1.1MB 18.4MB/s eta 0:00:01\r\u001b[K     |█████████████████████████▍      | 1.2MB 18.4MB/s eta 0:00:01\r\u001b[K     |█████████████████████████▋      | 1.2MB 18.4MB/s eta 0:00:01\r\u001b[K     |█████████████████████████▉      | 1.2MB 18.4MB/s eta 0:00:01\r\u001b[K     |██████████████████████████      | 1.2MB 18.4MB/s eta 0:00:01\r\u001b[K     |██████████████████████████▎     | 1.2MB 18.4MB/s eta 0:00:01\r\u001b[K     |██████████████████████████▌     | 1.2MB 18.4MB/s eta 0:00:01\r\u001b[K     |██████████████████████████▊     | 1.2MB 18.4MB/s eta 0:00:01\r\u001b[K     |███████████████████████████     | 1.2MB 18.4MB/s eta 0:00:01\r\u001b[K     |███████████████████████████▏    | 1.2MB 18.4MB/s eta 0:00:01\r\u001b[K     |███████████████████████████▍    | 1.2MB 18.4MB/s eta 0:00:01\r\u001b[K     |███████████████████████████▋    | 1.3MB 18.4MB/s eta 0:00:01\r\u001b[K     |███████████████████████████▉    | 1.3MB 18.4MB/s eta 0:00:01\r\u001b[K     |████████████████████████████    | 1.3MB 18.4MB/s eta 0:00:01\r\u001b[K     |████████████████████████████▎   | 1.3MB 18.4MB/s eta 0:00:01\r\u001b[K     |████████████████████████████▌   | 1.3MB 18.4MB/s eta 0:00:01\r\u001b[K     |████████████████████████████▊   | 1.3MB 18.4MB/s eta 0:00:01\r\u001b[K     |█████████████████████████████   | 1.3MB 18.4MB/s eta 0:00:01\r\u001b[K     |█████████████████████████████▏  | 1.3MB 18.4MB/s eta 0:00:01\r\u001b[K     |█████████████████████████████▍  | 1.3MB 18.4MB/s eta 0:00:01\r\u001b[K     |█████████████████████████████▋  | 1.4MB 18.4MB/s eta 0:00:01\r\u001b[K     |█████████████████████████████▉  | 1.4MB 18.4MB/s eta 0:00:01\r\u001b[K     |██████████████████████████████  | 1.4MB 18.4MB/s eta 0:00:01\r\u001b[K     |██████████████████████████████▎ | 1.4MB 18.4MB/s eta 0:00:01\r\u001b[K     |██████████████████████████████▌ | 1.4MB 18.4MB/s eta 0:00:01\r\u001b[K     |██████████████████████████████▊ | 1.4MB 18.4MB/s eta 0:00:01\r\u001b[K     |███████████████████████████████ | 1.4MB 18.4MB/s eta 0:00:01\r\u001b[K     |███████████████████████████████▏| 1.4MB 18.4MB/s eta 0:00:01\r\u001b[K     |███████████████████████████████▍| 1.4MB 18.4MB/s eta 0:00:01\r\u001b[K     |███████████████████████████████▋| 1.4MB 18.4MB/s eta 0:00:01\r\u001b[K     |███████████████████████████████▉| 1.5MB 18.4MB/s eta 0:00:01\r\u001b[K     |████████████████████████████████| 1.5MB 18.4MB/s \n",
            "\u001b[?25hRequirement already satisfied: joblib>=0.11 in /usr/local/lib/python3.7/dist-packages (from pmdarima) (1.0.1)\n",
            "Requirement already satisfied: urllib3 in /usr/local/lib/python3.7/dist-packages (from pmdarima) (1.24.3)\n",
            "Requirement already satisfied: setuptools!=50.0.0,>=38.6.0 in /usr/local/lib/python3.7/dist-packages (from pmdarima) (54.2.0)\n",
            "Collecting Cython<0.29.18,>=0.29\n",
            "\u001b[?25l  Downloading https://files.pythonhosted.org/packages/dc/6c/198da24bf0a1d5b5ee6119e891c5300bb1b0b8904832fac9ff62d4e381c9/Cython-0.29.17-cp37-cp37m-manylinux1_x86_64.whl (2.1MB)\n",
            "\u001b[K     |████████████████████████████████| 2.1MB 41.2MB/s \n",
            "\u001b[?25hRequirement already satisfied: numpy>=1.17.3 in /usr/local/lib/python3.7/dist-packages (from pmdarima) (1.19.5)\n",
            "Requirement already satisfied: scikit-learn>=0.22 in /usr/local/lib/python3.7/dist-packages (from pmdarima) (0.22.2.post1)\n",
            "Collecting statsmodels!=0.12.0,>=0.11\n",
            "\u001b[?25l  Downloading https://files.pythonhosted.org/packages/da/69/8eef30a6237c54f3c0b524140e2975f4b1eea3489b45eb3339574fc8acee/statsmodels-0.12.2-cp37-cp37m-manylinux1_x86_64.whl (9.5MB)\n",
            "\u001b[K     |████████████████████████████████| 9.5MB 37.4MB/s \n",
            "\u001b[?25hRequirement already satisfied: pandas>=0.19 in /usr/local/lib/python3.7/dist-packages (from pmdarima) (1.1.5)\n",
            "Requirement already satisfied: scipy>=1.3.2 in /usr/local/lib/python3.7/dist-packages (from pmdarima) (1.4.1)\n",
            "Requirement already satisfied: patsy>=0.5 in /usr/local/lib/python3.7/dist-packages (from statsmodels!=0.12.0,>=0.11->pmdarima) (0.5.1)\n",
            "Requirement already satisfied: python-dateutil>=2.7.3 in /usr/local/lib/python3.7/dist-packages (from pandas>=0.19->pmdarima) (2.8.1)\n",
            "Requirement already satisfied: pytz>=2017.2 in /usr/local/lib/python3.7/dist-packages (from pandas>=0.19->pmdarima) (2018.9)\n",
            "Requirement already satisfied: six in /usr/local/lib/python3.7/dist-packages (from patsy>=0.5->statsmodels!=0.12.0,>=0.11->pmdarima) (1.15.0)\n",
            "Installing collected packages: Cython, statsmodels, pmdarima\n",
            "  Found existing installation: Cython 0.29.22\n",
            "    Uninstalling Cython-0.29.22:\n",
            "      Successfully uninstalled Cython-0.29.22\n",
            "  Found existing installation: statsmodels 0.10.2\n",
            "    Uninstalling statsmodels-0.10.2:\n",
            "      Successfully uninstalled statsmodels-0.10.2\n",
            "Successfully installed Cython-0.29.17 pmdarima-1.8.0 statsmodels-0.12.2\n"
          ],
          "name": "stdout"
        }
      ]
    },
    {
      "cell_type": "code",
      "metadata": {
        "id": "agxX3o9ssvla",
        "colab": {
          "base_uri": "https://localhost:8080/",
          "height": 301
        },
        "outputId": "b0253547-ac71-4cb5-da84-07f22e09a3ba"
      },
      "source": [
        "import pmdarima as pm\n",
        "from pmdarima.model_selection import train_test_split\n",
        "import numpy as np\n",
        "import matplotlib.pyplot as plt\n",
        "\n",
        "# Load/split your data\n",
        "arima_train, arima_test = train_test_split(dia_data.data['<CLOSE>'], train_size=3000)\n",
        "\n",
        "# Fit your model\n",
        "arima_model = pm.auto_arima(arima_train, seasonal=False, m=12)\n",
        "\n",
        "# make your forecasts\n",
        "arima_predictions = arima_model.predict(arima_test.shape[0])  # predict N steps into the future\n",
        "\n",
        "# Visualize the forecasts (blue=train, green=forecasts)\n",
        "x = np.arange(arima_test.shape[0])\n",
        "plt.plot(x, arima_test, c='blue')\n",
        "plt.plot(x, arima_predictions, c='green')\n",
        "plt.show()"
      ],
      "execution_count": 35,
      "outputs": [
        {
          "output_type": "stream",
          "text": [
            "/usr/local/lib/python3.7/dist-packages/pmdarima/arima/_validation.py:62: UserWarning: m (12) set for non-seasonal fit. Setting to 0\n",
            "  warnings.warn(\"m (%i) set for non-seasonal fit. Setting to 0\" % m)\n"
          ],
          "name": "stderr"
        },
        {
          "output_type": "display_data",
          "data": {
            "image/png": "[encoded data removed]",
            "text/plain": [
              "<Figure size 432x288 with 1 Axes>"
            ]
          },
          "metadata": {
            "tags": [],
            "needs_background": "light"
          }
        }
      ]
    },
    {
      "cell_type": "markdown",
      "metadata": {
        "id": "L__3XjPQvp-q"
      },
      "source": [
        "### K-folds"
      ]
    },
    {
      "cell_type": "code",
      "metadata": {
        "id": "pT7w-8L1wq6e",
        "colab": {
          "base_uri": "https://localhost:8080/",
          "height": 686
        },
        "outputId": "d29681d5-d8a8-4af6-ea8f-1bbb35ef04a0"
      },
      "source": [
        "import numpy as np\n",
        "from sklearn.model_selection import KFold\n",
        "\n",
        "data = dia_data.data['<CLOSE>']\n",
        "X_data = data\n",
        "Y_Data = data.shift(1)\n",
        "\n",
        "kf = KFold(n_splits=10)\n",
        "kf.get_n_splits(X_data)\n",
        "\n",
        "kfold_pred = np.empty(shape=(0, len(X_data)))\n",
        "\n",
        "print(kf)\n",
        "KFold(n_splits=2, random_state=None, shuffle=False)\n",
        "for train_index, test_index in kf.split(X_data):\n",
        "  print(\"TRAIN:\", train_index, \"TEST:\", test_index)\n",
        "  x_train, X_test = X_data[train_index], X_data[test_index]\n",
        "  y_train, y_test = Y_Data[train_index], Y_Data[test_index]\n",
        "\n",
        "  # ARIMA\n",
        "  # Fit your model\n",
        "  arima_model = pm.auto_arima(x_train, seasonal=False, m=12)\n",
        "\n",
        "  # make your forecasts\n",
        "  arima_predictions = arima_model.predict(X_test.shape[0])  # predict N steps into the future\n",
        "\n",
        "  kfold_pred = arima_predictions\n"
      ],
      "execution_count": null,
      "outputs": [
        {
          "output_type": "stream",
          "text": [
            "KFold(n_splits=10, random_state=None, shuffle=False)\n",
            "TRAIN: [ 402  403  404 ... 4011 4012 4013] TEST: [  0   1   2   3   4   5   6   7   8   9  10  11  12  13  14  15  16  17\n",
            "  18  19  20  21  22  23  24  25  26  27  28  29  30  31  32  33  34  35\n",
            "  36  37  38  39  40  41  42  43  44  45  46  47  48  49  50  51  52  53\n",
            "  54  55  56  57  58  59  60  61  62  63  64  65  66  67  68  69  70  71\n",
            "  72  73  74  75  76  77  78  79  80  81  82  83  84  85  86  87  88  89\n",
            "  90  91  92  93  94  95  96  97  98  99 100 101 102 103 104 105 106 107\n",
            " 108 109 110 111 112 113 114 115 116 117 118 119 120 121 122 123 124 125\n",
            " 126 127 128 129 130 131 132 133 134 135 136 137 138 139 140 141 142 143\n",
            " 144 145 146 147 148 149 150 151 152 153 154 155 156 157 158 159 160 161\n",
            " 162 163 164 165 166 167 168 169 170 171 172 173 174 175 176 177 178 179\n",
            " 180 181 182 183 184 185 186 187 188 189 190 191 192 193 194 195 196 197\n",
            " 198 199 200 201 202 203 204 205 206 207 208 209 210 211 212 213 214 215\n",
            " 216 217 218 219 220 221 222 223 224 225 226 227 228 229 230 231 232 233\n",
            " 234 235 236 237 238 239 240 241 242 243 244 245 246 247 248 249 250 251\n",
            " 252 253 254 255 256 257 258 259 260 261 262 263 264 265 266 267 268 269\n",
            " 270 271 272 273 274 275 276 277 278 279 280 281 282 283 284 285 286 287\n",
            " 288 289 290 291 292 293 294 295 296 297 298 299 300 301 302 303 304 305\n",
            " 306 307 308 309 310 311 312 313 314 315 316 317 318 319 320 321 322 323\n",
            " 324 325 326 327 328 329 330 331 332 333 334 335 336 337 338 339 340 341\n",
            " 342 343 344 345 346 347 348 349 350 351 352 353 354 355 356 357 358 359\n",
            " 360 361 362 363 364 365 366 367 368 369 370 371 372 373 374 375 376 377\n",
            " 378 379 380 381 382 383 384 385 386 387 388 389 390 391 392 393 394 395\n",
            " 396 397 398 399 400 401]\n"
          ],
          "name": "stdout"
        },
        {
          "output_type": "stream",
          "text": [
            "/usr/local/lib/python3.7/dist-packages/pmdarima/arima/_validation.py:62: UserWarning: m (12) set for non-seasonal fit. Setting to 0\n",
            "  warnings.warn(\"m (%i) set for non-seasonal fit. Setting to 0\" % m)\n"
          ],
          "name": "stderr"
        },
        {
          "output_type": "error",
          "ename": "AttributeError",
          "evalue": "ignored",
          "traceback": [
            "\u001b[0;31m---------------------------------------------------------------------------\u001b[0m",
            "\u001b[0;31mAttributeError\u001b[0m                            Traceback (most recent call last)",
            "\u001b[0;32m<ipython-input-80-2387f6cae0ca>\u001b[0m in \u001b[0;36m<module>\u001b[0;34m()\u001b[0m\n\u001b[1;32m     25\u001b[0m   \u001b[0marima_predictions\u001b[0m \u001b[0;34m=\u001b[0m \u001b[0marima_model\u001b[0m\u001b[0;34m.\u001b[0m\u001b[0mpredict\u001b[0m\u001b[0;34m(\u001b[0m\u001b[0mX_test\u001b[0m\u001b[0;34m.\u001b[0m\u001b[0mshape\u001b[0m\u001b[0;34m[\u001b[0m\u001b[0;36m0\u001b[0m\u001b[0;34m]\u001b[0m\u001b[0;34m)\u001b[0m  \u001b[0;31m# predict N steps into the future\u001b[0m\u001b[0;34m\u001b[0m\u001b[0;34m\u001b[0m\u001b[0m\n\u001b[1;32m     26\u001b[0m \u001b[0;34m\u001b[0m\u001b[0m\n\u001b[0;32m---> 27\u001b[0;31m   \u001b[0mkfold_pred\u001b[0m \u001b[0;34m=\u001b[0m \u001b[0mkfold_pred\u001b[0m\u001b[0;34m.\u001b[0m\u001b[0mappend\u001b[0m\u001b[0;34m(\u001b[0m\u001b[0marima_predictions\u001b[0m\u001b[0;34m)\u001b[0m\u001b[0;34m\u001b[0m\u001b[0;34m\u001b[0m\u001b[0m\n\u001b[0m",
            "\u001b[0;31mAttributeError\u001b[0m: 'numpy.ndarray' object has no attribute 'append'"
          ]
        }
      ]
    },
    {
      "cell_type": "code",
      "metadata": {
        "colab": {
          "base_uri": "https://localhost:8080/"
        },
        "id": "m7g69d9o23do",
        "outputId": "53a49db1-5659-425c-c846-6600f2a57e46"
      },
      "source": [
        "arima_predictions.shape[0]"
      ],
      "execution_count": null,
      "outputs": [
        {
          "output_type": "execute_result",
          "data": {
            "text/plain": [
              "402"
            ]
          },
          "metadata": {
            "tags": []
          },
          "execution_count": 82
        }
      ]
    },
    {
      "cell_type": "code",
      "metadata": {
        "colab": {
          "base_uri": "https://localhost:8080/",
          "height": 191
        },
        "id": "8NNHJgol21Vw",
        "outputId": "0cf21da6-01ee-4160-c765-2e6694a785eb"
      },
      "source": [
        "kfold_pred[slice(None, arima_predictions.shape[0])] = arima_predictions\n",
        "kfold_pred = slice(None, kfold_pred[0])"
      ],
      "execution_count": null,
      "outputs": [
        {
          "output_type": "error",
          "ename": "ValueError",
          "evalue": "ignored",
          "traceback": [
            "\u001b[0;31m---------------------------------------------------------------------------\u001b[0m",
            "\u001b[0;31mValueError\u001b[0m                                Traceback (most recent call last)",
            "\u001b[0;32m<ipython-input-90-5c58f8f39d1a>\u001b[0m in \u001b[0;36m<module>\u001b[0;34m()\u001b[0m\n\u001b[0;32m----> 1\u001b[0;31m \u001b[0mkfold_pred\u001b[0m\u001b[0;34m[\u001b[0m\u001b[0mslice\u001b[0m\u001b[0;34m(\u001b[0m\u001b[0;32mNone\u001b[0m\u001b[0;34m,\u001b[0m \u001b[0marima_predictions\u001b[0m\u001b[0;34m.\u001b[0m\u001b[0mshape\u001b[0m\u001b[0;34m[\u001b[0m\u001b[0;36m0\u001b[0m\u001b[0;34m]\u001b[0m\u001b[0;34m)\u001b[0m\u001b[0;34m]\u001b[0m \u001b[0;34m=\u001b[0m \u001b[0marima_predictions\u001b[0m\u001b[0;34m\u001b[0m\u001b[0;34m\u001b[0m\u001b[0m\n\u001b[0m\u001b[1;32m      2\u001b[0m \u001b[0mkfold_pred\u001b[0m\u001b[0;34m\u001b[0m\u001b[0;34m\u001b[0m\u001b[0m\n",
            "\u001b[0;31mValueError\u001b[0m: could not broadcast input array from shape (402) into shape (0,4014)"
          ]
        }
      ]
    },
    {
      "cell_type": "markdown",
      "metadata": {
        "id": "l6LJRe4_0_Q2"
      },
      "source": [
        "## LSTM"
      ]
    },
    {
      "cell_type": "code",
      "metadata": {
        "id": "iRvhQi4d1R0T"
      },
      "source": [
        "from keras.models import Sequential\n",
        "from keras.layers import Dense, LSTM\n",
        "\n"
      ],
      "execution_count": null,
      "outputs": []
    },
    {
      "cell_type": "markdown",
      "metadata": {
        "id": "gTPHv1dq1uVi"
      },
      "source": [
        "## Stock Backtesting Stuff"
      ]
    },
    {
      "cell_type": "markdown",
      "metadata": {
        "id": "08bO4SFhpsxc"
      },
      "source": [
        "### Simple vectorized estimates\n",
        "\n",
        "* Long model buys when sentiment is positive, sells when not\n",
        "* Long short model buys when sentiment is positive and shorts when it is negative "
      ]
    },
    {
      "cell_type": "code",
      "metadata": {
        "id": "Y7Mp43qNPz2i"
      },
      "source": [
        "#class Backtesting():\n",
        "#   def __init__(self, stock_data, label_data, initial_value):\n",
        "#     self.stock = stock_data\n",
        "#     self.label = label_data\n",
        "#     self.output_df = self.stock\n",
        "#     self.init_val = initial_value\n",
        "#     self.liquid = True\n",
        "#     self.shares = 0\n",
        "#     self.cur_val = self.init_val\n"
      ],
      "execution_count": null,
      "outputs": []
    },
    {
      "cell_type": "code",
      "metadata": {
        "id": "Eajd3YXiM51w"
      },
      "source": [
        "import numpy as np\n",
        "\n",
        "# Vectorized simple solution in function form, class to follow after expansion including plotting etc.\n",
        "def simple_backtest(start_date, predictions, stock_data, end_date = '2016-07-01'):\n",
        "  test_stock_data = stock_data.loc[(stock_data['<DATE>'] >= start_date) & (stock_data['<DATE>'] <= end_date)]\n",
        "  test_stock_data = stock_data[stock_data['<DATE>'] > start_date]\n",
        "  test_stock_data = test_stock_data.reset_index()\n",
        "\n",
        "  pred_df = pd.DataFrame(predictions, columns=['Sentiment'])\n",
        "  pred_df['Open'] = test_stock_data['<OPEN>']\n",
        "  pred_df['Close'] = test_stock_data['<CLOSE>']\n",
        "  pred_df['Date'] = test_stock_data['<DATE>']\n",
        "  # Shift percent change so that the next day's percent change is in line with the sentiment\n",
        "  pred_df['Change'] = pred_df['Close'].pct_change().shift(-1).dropna()\n",
        "  # Setup column for changes that our position will be exposed to (while we're bought in)\n",
        "  pred_df['Pos_change'] = pred_df['Sentiment'] * pred_df['Change']\n",
        "  # Setup column for long and short returns\n",
        "  pred_df['Pos_change_shrt'] = pred_df['Change']*(-1) + pred_df['Pos_change']\n",
        "  # Calculate cumulative return for dow jones, long positions, and long/short positions\n",
        "  pred_df['Cumul_ret_dji'] = np.exp(np.log1p(pred_df['Change']).cumsum())\n",
        "  pred_df['Cumul_ret_long'] = np.exp(np.log1p(pred_df['Pos_change']).cumsum())\n",
        "  pred_df['Cumul_ret_long_shrt'] = (np.exp(np.log1p(pred_df['Pos_change']).cumsum()) + np.exp(np.log1p(pred_df['Pos_change_shrt']).cumsum()))/2\n",
        "  return pred_df"
      ],
      "execution_count": null,
      "outputs": []
    },
    {
      "cell_type": "code",
      "metadata": {
        "colab": {
          "base_uri": "https://localhost:8080/",
          "height": 424
        },
        "id": "zqY9Bw6rOhAI",
        "outputId": "c929767a-ab68-45fc-a259-1ba3c17273ee"
      },
      "source": [
        "predictions = generic_forrest.predictions\n",
        "stock_data = dia_data.data.reset_index()\n",
        "# randomforrest\n",
        "pred_df_forrest = simple_backtest('2014-12-31', predictions, stock_data)\n",
        "# xgboost\n",
        "pred_df_xgboost = simple_backtest('2014-12-31', y_pred, stock_data)\n",
        "pred_df_xgboost"
      ],
      "execution_count": null,
      "outputs": [
        {
          "output_type": "execute_result",
          "data": {
            "text/html": [
              "<div>\n",
              "<style scoped>\n",
              "    .dataframe tbody tr th:only-of-type {\n",
              "        vertical-align: middle;\n",
              "    }\n",
              "\n",
              "    .dataframe tbody tr th {\n",
              "        vertical-align: top;\n",
              "    }\n",
              "\n",
              "    .dataframe thead th {\n",
              "        text-align: right;\n",
              "    }\n",
              "</style>\n",
              "<table border=\"1\" class=\"dataframe\">\n",
              "  <thead>\n",
              "    <tr style=\"text-align: right;\">\n",
              "      <th></th>\n",
              "      <th>Sentiment</th>\n",
              "      <th>Open</th>\n",
              "      <th>Close</th>\n",
              "      <th>Date</th>\n",
              "      <th>Change</th>\n",
              "      <th>Pos_change</th>\n",
              "      <th>Pos_change_shrt</th>\n",
              "      <th>Cumul_ret_dji</th>\n",
              "      <th>Cumul_ret_long</th>\n",
              "      <th>Cumul_ret_long_shrt</th>\n",
              "    </tr>\n",
              "  </thead>\n",
              "  <tbody>\n",
              "    <tr>\n",
              "      <th>0</th>\n",
              "      <td>0</td>\n",
              "      <td>159.56</td>\n",
              "      <td>158.87</td>\n",
              "      <td>2015-01-02</td>\n",
              "      <td>-0.016869</td>\n",
              "      <td>-0.000000</td>\n",
              "      <td>0.016869</td>\n",
              "      <td>0.983131</td>\n",
              "      <td>1.000000</td>\n",
              "      <td>1.008435</td>\n",
              "    </tr>\n",
              "    <tr>\n",
              "      <th>1</th>\n",
              "      <td>1</td>\n",
              "      <td>158.12</td>\n",
              "      <td>156.19</td>\n",
              "      <td>2015-01-05</td>\n",
              "      <td>-0.008643</td>\n",
              "      <td>-0.008643</td>\n",
              "      <td>0.000000</td>\n",
              "      <td>0.974633</td>\n",
              "      <td>0.991357</td>\n",
              "      <td>1.004113</td>\n",
              "    </tr>\n",
              "    <tr>\n",
              "      <th>2</th>\n",
              "      <td>0</td>\n",
              "      <td>156.39</td>\n",
              "      <td>154.84</td>\n",
              "      <td>2015-01-06</td>\n",
              "      <td>0.012787</td>\n",
              "      <td>0.000000</td>\n",
              "      <td>-0.012787</td>\n",
              "      <td>0.987096</td>\n",
              "      <td>0.991357</td>\n",
              "      <td>0.997611</td>\n",
              "    </tr>\n",
              "    <tr>\n",
              "      <th>3</th>\n",
              "      <td>0</td>\n",
              "      <td>156.20</td>\n",
              "      <td>156.82</td>\n",
              "      <td>2015-01-07</td>\n",
              "      <td>0.018174</td>\n",
              "      <td>0.000000</td>\n",
              "      <td>-0.018174</td>\n",
              "      <td>1.005036</td>\n",
              "      <td>0.991357</td>\n",
              "      <td>0.988489</td>\n",
              "    </tr>\n",
              "    <tr>\n",
              "      <th>4</th>\n",
              "      <td>1</td>\n",
              "      <td>158.30</td>\n",
              "      <td>159.67</td>\n",
              "      <td>2015-01-08</td>\n",
              "      <td>-0.008831</td>\n",
              "      <td>-0.008831</td>\n",
              "      <td>0.000000</td>\n",
              "      <td>0.996160</td>\n",
              "      <td>0.982602</td>\n",
              "      <td>0.984112</td>\n",
              "    </tr>\n",
              "    <tr>\n",
              "      <th>...</th>\n",
              "      <td>...</td>\n",
              "      <td>...</td>\n",
              "      <td>...</td>\n",
              "      <td>...</td>\n",
              "      <td>...</td>\n",
              "      <td>...</td>\n",
              "      <td>...</td>\n",
              "      <td>...</td>\n",
              "      <td>...</td>\n",
              "      <td>...</td>\n",
              "    </tr>\n",
              "    <tr>\n",
              "      <th>370</th>\n",
              "      <td>1</td>\n",
              "      <td>164.53</td>\n",
              "      <td>163.92</td>\n",
              "      <td>2016-06-22</td>\n",
              "      <td>0.012506</td>\n",
              "      <td>0.012506</td>\n",
              "      <td>0.000000</td>\n",
              "      <td>1.044691</td>\n",
              "      <td>0.985474</td>\n",
              "      <td>0.956172</td>\n",
              "    </tr>\n",
              "    <tr>\n",
              "      <th>371</th>\n",
              "      <td>1</td>\n",
              "      <td>165.22</td>\n",
              "      <td>165.97</td>\n",
              "      <td>2016-06-23</td>\n",
              "      <td>-0.034344</td>\n",
              "      <td>-0.034344</td>\n",
              "      <td>0.000000</td>\n",
              "      <td>1.008812</td>\n",
              "      <td>0.951630</td>\n",
              "      <td>0.939250</td>\n",
              "    </tr>\n",
              "    <tr>\n",
              "      <th>372</th>\n",
              "      <td>1</td>\n",
              "      <td>161.12</td>\n",
              "      <td>160.27</td>\n",
              "      <td>2016-06-24</td>\n",
              "      <td>-0.014101</td>\n",
              "      <td>-0.014101</td>\n",
              "      <td>0.000000</td>\n",
              "      <td>0.994587</td>\n",
              "      <td>0.938211</td>\n",
              "      <td>0.932540</td>\n",
              "    </tr>\n",
              "    <tr>\n",
              "      <th>373</th>\n",
              "      <td>1</td>\n",
              "      <td>159.18</td>\n",
              "      <td>158.01</td>\n",
              "      <td>2016-06-27</td>\n",
              "      <td>0.015505</td>\n",
              "      <td>0.015505</td>\n",
              "      <td>0.000000</td>\n",
              "      <td>1.010008</td>\n",
              "      <td>0.952758</td>\n",
              "      <td>0.939814</td>\n",
              "    </tr>\n",
              "    <tr>\n",
              "      <th>374</th>\n",
              "      <td>1</td>\n",
              "      <td>159.55</td>\n",
              "      <td>160.46</td>\n",
              "      <td>2016-06-28</td>\n",
              "      <td>NaN</td>\n",
              "      <td>NaN</td>\n",
              "      <td>NaN</td>\n",
              "      <td>NaN</td>\n",
              "      <td>NaN</td>\n",
              "      <td>NaN</td>\n",
              "    </tr>\n",
              "  </tbody>\n",
              "</table>\n",
              "<p>375 rows × 10 columns</p>\n",
              "</div>"
            ],
            "text/plain": [
              "     Sentiment    Open  ...  Cumul_ret_long Cumul_ret_long_shrt\n",
              "0            0  159.56  ...        1.000000            1.008435\n",
              "1            1  158.12  ...        0.991357            1.004113\n",
              "2            0  156.39  ...        0.991357            0.997611\n",
              "3            0  156.20  ...        0.991357            0.988489\n",
              "4            1  158.30  ...        0.982602            0.984112\n",
              "..         ...     ...  ...             ...                 ...\n",
              "370          1  164.53  ...        0.985474            0.956172\n",
              "371          1  165.22  ...        0.951630            0.939250\n",
              "372          1  161.12  ...        0.938211            0.932540\n",
              "373          1  159.18  ...        0.952758            0.939814\n",
              "374          1  159.55  ...             NaN                 NaN\n",
              "\n",
              "[375 rows x 10 columns]"
            ]
          },
          "metadata": {
            "tags": []
          },
          "execution_count": 70
        }
      ]
    },
    {
      "cell_type": "code",
      "metadata": {
        "colab": {
          "base_uri": "https://localhost:8080/",
          "height": 730
        },
        "id": "qk9pHe9T1RsP",
        "outputId": "d3d4871f-b878-421f-bc85-d146977a9950"
      },
      "source": [
        "# Plot results\n",
        "import matplotlib.pyplot as plt\n",
        "%matplotlib inline\n",
        "\n",
        "def plot_backtest(prediction_df, title='DJIA vs Model Returns from Test Data Predictions', label_1='DJIA', label_2='Long Model', label_3='Long/Short Model'):\n",
        "  pred_df = prediction_df\n",
        "\n",
        "  plt.figure(figsize=(16, 12)) \n",
        "  plt.plot(pred_df['Date'], pred_df['Cumul_ret_dji'], label = label_1)\n",
        "  plt.plot(pred_df['Date'], pred_df['Cumul_ret_long'], label = label_2)\n",
        "  plt.plot(pred_df['Date'], pred_df['Cumul_ret_long_shrt'], label = label_3)\n",
        "  plt.xlabel('Date')\n",
        "  plt.title(title)\n",
        "  plt.ylabel('Cumulative Return')\n",
        "  plt.legend()\n",
        "  plt.show()\n",
        "\n",
        "plot_backtest(pred_df_xgboost)"
      ],
      "execution_count": null,
      "outputs": [
        {
          "output_type": "display_data",
          "data": {
            "image/png": "[encoded data removed]",
            "text/plain": [
              "<Figure size 1152x864 with 1 Axes>"
            ]
          },
          "metadata": {
            "tags": [],
            "needs_background": "light"
          }
        }
      ]
    },
    {
      "cell_type": "code",
      "metadata": {
        "id": "x8o2QXW9y_TI"
      },
      "source": [
        "plot_backtest(pred_df_forrest)"
      ],
      "execution_count": null,
      "outputs": []
    },
    {
      "cell_type": "code",
      "metadata": {
        "id": "aQ1dsrb3zYsS"
      },
      "source": [
        "# add indicators to plot for when \"trades\" occur and when they are correct/ incorrect"
      ],
      "execution_count": null,
      "outputs": []
    },
    {
      "cell_type": "code",
      "metadata": {
        "id": "zS01CH-SzHKI"
      },
      "source": [
        "# Print stats for how good the model is including return, sharpe ratio, volatility, max drawdown"
      ],
      "execution_count": null,
      "outputs": []
    },
    {
      "cell_type": "code",
      "metadata": {
        "id": "9jD-oNHMzlcm"
      },
      "source": [
        "# add a more advanced one which only \"trades\" if swing is greater than threshold etc."
      ],
      "execution_count": null,
      "outputs": []
    }
  ]
}