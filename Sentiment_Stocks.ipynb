{
  "nbformat": 4,
  "nbformat_minor": 0,
  "metadata": {
    "colab": {
      "name": "Sentiment_Stocks.ipynb",
      "provenance": [],
      "collapsed_sections": [
        "y4DocLrOrD2C",
        "2P84t8JexODc"
      ],
      "toc_visible": true
    },
    "kernelspec": {
      "display_name": "Python 3",
      "name": "python3"
    },
    "widgets": {
      "application/vnd.jupyter.widget-state+json": {
        "6ea57f5d2d2a4b57996f518b153f0095": {
          "model_module": "@jupyter-widgets/controls",
          "model_name": "HBoxModel",
          "state": {
            "_view_name": "HBoxView",
            "_dom_classes": [],
            "_model_name": "HBoxModel",
            "_view_module": "@jupyter-widgets/controls",
            "_model_module_version": "1.5.0",
            "_view_count": null,
            "_view_module_version": "1.5.0",
            "box_style": "",
            "layout": "IPY_MODEL_28ff2667d32748d296f92b51b3e73e0c",
            "_model_module": "@jupyter-widgets/controls",
            "children": [
              "IPY_MODEL_a6fa2e5e745341d593942bf6e6a0f15e",
              "IPY_MODEL_820a030f02ad43e3864f35335f6abacf"
            ]
          }
        },
        "28ff2667d32748d296f92b51b3e73e0c": {
          "model_module": "@jupyter-widgets/base",
          "model_name": "LayoutModel",
          "state": {
            "_view_name": "LayoutView",
            "grid_template_rows": null,
            "right": null,
            "justify_content": null,
            "_view_module": "@jupyter-widgets/base",
            "overflow": null,
            "_model_module_version": "1.2.0",
            "_view_count": null,
            "flex_flow": null,
            "width": null,
            "min_width": null,
            "border": null,
            "align_items": null,
            "bottom": null,
            "_model_module": "@jupyter-widgets/base",
            "top": null,
            "grid_column": null,
            "overflow_y": null,
            "overflow_x": null,
            "grid_auto_flow": null,
            "grid_area": null,
            "grid_template_columns": null,
            "flex": null,
            "_model_name": "LayoutModel",
            "justify_items": null,
            "grid_row": null,
            "max_height": null,
            "align_content": null,
            "visibility": null,
            "align_self": null,
            "height": null,
            "min_height": null,
            "padding": null,
            "grid_auto_rows": null,
            "grid_gap": null,
            "max_width": null,
            "order": null,
            "_view_module_version": "1.2.0",
            "grid_template_areas": null,
            "object_position": null,
            "object_fit": null,
            "grid_auto_columns": null,
            "margin": null,
            "display": null,
            "left": null
          }
        },
        "a6fa2e5e745341d593942bf6e6a0f15e": {
          "model_module": "@jupyter-widgets/controls",
          "model_name": "FloatProgressModel",
          "state": {
            "_view_name": "ProgressView",
            "style": "IPY_MODEL_b65e0987ab3a4950b6fb1d9686395431",
            "_dom_classes": [],
            "description": "Downloading: 100%",
            "_model_name": "FloatProgressModel",
            "bar_style": "success",
            "max": 231508,
            "_view_module": "@jupyter-widgets/controls",
            "_model_module_version": "1.5.0",
            "value": 231508,
            "_view_count": null,
            "_view_module_version": "1.5.0",
            "orientation": "horizontal",
            "min": 0,
            "description_tooltip": null,
            "_model_module": "@jupyter-widgets/controls",
            "layout": "IPY_MODEL_6e4386a1ec2141b0b5e3272c2f72a20d"
          }
        },
        "820a030f02ad43e3864f35335f6abacf": {
          "model_module": "@jupyter-widgets/controls",
          "model_name": "HTMLModel",
          "state": {
            "_view_name": "HTMLView",
            "style": "IPY_MODEL_dfad723897e540a39b046732a92a74ab",
            "_dom_classes": [],
            "description": "",
            "_model_name": "HTMLModel",
            "placeholder": "​",
            "_view_module": "@jupyter-widgets/controls",
            "_model_module_version": "1.5.0",
            "value": " 232k/232k [00:00&lt;00:00, 1.70MB/s]",
            "_view_count": null,
            "_view_module_version": "1.5.0",
            "description_tooltip": null,
            "_model_module": "@jupyter-widgets/controls",
            "layout": "IPY_MODEL_ebb6684fa42244d38d3bf0e82d8e98c0"
          }
        },
        "b65e0987ab3a4950b6fb1d9686395431": {
          "model_module": "@jupyter-widgets/controls",
          "model_name": "ProgressStyleModel",
          "state": {
            "_view_name": "StyleView",
            "_model_name": "ProgressStyleModel",
            "description_width": "initial",
            "_view_module": "@jupyter-widgets/base",
            "_model_module_version": "1.5.0",
            "_view_count": null,
            "_view_module_version": "1.2.0",
            "bar_color": null,
            "_model_module": "@jupyter-widgets/controls"
          }
        },
        "6e4386a1ec2141b0b5e3272c2f72a20d": {
          "model_module": "@jupyter-widgets/base",
          "model_name": "LayoutModel",
          "state": {
            "_view_name": "LayoutView",
            "grid_template_rows": null,
            "right": null,
            "justify_content": null,
            "_view_module": "@jupyter-widgets/base",
            "overflow": null,
            "_model_module_version": "1.2.0",
            "_view_count": null,
            "flex_flow": null,
            "width": null,
            "min_width": null,
            "border": null,
            "align_items": null,
            "bottom": null,
            "_model_module": "@jupyter-widgets/base",
            "top": null,
            "grid_column": null,
            "overflow_y": null,
            "overflow_x": null,
            "grid_auto_flow": null,
            "grid_area": null,
            "grid_template_columns": null,
            "flex": null,
            "_model_name": "LayoutModel",
            "justify_items": null,
            "grid_row": null,
            "max_height": null,
            "align_content": null,
            "visibility": null,
            "align_self": null,
            "height": null,
            "min_height": null,
            "padding": null,
            "grid_auto_rows": null,
            "grid_gap": null,
            "max_width": null,
            "order": null,
            "_view_module_version": "1.2.0",
            "grid_template_areas": null,
            "object_position": null,
            "object_fit": null,
            "grid_auto_columns": null,
            "margin": null,
            "display": null,
            "left": null
          }
        },
        "dfad723897e540a39b046732a92a74ab": {
          "model_module": "@jupyter-widgets/controls",
          "model_name": "DescriptionStyleModel",
          "state": {
            "_view_name": "StyleView",
            "_model_name": "DescriptionStyleModel",
            "description_width": "",
            "_view_module": "@jupyter-widgets/base",
            "_model_module_version": "1.5.0",
            "_view_count": null,
            "_view_module_version": "1.2.0",
            "_model_module": "@jupyter-widgets/controls"
          }
        },
        "ebb6684fa42244d38d3bf0e82d8e98c0": {
          "model_module": "@jupyter-widgets/base",
          "model_name": "LayoutModel",
          "state": {
            "_view_name": "LayoutView",
            "grid_template_rows": null,
            "right": null,
            "justify_content": null,
            "_view_module": "@jupyter-widgets/base",
            "overflow": null,
            "_model_module_version": "1.2.0",
            "_view_count": null,
            "flex_flow": null,
            "width": null,
            "min_width": null,
            "border": null,
            "align_items": null,
            "bottom": null,
            "_model_module": "@jupyter-widgets/base",
            "top": null,
            "grid_column": null,
            "overflow_y": null,
            "overflow_x": null,
            "grid_auto_flow": null,
            "grid_area": null,
            "grid_template_columns": null,
            "flex": null,
            "_model_name": "LayoutModel",
            "justify_items": null,
            "grid_row": null,
            "max_height": null,
            "align_content": null,
            "visibility": null,
            "align_self": null,
            "height": null,
            "min_height": null,
            "padding": null,
            "grid_auto_rows": null,
            "grid_gap": null,
            "max_width": null,
            "order": null,
            "_view_module_version": "1.2.0",
            "grid_template_areas": null,
            "object_position": null,
            "object_fit": null,
            "grid_auto_columns": null,
            "margin": null,
            "display": null,
            "left": null
          }
        },
        "201f086f09b44a028501ed3d6738d15e": {
          "model_module": "@jupyter-widgets/controls",
          "model_name": "HBoxModel",
          "state": {
            "_view_name": "HBoxView",
            "_dom_classes": [],
            "_model_name": "HBoxModel",
            "_view_module": "@jupyter-widgets/controls",
            "_model_module_version": "1.5.0",
            "_view_count": null,
            "_view_module_version": "1.5.0",
            "box_style": "",
            "layout": "IPY_MODEL_e08d59bec2f643f2a63afed70991e30d",
            "_model_module": "@jupyter-widgets/controls",
            "children": [
              "IPY_MODEL_b52826a98a774656b11af339fc5dcda2",
              "IPY_MODEL_50cc0a1ae111464fbe971449f65bb5ac"
            ]
          }
        },
        "e08d59bec2f643f2a63afed70991e30d": {
          "model_module": "@jupyter-widgets/base",
          "model_name": "LayoutModel",
          "state": {
            "_view_name": "LayoutView",
            "grid_template_rows": null,
            "right": null,
            "justify_content": null,
            "_view_module": "@jupyter-widgets/base",
            "overflow": null,
            "_model_module_version": "1.2.0",
            "_view_count": null,
            "flex_flow": null,
            "width": null,
            "min_width": null,
            "border": null,
            "align_items": null,
            "bottom": null,
            "_model_module": "@jupyter-widgets/base",
            "top": null,
            "grid_column": null,
            "overflow_y": null,
            "overflow_x": null,
            "grid_auto_flow": null,
            "grid_area": null,
            "grid_template_columns": null,
            "flex": null,
            "_model_name": "LayoutModel",
            "justify_items": null,
            "grid_row": null,
            "max_height": null,
            "align_content": null,
            "visibility": null,
            "align_self": null,
            "height": null,
            "min_height": null,
            "padding": null,
            "grid_auto_rows": null,
            "grid_gap": null,
            "max_width": null,
            "order": null,
            "_view_module_version": "1.2.0",
            "grid_template_areas": null,
            "object_position": null,
            "object_fit": null,
            "grid_auto_columns": null,
            "margin": null,
            "display": null,
            "left": null
          }
        },
        "b52826a98a774656b11af339fc5dcda2": {
          "model_module": "@jupyter-widgets/controls",
          "model_name": "FloatProgressModel",
          "state": {
            "_view_name": "ProgressView",
            "style": "IPY_MODEL_ddcc387cd44345ad89643c70e33af620",
            "_dom_classes": [],
            "description": "Downloading: 100%",
            "_model_name": "FloatProgressModel",
            "bar_style": "success",
            "max": 28,
            "_view_module": "@jupyter-widgets/controls",
            "_model_module_version": "1.5.0",
            "value": 28,
            "_view_count": null,
            "_view_module_version": "1.5.0",
            "orientation": "horizontal",
            "min": 0,
            "description_tooltip": null,
            "_model_module": "@jupyter-widgets/controls",
            "layout": "IPY_MODEL_ffbcef7b57814053a6cc3c5109a02c4a"
          }
        },
        "50cc0a1ae111464fbe971449f65bb5ac": {
          "model_module": "@jupyter-widgets/controls",
          "model_name": "HTMLModel",
          "state": {
            "_view_name": "HTMLView",
            "style": "IPY_MODEL_4a9162fe2cfd41368266e0003ddf8789",
            "_dom_classes": [],
            "description": "",
            "_model_name": "HTMLModel",
            "placeholder": "​",
            "_view_module": "@jupyter-widgets/controls",
            "_model_module_version": "1.5.0",
            "value": " 28.0/28.0 [00:00&lt;00:00, 139B/s]",
            "_view_count": null,
            "_view_module_version": "1.5.0",
            "description_tooltip": null,
            "_model_module": "@jupyter-widgets/controls",
            "layout": "IPY_MODEL_12dfd97ecb6d4ee08efff90149efc1cd"
          }
        },
        "ddcc387cd44345ad89643c70e33af620": {
          "model_module": "@jupyter-widgets/controls",
          "model_name": "ProgressStyleModel",
          "state": {
            "_view_name": "StyleView",
            "_model_name": "ProgressStyleModel",
            "description_width": "initial",
            "_view_module": "@jupyter-widgets/base",
            "_model_module_version": "1.5.0",
            "_view_count": null,
            "_view_module_version": "1.2.0",
            "bar_color": null,
            "_model_module": "@jupyter-widgets/controls"
          }
        },
        "ffbcef7b57814053a6cc3c5109a02c4a": {
          "model_module": "@jupyter-widgets/base",
          "model_name": "LayoutModel",
          "state": {
            "_view_name": "LayoutView",
            "grid_template_rows": null,
            "right": null,
            "justify_content": null,
            "_view_module": "@jupyter-widgets/base",
            "overflow": null,
            "_model_module_version": "1.2.0",
            "_view_count": null,
            "flex_flow": null,
            "width": null,
            "min_width": null,
            "border": null,
            "align_items": null,
            "bottom": null,
            "_model_module": "@jupyter-widgets/base",
            "top": null,
            "grid_column": null,
            "overflow_y": null,
            "overflow_x": null,
            "grid_auto_flow": null,
            "grid_area": null,
            "grid_template_columns": null,
            "flex": null,
            "_model_name": "LayoutModel",
            "justify_items": null,
            "grid_row": null,
            "max_height": null,
            "align_content": null,
            "visibility": null,
            "align_self": null,
            "height": null,
            "min_height": null,
            "padding": null,
            "grid_auto_rows": null,
            "grid_gap": null,
            "max_width": null,
            "order": null,
            "_view_module_version": "1.2.0",
            "grid_template_areas": null,
            "object_position": null,
            "object_fit": null,
            "grid_auto_columns": null,
            "margin": null,
            "display": null,
            "left": null
          }
        },
        "4a9162fe2cfd41368266e0003ddf8789": {
          "model_module": "@jupyter-widgets/controls",
          "model_name": "DescriptionStyleModel",
          "state": {
            "_view_name": "StyleView",
            "_model_name": "DescriptionStyleModel",
            "description_width": "",
            "_view_module": "@jupyter-widgets/base",
            "_model_module_version": "1.5.0",
            "_view_count": null,
            "_view_module_version": "1.2.0",
            "_model_module": "@jupyter-widgets/controls"
          }
        },
        "12dfd97ecb6d4ee08efff90149efc1cd": {
          "model_module": "@jupyter-widgets/base",
          "model_name": "LayoutModel",
          "state": {
            "_view_name": "LayoutView",
            "grid_template_rows": null,
            "right": null,
            "justify_content": null,
            "_view_module": "@jupyter-widgets/base",
            "overflow": null,
            "_model_module_version": "1.2.0",
            "_view_count": null,
            "flex_flow": null,
            "width": null,
            "min_width": null,
            "border": null,
            "align_items": null,
            "bottom": null,
            "_model_module": "@jupyter-widgets/base",
            "top": null,
            "grid_column": null,
            "overflow_y": null,
            "overflow_x": null,
            "grid_auto_flow": null,
            "grid_area": null,
            "grid_template_columns": null,
            "flex": null,
            "_model_name": "LayoutModel",
            "justify_items": null,
            "grid_row": null,
            "max_height": null,
            "align_content": null,
            "visibility": null,
            "align_self": null,
            "height": null,
            "min_height": null,
            "padding": null,
            "grid_auto_rows": null,
            "grid_gap": null,
            "max_width": null,
            "order": null,
            "_view_module_version": "1.2.0",
            "grid_template_areas": null,
            "object_position": null,
            "object_fit": null,
            "grid_auto_columns": null,
            "margin": null,
            "display": null,
            "left": null
          }
        },
        "33f81addf9f541f1bf5c5e013382fe94": {
          "model_module": "@jupyter-widgets/controls",
          "model_name": "HBoxModel",
          "state": {
            "_view_name": "HBoxView",
            "_dom_classes": [],
            "_model_name": "HBoxModel",
            "_view_module": "@jupyter-widgets/controls",
            "_model_module_version": "1.5.0",
            "_view_count": null,
            "_view_module_version": "1.5.0",
            "box_style": "",
            "layout": "IPY_MODEL_b4cceae63b9d4ff0a5d3292bd0f22313",
            "_model_module": "@jupyter-widgets/controls",
            "children": [
              "IPY_MODEL_a7391053be0e4cd4babd4119e945e0ea",
              "IPY_MODEL_f5b4c74d4e88436c8a9f5c30673a227f"
            ]
          }
        },
        "b4cceae63b9d4ff0a5d3292bd0f22313": {
          "model_module": "@jupyter-widgets/base",
          "model_name": "LayoutModel",
          "state": {
            "_view_name": "LayoutView",
            "grid_template_rows": null,
            "right": null,
            "justify_content": null,
            "_view_module": "@jupyter-widgets/base",
            "overflow": null,
            "_model_module_version": "1.2.0",
            "_view_count": null,
            "flex_flow": null,
            "width": null,
            "min_width": null,
            "border": null,
            "align_items": null,
            "bottom": null,
            "_model_module": "@jupyter-widgets/base",
            "top": null,
            "grid_column": null,
            "overflow_y": null,
            "overflow_x": null,
            "grid_auto_flow": null,
            "grid_area": null,
            "grid_template_columns": null,
            "flex": null,
            "_model_name": "LayoutModel",
            "justify_items": null,
            "grid_row": null,
            "max_height": null,
            "align_content": null,
            "visibility": null,
            "align_self": null,
            "height": null,
            "min_height": null,
            "padding": null,
            "grid_auto_rows": null,
            "grid_gap": null,
            "max_width": null,
            "order": null,
            "_view_module_version": "1.2.0",
            "grid_template_areas": null,
            "object_position": null,
            "object_fit": null,
            "grid_auto_columns": null,
            "margin": null,
            "display": null,
            "left": null
          }
        },
        "a7391053be0e4cd4babd4119e945e0ea": {
          "model_module": "@jupyter-widgets/controls",
          "model_name": "FloatProgressModel",
          "state": {
            "_view_name": "ProgressView",
            "style": "IPY_MODEL_d7d272e6f04f4f5db60ba7780f0cfa64",
            "_dom_classes": [],
            "description": "Downloading: 100%",
            "_model_name": "FloatProgressModel",
            "bar_style": "success",
            "max": 466062,
            "_view_module": "@jupyter-widgets/controls",
            "_model_module_version": "1.5.0",
            "value": 466062,
            "_view_count": null,
            "_view_module_version": "1.5.0",
            "orientation": "horizontal",
            "min": 0,
            "description_tooltip": null,
            "_model_module": "@jupyter-widgets/controls",
            "layout": "IPY_MODEL_6362933b374a491a9f6dddc904ad569a"
          }
        },
        "f5b4c74d4e88436c8a9f5c30673a227f": {
          "model_module": "@jupyter-widgets/controls",
          "model_name": "HTMLModel",
          "state": {
            "_view_name": "HTMLView",
            "style": "IPY_MODEL_240c3468e50e4525980f87f0f7b08b19",
            "_dom_classes": [],
            "description": "",
            "_model_name": "HTMLModel",
            "placeholder": "​",
            "_view_module": "@jupyter-widgets/controls",
            "_model_module_version": "1.5.0",
            "value": " 466k/466k [00:00&lt;00:00, 4.62MB/s]",
            "_view_count": null,
            "_view_module_version": "1.5.0",
            "description_tooltip": null,
            "_model_module": "@jupyter-widgets/controls",
            "layout": "IPY_MODEL_5d2aac924e304814a9d0096bedf8e1c2"
          }
        },
        "d7d272e6f04f4f5db60ba7780f0cfa64": {
          "model_module": "@jupyter-widgets/controls",
          "model_name": "ProgressStyleModel",
          "state": {
            "_view_name": "StyleView",
            "_model_name": "ProgressStyleModel",
            "description_width": "initial",
            "_view_module": "@jupyter-widgets/base",
            "_model_module_version": "1.5.0",
            "_view_count": null,
            "_view_module_version": "1.2.0",
            "bar_color": null,
            "_model_module": "@jupyter-widgets/controls"
          }
        },
        "6362933b374a491a9f6dddc904ad569a": {
          "model_module": "@jupyter-widgets/base",
          "model_name": "LayoutModel",
          "state": {
            "_view_name": "LayoutView",
            "grid_template_rows": null,
            "right": null,
            "justify_content": null,
            "_view_module": "@jupyter-widgets/base",
            "overflow": null,
            "_model_module_version": "1.2.0",
            "_view_count": null,
            "flex_flow": null,
            "width": null,
            "min_width": null,
            "border": null,
            "align_items": null,
            "bottom": null,
            "_model_module": "@jupyter-widgets/base",
            "top": null,
            "grid_column": null,
            "overflow_y": null,
            "overflow_x": null,
            "grid_auto_flow": null,
            "grid_area": null,
            "grid_template_columns": null,
            "flex": null,
            "_model_name": "LayoutModel",
            "justify_items": null,
            "grid_row": null,
            "max_height": null,
            "align_content": null,
            "visibility": null,
            "align_self": null,
            "height": null,
            "min_height": null,
            "padding": null,
            "grid_auto_rows": null,
            "grid_gap": null,
            "max_width": null,
            "order": null,
            "_view_module_version": "1.2.0",
            "grid_template_areas": null,
            "object_position": null,
            "object_fit": null,
            "grid_auto_columns": null,
            "margin": null,
            "display": null,
            "left": null
          }
        },
        "240c3468e50e4525980f87f0f7b08b19": {
          "model_module": "@jupyter-widgets/controls",
          "model_name": "DescriptionStyleModel",
          "state": {
            "_view_name": "StyleView",
            "_model_name": "DescriptionStyleModel",
            "description_width": "",
            "_view_module": "@jupyter-widgets/base",
            "_model_module_version": "1.5.0",
            "_view_count": null,
            "_view_module_version": "1.2.0",
            "_model_module": "@jupyter-widgets/controls"
          }
        },
        "5d2aac924e304814a9d0096bedf8e1c2": {
          "model_module": "@jupyter-widgets/base",
          "model_name": "LayoutModel",
          "state": {
            "_view_name": "LayoutView",
            "grid_template_rows": null,
            "right": null,
            "justify_content": null,
            "_view_module": "@jupyter-widgets/base",
            "overflow": null,
            "_model_module_version": "1.2.0",
            "_view_count": null,
            "flex_flow": null,
            "width": null,
            "min_width": null,
            "border": null,
            "align_items": null,
            "bottom": null,
            "_model_module": "@jupyter-widgets/base",
            "top": null,
            "grid_column": null,
            "overflow_y": null,
            "overflow_x": null,
            "grid_auto_flow": null,
            "grid_area": null,
            "grid_template_columns": null,
            "flex": null,
            "_model_name": "LayoutModel",
            "justify_items": null,
            "grid_row": null,
            "max_height": null,
            "align_content": null,
            "visibility": null,
            "align_self": null,
            "height": null,
            "min_height": null,
            "padding": null,
            "grid_auto_rows": null,
            "grid_gap": null,
            "max_width": null,
            "order": null,
            "_view_module_version": "1.2.0",
            "grid_template_areas": null,
            "object_position": null,
            "object_fit": null,
            "grid_auto_columns": null,
            "margin": null,
            "display": null,
            "left": null
          }
        }
      }
    }
  },
  "cells": [
    {
      "cell_type": "markdown",
      "metadata": {
        "id": "G3uOJd5gob4H"
      },
      "source": [
        "# Sentiment Driven Stock Predictions"
      ]
    },
    {
      "cell_type": "markdown",
      "metadata": {
        "id": "Jtd6RFccUgN3"
      },
      "source": [
        "## Open source software - \n",
        "Numerous open source libraries were used in this project including all of the below and any others not mentioned\n",
        "\n",
        "* Pandas\n",
        "* Numpy\n",
        "* Sklearn\n",
        "* Matplotlib\n",
        "* Transformers\n",
        "* XGBoost\n",
        "* Statsmodels\n",
        "* Vadersentiment\n",
        "* Seaborn"
      ]
    },
    {
      "cell_type": "markdown",
      "metadata": {
        "id": "QC6TdTqKoiWK"
      },
      "source": [
        "## Importing Data"
      ]
    },
    {
      "cell_type": "code",
      "metadata": {
        "colab": {
          "base_uri": "https://localhost:8080/"
        },
        "id": "CcihMAwLq62P",
        "outputId": "27dc64fe-d170-4ca7-a4a4-93ef7e9c224e"
      },
      "source": [
        "# First, mount your drive (might happen automatically)\n",
        "from google.colab import drive\n",
        "drive.mount('/content/drive')\n",
        "\n",
        "!nvidia-smi"
      ],
      "execution_count": 2,
      "outputs": [
        {
          "output_type": "stream",
          "text": [
            "Mounted at /content/drive\n",
            "NVIDIA-SMI has failed because it couldn't communicate with the NVIDIA driver. Make sure that the latest NVIDIA driver is installed and running.\n",
            "\n"
          ],
          "name": "stdout"
        }
      ]
    },
    {
      "cell_type": "markdown",
      "metadata": {
        "id": "y4DocLrOrD2C"
      },
      "source": [
        "### First time downloading data to drive"
      ]
    },
    {
      "cell_type": "code",
      "metadata": {
        "id": "-1ApsakroaPy"
      },
      "source": [
        "## First time import to transfer data from kaggle to Google Drive\n",
        "\n",
        "## alternatively just download a dataset and upload it to your google drive\n",
        "\n",
        "## Generate an API key using the instructions on this site - https://medium.com/analytics-vidhya/how-to-directly-download-kaggle-dataset-to-google-drive-aa06175712e2\n",
        "## Next, on the files tab on the left browse to content and transfer the downloaded files from /content to \"MyDrive\"\n",
        "\n",
        "#  import os\n",
        "\n",
        "# os.environ['KAGGLE_USERNAME'] = \"your username\"\n",
        "# os.environ['KAGGLE_KEY'] = \"your api key\"\n",
        "\n",
        "# !kaggle datasets download -d aaron7sun/stocknews"
      ],
      "execution_count": null,
      "outputs": []
    },
    {
      "cell_type": "markdown",
      "metadata": {
        "id": "9M2PtNk1rHf2"
      },
      "source": [
        "### Normal data import"
      ]
    },
    {
      "cell_type": "code",
      "metadata": {
        "colab": {
          "base_uri": "https://localhost:8080/"
        },
        "id": "m3lkqwJfonps",
        "outputId": "26dc7344-0acc-4315-f592-28e3b385a4f4"
      },
      "source": [
        "# Once data has already been transferred, use this to import data from your drive\n",
        "\n",
        "!cp '/content/drive/MyDrive/ECE 579 Project/stooq_all_us_daily_data.zip' .\n",
        "!cp '/content/drive/MyDrive/ECE 579 Project/stocknews.zip' .\n",
        "#!cp '/content/drive/MyDrive/ECE 579/ECE579_TermProject/Code/Data/tweets-about-the-top-companies-from-2015-to-2020.zip' .\n",
        "\n",
        "# make folder structure\n",
        "!mkdir stock_data\n",
        "!mkdir stock_news\n",
        "#!mkdir tweets\n",
        "\n",
        "# unzip files\n",
        "!unzip -q stooq_all_us_daily_data.zip -d stock_data\n",
        "#!unzip -q tweets-about-the-top-companies-from-2015-to-2020 -d tweets\n",
        "!unzip -q stocknews.zip -d stock_news\n",
        "\n",
        "!ls"
      ],
      "execution_count": 3,
      "outputs": [
        {
          "output_type": "stream",
          "text": [
            "drive\t     stock_data  stocknews.zip\n",
            "sample_data  stock_news  stooq_all_us_daily_data.zip\n"
          ],
          "name": "stdout"
        }
      ]
    },
    {
      "cell_type": "code",
      "metadata": {
        "colab": {
          "base_uri": "https://localhost:8080/",
          "height": 424
        },
        "id": "5GEH2YUNdAhg",
        "outputId": "7b900e06-e97c-42ea-ad15-bf3803e28ced"
      },
      "source": [
        "import pandas as pd\n",
        "\n",
        "#reshape reddit data to match news headlines\n",
        "\n",
        "r_data =  pd.read_csv('/content/stock_news/RedditNews.csv')\n",
        "foo = lambda a: \" / \".join(a) \n",
        "reddit_data = r_data.groupby(by=['Date']).agg({'News':foo}).reset_index()\n",
        "reddit_data"
      ],
      "execution_count": 4,
      "outputs": [
        {
          "output_type": "execute_result",
          "data": {
            "text/html": [
              "<div>\n",
              "<style scoped>\n",
              "    .dataframe tbody tr th:only-of-type {\n",
              "        vertical-align: middle;\n",
              "    }\n",
              "\n",
              "    .dataframe tbody tr th {\n",
              "        vertical-align: top;\n",
              "    }\n",
              "\n",
              "    .dataframe thead th {\n",
              "        text-align: right;\n",
              "    }\n",
              "</style>\n",
              "<table border=\"1\" class=\"dataframe\">\n",
              "  <thead>\n",
              "    <tr style=\"text-align: right;\">\n",
              "      <th></th>\n",
              "      <th>Date</th>\n",
              "      <th>News</th>\n",
              "    </tr>\n",
              "  </thead>\n",
              "  <tbody>\n",
              "    <tr>\n",
              "      <th>0</th>\n",
              "      <td>2008-06-08</td>\n",
              "      <td>b'Nim Chimpsky: The tragedy of the chimp who t...</td>\n",
              "    </tr>\n",
              "    <tr>\n",
              "      <th>1</th>\n",
              "      <td>2008-06-09</td>\n",
              "      <td>b'United States quits Human Rights Council' / ...</td>\n",
              "    </tr>\n",
              "    <tr>\n",
              "      <th>2</th>\n",
              "      <td>2008-06-10</td>\n",
              "      <td>b'Oil shortage a myth, says industry insider' ...</td>\n",
              "    </tr>\n",
              "    <tr>\n",
              "      <th>3</th>\n",
              "      <td>2008-06-11</td>\n",
              "      <td>b'BBC uncovers lost Iraq billions' / b'War Cri...</td>\n",
              "    </tr>\n",
              "    <tr>\n",
              "      <th>4</th>\n",
              "      <td>2008-06-12</td>\n",
              "      <td>b'Did US attack Pakistan last night? \"Pakistan...</td>\n",
              "    </tr>\n",
              "    <tr>\n",
              "      <th>...</th>\n",
              "      <td>...</td>\n",
              "      <td>...</td>\n",
              "    </tr>\n",
              "    <tr>\n",
              "      <th>2938</th>\n",
              "      <td>2016-06-27</td>\n",
              "      <td>Barclays and RBS shares suspended from trading...</td>\n",
              "    </tr>\n",
              "    <tr>\n",
              "      <th>2939</th>\n",
              "      <td>2016-06-28</td>\n",
              "      <td>2,500 Scientists To Australia: If You Want To ...</td>\n",
              "    </tr>\n",
              "    <tr>\n",
              "      <th>2940</th>\n",
              "      <td>2016-06-29</td>\n",
              "      <td>Explosion At Airport In Istanbul / Yemeni form...</td>\n",
              "    </tr>\n",
              "    <tr>\n",
              "      <th>2941</th>\n",
              "      <td>2016-06-30</td>\n",
              "      <td>Jamaica proposes marijuana dispensers for tour...</td>\n",
              "    </tr>\n",
              "    <tr>\n",
              "      <th>2942</th>\n",
              "      <td>2016-07-01</td>\n",
              "      <td>A 117-year-old woman in Mexico City finally re...</td>\n",
              "    </tr>\n",
              "  </tbody>\n",
              "</table>\n",
              "<p>2943 rows × 2 columns</p>\n",
              "</div>"
            ],
            "text/plain": [
              "            Date                                               News\n",
              "0     2008-06-08  b'Nim Chimpsky: The tragedy of the chimp who t...\n",
              "1     2008-06-09  b'United States quits Human Rights Council' / ...\n",
              "2     2008-06-10  b'Oil shortage a myth, says industry insider' ...\n",
              "3     2008-06-11  b'BBC uncovers lost Iraq billions' / b'War Cri...\n",
              "4     2008-06-12  b'Did US attack Pakistan last night? \"Pakistan...\n",
              "...          ...                                                ...\n",
              "2938  2016-06-27  Barclays and RBS shares suspended from trading...\n",
              "2939  2016-06-28  2,500 Scientists To Australia: If You Want To ...\n",
              "2940  2016-06-29  Explosion At Airport In Istanbul / Yemeni form...\n",
              "2941  2016-06-30  Jamaica proposes marijuana dispensers for tour...\n",
              "2942  2016-07-01  A 117-year-old woman in Mexico City finally re...\n",
              "\n",
              "[2943 rows x 2 columns]"
            ]
          },
          "metadata": {
            "tags": []
          },
          "execution_count": 4
        }
      ]
    },
    {
      "cell_type": "markdown",
      "metadata": {
        "id": "905W_TKbwEmp"
      },
      "source": [
        "### Stock data class"
      ]
    },
    {
      "cell_type": "code",
      "metadata": {
        "id": "9NxyVtBzcyMQ"
      },
      "source": [
        "# class for stock data\n",
        "import os\n",
        "import pandas as pd\n",
        "from datetime import datetime, date\n",
        "from sklearn.metrics import classification_report, confusion_matrix, accuracy_score\n",
        "import matplotlib.pyplot as plt \n",
        "%matplotlib inline\n",
        "\n",
        "class Stock_data():\n",
        "  \n",
        "  def __init__(self, symbol, historical = True, timeframe = 'daily', source_folder = '/content/stock_data/data/daily/us'):\n",
        "    self.symbol = symbol + '.us.txt'\n",
        "    self.historical = historical\n",
        "    self.timeframe = timeframe\n",
        "    self.source_folder = source_folder\n",
        "    self.data = pd.DataFrame()\n",
        "\n",
        "    # get csv path from symbol by searching\n",
        "    for root, dirs, files in os.walk(self.source_folder):\n",
        "      if self.symbol in files:\n",
        "        self.csv_path = os.path.join(root, self.symbol)\n",
        "\n",
        "    if not self.csv_path:\n",
        "      print('Error, symbol not found')\n",
        "  \n",
        "    # import data\n",
        "    if historical == True & bool(timeframe == 'daily'):\n",
        "      self.import_data()\n",
        "\n",
        "  # function for importing data\n",
        "  def import_data(self):\n",
        "    self.data = pd.read_csv(self.csv_path, parse_dates=['<DATE>'],\n",
        "                            date_parser=lambda x: datetime.strptime(x, '%Y%m%d')) #index_col = '<DATE>', \n",
        "\n",
        "  # removes excess columns\n",
        "  def clean_data(self):\n",
        "    del self.data['<TICKER>']\n",
        "    del self.data['<PER>']\n",
        "    del self.data['<OPENINT>']\n",
        "    del self.data['<TIME>']\n",
        "\n",
        "  # gets data from a range of dates\n",
        "  def get_daterange(self, start_date, end_date, data = 0):\n",
        "    if data:\n",
        "      temp_data = data\n",
        "    else:\n",
        "      temp_data = data\n",
        "\n",
        "    temp_data = temp_data.loc[(temp_data['<DATE>'] <= end_date) & (temp_data['<DATE>'] >= start_date)]\n",
        "    temp_data = temp_data.reset_index()\n",
        "    return temp_data\n",
        "\n",
        "  # returns input data with a binary label depending on if the stock price went up or down that day\n",
        "  def get_binarylabel(self, data):\n",
        "    if data:\n",
        "      temp_data = data\n",
        "    else:\n",
        "      temp_data = data\n",
        "\n",
        "    temp_data.loc[temp_data['<CLOSE>'] - temp_data['<OPEN>'] > 0, 'Label'] = int(1)\n",
        "    temp_data.loc[temp_data['<CLOSE>'] - temp_data['<OPEN>'] <= 0, 'Label'] = int(0)\n",
        "    return temp_data\n",
        "\n",
        "  def get_laggedbinarylabel(self, lag=1, data = 0):\n",
        "    if data:\n",
        "      temp_data = data\n",
        "    else:\n",
        "      temp_data = data\n",
        "\n",
        "    temp_data.loc[temp_data['<CLOSE>'] - temp_data['<OPEN>'] > 0, 'Label'] = int(1)\n",
        "    temp_data.loc[temp_data['<CLOSE>'] - temp_data['<OPEN>'] <= 0, 'Label'] = int(0)\n",
        "    return temp_data\n",
        "\n",
        "  def get_renamed(self):\n",
        "    return self.data.rename(columns = {'<DATE>':'Date', '<OPEN>':'Open', '<HIGH>':'High', '<LOW>':'Low', '<CLOSE>':'Close', '<VOL>':'Vol'}, inplace = True) \n",
        "\n",
        "  def set_data(self, dataframe):\n",
        "    self.data = dataframe\n",
        "\n",
        "  def get_data(self):\n",
        "    return self.data\n",
        "\n",
        "\n",
        "# function to report performance metrics\n",
        "def report(labels, predictions):\n",
        "\n",
        "  # Report accuracy on test data\n",
        "  matrix = confusion_matrix(labels, predictions)\n",
        "  print('Confusion Matrix')\n",
        "  print(matrix)\n",
        "  print()\n",
        "  score = accuracy_score(labels, predictions)\n",
        "  print('Overall prediction accuracy: ' + str(score) + '\\n')\n",
        "  report = classification_report(labels, predictions)\n",
        "  print('Classification Report: ')\n",
        "  print(report)\n"
      ],
      "execution_count": 5,
      "outputs": []
    },
    {
      "cell_type": "code",
      "metadata": {
        "colab": {
          "base_uri": "https://localhost:8080/"
        },
        "id": "xy6B2EXr2v6e",
        "outputId": "3994005c-1834-4a4d-eb1a-69d1957f92a3"
      },
      "source": [
        "# import stock data by setting up data class\n",
        "# imports djia data (dia etf)\n",
        "dia_data = Stock_data('dia')\n",
        "# uses clean function of data class to remove excess columns\n",
        "dia_data.clean_data()\n",
        "\n",
        "# same for s&p 500 (spy etc) dataset\n",
        "spy_data = Stock_data('spy')\n",
        "spy_data.clean_data()\n",
        "\n",
        "# same for nasdaq (qqq)\n",
        "qqq_data = Stock_data('qqq')\n",
        "qqq_data.clean_data()\n",
        "\n",
        "# make sure data looks right\n",
        "print(dia_data.data)"
      ],
      "execution_count": 6,
      "outputs": [
        {
          "output_type": "stream",
          "text": [
            "         <DATE>    <OPEN>    <HIGH>    <LOW>  <CLOSE>     <VOL>\n",
            "0    2005-02-25   87.6640   88.4780   87.571   88.428   6101982\n",
            "1    2005-02-28   88.2250   88.9380   87.535   87.891   9135557\n",
            "2    2005-03-01   87.9500   88.5290   87.950   88.324   6510615\n",
            "3    2005-03-02   87.9850   88.7010   87.932   88.192   9343052\n",
            "4    2005-03-03   88.4780   88.6830   87.836   88.341  10124004\n",
            "...         ...       ...       ...      ...      ...       ...\n",
            "4009 2021-02-01  302.2800  303.3500  300.140  302.020   3138644\n",
            "4010 2021-02-02  304.5399  308.4300  304.520  306.820   3090522\n",
            "4011 2021-02-03  306.1000  307.9353  305.180  307.260   2087820\n",
            "4012 2021-02-04  307.8500  310.6700  307.770  310.670   2638783\n",
            "4013 2021-02-05  312.3600  312.5500  310.870  311.540   1955091\n",
            "\n",
            "[4014 rows x 6 columns]\n"
          ],
          "name": "stdout"
        }
      ]
    },
    {
      "cell_type": "markdown",
      "metadata": {
        "id": "NVAs5Dee04nC"
      },
      "source": [
        "## Sentiment Analysis"
      ]
    },
    {
      "cell_type": "code",
      "metadata": {
        "colab": {
          "base_uri": "https://localhost:8080/",
          "height": 1000
        },
        "id": "MdLHIvItBPb4",
        "outputId": "6e6fc39f-bf7c-4656-cbf5-221616386fc7"
      },
      "source": [
        "# Displaying news headlines dataset\n",
        "\n",
        "df = pd.read_csv('stock_news/Combined_News_DJIA.csv')\n",
        "df"
      ],
      "execution_count": 7,
      "outputs": [
        {
          "output_type": "execute_result",
          "data": {
            "text/html": [
              "<div>\n",
              "<style scoped>\n",
              "    .dataframe tbody tr th:only-of-type {\n",
              "        vertical-align: middle;\n",
              "    }\n",
              "\n",
              "    .dataframe tbody tr th {\n",
              "        vertical-align: top;\n",
              "    }\n",
              "\n",
              "    .dataframe thead th {\n",
              "        text-align: right;\n",
              "    }\n",
              "</style>\n",
              "<table border=\"1\" class=\"dataframe\">\n",
              "  <thead>\n",
              "    <tr style=\"text-align: right;\">\n",
              "      <th></th>\n",
              "      <th>Date</th>\n",
              "      <th>Label</th>\n",
              "      <th>Top1</th>\n",
              "      <th>Top2</th>\n",
              "      <th>Top3</th>\n",
              "      <th>Top4</th>\n",
              "      <th>Top5</th>\n",
              "      <th>Top6</th>\n",
              "      <th>Top7</th>\n",
              "      <th>Top8</th>\n",
              "      <th>Top9</th>\n",
              "      <th>Top10</th>\n",
              "      <th>Top11</th>\n",
              "      <th>Top12</th>\n",
              "      <th>Top13</th>\n",
              "      <th>Top14</th>\n",
              "      <th>Top15</th>\n",
              "      <th>Top16</th>\n",
              "      <th>Top17</th>\n",
              "      <th>Top18</th>\n",
              "      <th>Top19</th>\n",
              "      <th>Top20</th>\n",
              "      <th>Top21</th>\n",
              "      <th>Top22</th>\n",
              "      <th>Top23</th>\n",
              "      <th>Top24</th>\n",
              "      <th>Top25</th>\n",
              "    </tr>\n",
              "  </thead>\n",
              "  <tbody>\n",
              "    <tr>\n",
              "      <th>0</th>\n",
              "      <td>2008-08-08</td>\n",
              "      <td>0</td>\n",
              "      <td>b\"Georgia 'downs two Russian warplanes' as cou...</td>\n",
              "      <td>b'BREAKING: Musharraf to be impeached.'</td>\n",
              "      <td>b'Russia Today: Columns of troops roll into So...</td>\n",
              "      <td>b'Russian tanks are moving towards the capital...</td>\n",
              "      <td>b\"Afghan children raped with 'impunity,' U.N. ...</td>\n",
              "      <td>b'150 Russian tanks have entered South Ossetia...</td>\n",
              "      <td>b\"Breaking: Georgia invades South Ossetia, Rus...</td>\n",
              "      <td>b\"The 'enemy combatent' trials are nothing but...</td>\n",
              "      <td>b'Georgian troops retreat from S. Osettain cap...</td>\n",
              "      <td>b'Did the U.S. Prep Georgia for War with Russia?'</td>\n",
              "      <td>b'Rice Gives Green Light for Israel to Attack ...</td>\n",
              "      <td>b'Announcing:Class Action Lawsuit on Behalf of...</td>\n",
              "      <td>b\"So---Russia and Georgia are at war and the N...</td>\n",
              "      <td>b\"China tells Bush to stay out of other countr...</td>\n",
              "      <td>b'Did World War III start today?'</td>\n",
              "      <td>b'Georgia Invades South Ossetia - if Russia ge...</td>\n",
              "      <td>b'Al-Qaeda Faces Islamist Backlash'</td>\n",
              "      <td>b'Condoleezza Rice: \"The US would not act to p...</td>\n",
              "      <td>b'This is a busy day:  The European Union has ...</td>\n",
              "      <td>b\"Georgia will withdraw 1,000 soldiers from Ir...</td>\n",
              "      <td>b'Why the Pentagon Thinks Attacking Iran is a ...</td>\n",
              "      <td>b'Caucasus in crisis: Georgia invades South Os...</td>\n",
              "      <td>b'Indian shoe manufactory  - And again in a se...</td>\n",
              "      <td>b'Visitors Suffering from Mental Illnesses Ban...</td>\n",
              "      <td>b\"No Help for Mexico's Kidnapping Surge\"</td>\n",
              "    </tr>\n",
              "    <tr>\n",
              "      <th>1</th>\n",
              "      <td>2008-08-11</td>\n",
              "      <td>1</td>\n",
              "      <td>b'Why wont America and Nato help us? If they w...</td>\n",
              "      <td>b'Bush puts foot down on Georgian conflict'</td>\n",
              "      <td>b\"Jewish Georgian minister: Thanks to Israeli ...</td>\n",
              "      <td>b'Georgian army flees in disarray as Russians ...</td>\n",
              "      <td>b\"Olympic opening ceremony fireworks 'faked'\"</td>\n",
              "      <td>b'What were the Mossad with fraudulent New Zea...</td>\n",
              "      <td>b'Russia angered by Israeli military sale to G...</td>\n",
              "      <td>b'An American citizen living in S.Ossetia blam...</td>\n",
              "      <td>b'Welcome To World War IV! Now In High Definit...</td>\n",
              "      <td>b\"Georgia's move, a mistake of monumental prop...</td>\n",
              "      <td>b'Russia presses deeper into Georgia; U.S. say...</td>\n",
              "      <td>b'Abhinav Bindra wins first ever Individual Ol...</td>\n",
              "      <td>b' U.S. ship heads for Arctic to define territ...</td>\n",
              "      <td>b'Drivers in a Jerusalem taxi station threaten...</td>\n",
              "      <td>b'The French Team is Stunned by Phelps and the...</td>\n",
              "      <td>b'Israel and the US behind the Georgian aggres...</td>\n",
              "      <td>b'\"Do not believe TV, neither Russian nor Geor...</td>\n",
              "      <td>b'Riots are still going on in Montreal (Canada...</td>\n",
              "      <td>b'China to overtake US as largest manufacturer'</td>\n",
              "      <td>b'War in South Ossetia [PICS]'</td>\n",
              "      <td>b'Israeli Physicians Group Condemns State Tort...</td>\n",
              "      <td>b' Russia has just beaten the United States ov...</td>\n",
              "      <td>b'Perhaps *the* question about the Georgia - R...</td>\n",
              "      <td>b'Russia is so much better at war'</td>\n",
              "      <td>b\"So this is what it's come to: trading sex fo...</td>\n",
              "    </tr>\n",
              "    <tr>\n",
              "      <th>2</th>\n",
              "      <td>2008-08-12</td>\n",
              "      <td>0</td>\n",
              "      <td>b'Remember that adorable 9-year-old who sang a...</td>\n",
              "      <td>b\"Russia 'ends Georgia operation'\"</td>\n",
              "      <td>b'\"If we had no sexual harassment we would hav...</td>\n",
              "      <td>b\"Al-Qa'eda is losing support in Iraq because ...</td>\n",
              "      <td>b'Ceasefire in Georgia: Putin Outmaneuvers the...</td>\n",
              "      <td>b'Why Microsoft and Intel tried to kill the XO...</td>\n",
              "      <td>b'Stratfor: The Russo-Georgian War and the Bal...</td>\n",
              "      <td>b\"I'm Trying to Get a Sense of This Whole Geor...</td>\n",
              "      <td>b\"The US military was surprised by the timing ...</td>\n",
              "      <td>b'U.S. Beats War Drum as Iran Dumps the Dollar'</td>\n",
              "      <td>b'Gorbachev: \"Georgian military attacked the S...</td>\n",
              "      <td>b'CNN use footage of Tskhinvali ruins to cover...</td>\n",
              "      <td>b'Beginning a war as the Olympics were opening...</td>\n",
              "      <td>b'55 pyramids as large as the Luxor stacked in...</td>\n",
              "      <td>b'The 11 Top Party Cities in the World'</td>\n",
              "      <td>b'U.S. troops still in Georgia (did you know t...</td>\n",
              "      <td>b'Why Russias response to Georgia was right'</td>\n",
              "      <td>b'Gorbachev accuses U.S. of making a \"serious ...</td>\n",
              "      <td>b'Russia, Georgia, and NATO: Cold War Two'</td>\n",
              "      <td>b'Remember that adorable 62-year-old who led y...</td>\n",
              "      <td>b'War in Georgia: The Israeli connection'</td>\n",
              "      <td>b'All signs point to the US encouraging Georgi...</td>\n",
              "      <td>b'Christopher King argues that the US and NATO...</td>\n",
              "      <td>b'America: The New Mexico?'</td>\n",
              "      <td>b\"BBC NEWS | Asia-Pacific | Extinction 'by man...</td>\n",
              "    </tr>\n",
              "    <tr>\n",
              "      <th>3</th>\n",
              "      <td>2008-08-13</td>\n",
              "      <td>0</td>\n",
              "      <td>b' U.S. refuses Israel weapons to attack Iran:...</td>\n",
              "      <td>b\"When the president ordered to attack Tskhinv...</td>\n",
              "      <td>b' Israel clears troops who killed Reuters cam...</td>\n",
              "      <td>b'Britain\\'s policy of being tough on drugs is...</td>\n",
              "      <td>b'Body of 14 year old found in trunk; Latest (...</td>\n",
              "      <td>b'China has moved 10 *million* quake survivors...</td>\n",
              "      <td>b\"Bush announces Operation Get All Up In Russi...</td>\n",
              "      <td>b'Russian forces sink Georgian ships '</td>\n",
              "      <td>b\"The commander of a Navy air reconnaissance s...</td>\n",
              "      <td>b\"92% of CNN readers: Russia's actions in Geor...</td>\n",
              "      <td>b'USA to send fleet into Black Sea to help Geo...</td>\n",
              "      <td>b\"US warns against Israeli plan to strike agai...</td>\n",
              "      <td>b\"In an intriguing cyberalliance, two Estonian...</td>\n",
              "      <td>b'The CNN Effect: Georgia Schools Russia in In...</td>\n",
              "      <td>b'Why Russias response to Georgia was right'</td>\n",
              "      <td>b'Elephants extinct by 2020?'</td>\n",
              "      <td>b'US humanitarian missions soon in Georgia - i...</td>\n",
              "      <td>b\"Georgia's DDOS came from US sources\"</td>\n",
              "      <td>b'Russian convoy heads into Georgia, violating...</td>\n",
              "      <td>b'Israeli defence minister: US against strike ...</td>\n",
              "      <td>b'Gorbachev: We Had No Choice'</td>\n",
              "      <td>b'Witness: Russian forces head towards Tbilisi...</td>\n",
              "      <td>b' Quarter of Russians blame U.S. for conflict...</td>\n",
              "      <td>b'Georgian president  says US military will ta...</td>\n",
              "      <td>b'2006: Nobel laureate Aleksander Solzhenitsyn...</td>\n",
              "    </tr>\n",
              "    <tr>\n",
              "      <th>4</th>\n",
              "      <td>2008-08-14</td>\n",
              "      <td>1</td>\n",
              "      <td>b'All the experts admit that we should legalis...</td>\n",
              "      <td>b'War in South Osetia - 89 pictures made by a ...</td>\n",
              "      <td>b'Swedish wrestler Ara Abrahamian throws away ...</td>\n",
              "      <td>b'Russia exaggerated the death toll in South O...</td>\n",
              "      <td>b'Missile That Killed 9 Inside Pakistan May Ha...</td>\n",
              "      <td>b\"Rushdie Condemns Random House's Refusal to P...</td>\n",
              "      <td>b'Poland and US agree to missle defense deal. ...</td>\n",
              "      <td>b'Will the Russians conquer Tblisi? Bet on it,...</td>\n",
              "      <td>b'Russia exaggerating South Ossetian death tol...</td>\n",
              "      <td>b' Musharraf expected to resign rather than fa...</td>\n",
              "      <td>b'Moscow Made Plans Months Ago to Invade Georgia'</td>\n",
              "      <td>b'Why Russias response to Georgia was right'</td>\n",
              "      <td>b'Nigeria has handed over the potentially oil-...</td>\n",
              "      <td>b'The US and Poland have agreed a preliminary ...</td>\n",
              "      <td>b'Russia apparently is sabotaging infrastructu...</td>\n",
              "      <td>b'Bank analyst forecast Georgian crisis 2 days...</td>\n",
              "      <td>b\"Georgia confict could set back Russia's US r...</td>\n",
              "      <td>b'War in the Caucasus is as much the product o...</td>\n",
              "      <td>b'\"Non-media\" photos of South Ossetia/Georgia ...</td>\n",
              "      <td>b'Georgian TV reporter shot by Russian sniper ...</td>\n",
              "      <td>b'Saudi Arabia: Mother moves to block child ma...</td>\n",
              "      <td>b'Taliban wages war on humanitarian aid workers'</td>\n",
              "      <td>b'Russia: World  \"can forget about\" Georgia\\'s...</td>\n",
              "      <td>b'Darfur rebels accuse Sudan of mounting major...</td>\n",
              "      <td>b'Philippines : Peace Advocate say Muslims nee...</td>\n",
              "    </tr>\n",
              "    <tr>\n",
              "      <th>...</th>\n",
              "      <td>...</td>\n",
              "      <td>...</td>\n",
              "      <td>...</td>\n",
              "      <td>...</td>\n",
              "      <td>...</td>\n",
              "      <td>...</td>\n",
              "      <td>...</td>\n",
              "      <td>...</td>\n",
              "      <td>...</td>\n",
              "      <td>...</td>\n",
              "      <td>...</td>\n",
              "      <td>...</td>\n",
              "      <td>...</td>\n",
              "      <td>...</td>\n",
              "      <td>...</td>\n",
              "      <td>...</td>\n",
              "      <td>...</td>\n",
              "      <td>...</td>\n",
              "      <td>...</td>\n",
              "      <td>...</td>\n",
              "      <td>...</td>\n",
              "      <td>...</td>\n",
              "      <td>...</td>\n",
              "      <td>...</td>\n",
              "      <td>...</td>\n",
              "      <td>...</td>\n",
              "      <td>...</td>\n",
              "    </tr>\n",
              "    <tr>\n",
              "      <th>1984</th>\n",
              "      <td>2016-06-27</td>\n",
              "      <td>0</td>\n",
              "      <td>Barclays and RBS shares suspended from trading...</td>\n",
              "      <td>Pope says Church should ask forgiveness from g...</td>\n",
              "      <td>Poland 'shocked' by xenophobic abuse of Poles ...</td>\n",
              "      <td>There will be no second referendum, cabinet ag...</td>\n",
              "      <td>Scotland welcome to join EU, Merkel ally says</td>\n",
              "      <td>Sterling dips below Friday's 31-year low amid ...</td>\n",
              "      <td>No negative news about South African President...</td>\n",
              "      <td>Surge in Hate Crimes in the U.K. Following U.K...</td>\n",
              "      <td>Weapons shipped into Jordan by the CIA and Sau...</td>\n",
              "      <td>Angela Merkel said the U.K. must file exit pap...</td>\n",
              "      <td>In a birth offering hope to a threatened speci...</td>\n",
              "      <td>Sky News Journalist Left Speechless As Leave M...</td>\n",
              "      <td>Giant panda in Macau gives birth to twins</td>\n",
              "      <td>Get out now: EU leader tells Britain it must i...</td>\n",
              "      <td>Sea turtle 'beaten and left for dead' on beach...</td>\n",
              "      <td>German lawyers to probe Erdogan over alleged w...</td>\n",
              "      <td>Boris Johnson says the UK will continue to \"in...</td>\n",
              "      <td>Richard Branson is calling on the UK governmen...</td>\n",
              "      <td>Turkey 'sorry for downing Russian jet'</td>\n",
              "      <td>Edward Snowden lawyer vows new push for pardon...</td>\n",
              "      <td>Brexit opinion poll reveals majority don't wan...</td>\n",
              "      <td>Conservative MP Leave Campaigner: \"The leave c...</td>\n",
              "      <td>Economists predict UK recession, further weake...</td>\n",
              "      <td>New EU 'superstate plan by France, Germany: Cr...</td>\n",
              "      <td>Pakistani clerics declare transgender marriage...</td>\n",
              "    </tr>\n",
              "    <tr>\n",
              "      <th>1985</th>\n",
              "      <td>2016-06-28</td>\n",
              "      <td>1</td>\n",
              "      <td>2,500 Scientists To Australia: If You Want To ...</td>\n",
              "      <td>The personal details of 112,000 French police ...</td>\n",
              "      <td>S&amp;amp;P cuts United Kingdom sovereign credit r...</td>\n",
              "      <td>Huge helium deposit found in Africa</td>\n",
              "      <td>CEO of the South African state broadcaster qui...</td>\n",
              "      <td>Brexit cost investors $2 trillion, the worst o...</td>\n",
              "      <td>Hong Kong democracy activists call for return ...</td>\n",
              "      <td>Brexit: Iceland president says UK can join 'tr...</td>\n",
              "      <td>UK's Osborne: 'Absolutely' going to have to cu...</td>\n",
              "      <td>'Do not let Scotland down now' : Scottish MEP ...</td>\n",
              "      <td>British pound could hit history-making dollar ...</td>\n",
              "      <td>Merkel vows to strengthen EU, tells UK no 'che...</td>\n",
              "      <td>\"Ryanair will not deploy new aircraft on route...</td>\n",
              "      <td>People, ever more greedy and stupid, destroy t...</td>\n",
              "      <td>Siemens freezes new UK wind power investment f...</td>\n",
              "      <td>US, Canada and Mexico pledge 50% of power from...</td>\n",
              "      <td>There is increasing evidence that Australia is...</td>\n",
              "      <td>Richard Branson, the founder of Virgin Group, ...</td>\n",
              "      <td>37,000-yr-old skull from Borneo reveals surpri...</td>\n",
              "      <td>Palestinians stone Western Wall worshipers; po...</td>\n",
              "      <td>Jean-Claude Juncker asks Farage: Why are you h...</td>\n",
              "      <td>\"Romanians for Remainians\" offering a new home...</td>\n",
              "      <td>Brexit: Gibraltar in talks with Scotland to st...</td>\n",
              "      <td>8 Suicide Bombers Strike Lebanon</td>\n",
              "      <td>Mexico's security forces routinely use 'sexual...</td>\n",
              "    </tr>\n",
              "    <tr>\n",
              "      <th>1986</th>\n",
              "      <td>2016-06-29</td>\n",
              "      <td>1</td>\n",
              "      <td>Explosion At Airport In Istanbul</td>\n",
              "      <td>Yemeni former president: Terrorism is the offs...</td>\n",
              "      <td>UK must accept freedom of movement to access E...</td>\n",
              "      <td>Devastated: scientists too late to captive bre...</td>\n",
              "      <td>British Labor Party leader Jeremy Corbyn loses...</td>\n",
              "      <td>A Muslim Shop in the UK Was Just Firebombed Wh...</td>\n",
              "      <td>Mexican Authorities Sexually Torture Women in ...</td>\n",
              "      <td>UK shares and pound continue to recover</td>\n",
              "      <td>Iceland historian Johannesson wins presidentia...</td>\n",
              "      <td>99-Million-Yr-Old Bird Wings Found Encased in ...</td>\n",
              "      <td>A chatbot programmed by a British teenager has...</td>\n",
              "      <td>The Philippine president-elect said Monday he ...</td>\n",
              "      <td>Former Belgian Prime Minister ridicules Nigel ...</td>\n",
              "      <td>Brexiteer Nigel Farage To EU: 'You're Not Laug...</td>\n",
              "      <td>Islamic State bombings in southern Yemen kill ...</td>\n",
              "      <td>Escape Tunnel, Dug by Hand, Is Found at Holoca...</td>\n",
              "      <td>The land under Beijing is sinking by as much a...</td>\n",
              "      <td>Car bomb and Anti-Islamic attack on Mosque in ...</td>\n",
              "      <td>Emaciated lions in Taiz Zoo are trapped in blo...</td>\n",
              "      <td>Rupert Murdoch describes Brexit as 'wonderful'...</td>\n",
              "      <td>More than 40 killed in Yemen suicide attacks</td>\n",
              "      <td>Google Found Disastrous Symantec and Norton Vu...</td>\n",
              "      <td>Extremist violence on the rise in Germany: Dom...</td>\n",
              "      <td>BBC News: Labour MPs pass Corbyn no-confidence...</td>\n",
              "      <td>Tiny New Zealand town with 'too many jobs' lau...</td>\n",
              "    </tr>\n",
              "    <tr>\n",
              "      <th>1987</th>\n",
              "      <td>2016-06-30</td>\n",
              "      <td>1</td>\n",
              "      <td>Jamaica proposes marijuana dispensers for tour...</td>\n",
              "      <td>Stephen Hawking says pollution and 'stupidity'...</td>\n",
              "      <td>Boris Johnson says he will not run for Tory pa...</td>\n",
              "      <td>Six gay men in Ivory Coast were abused and for...</td>\n",
              "      <td>Switzerland denies citizenship to Muslim immig...</td>\n",
              "      <td>Palestinian terrorist stabs israeli teen girl ...</td>\n",
              "      <td>Puerto Rico will default on $1 billion of debt...</td>\n",
              "      <td>Republic of Ireland fans to be awarded medal f...</td>\n",
              "      <td>Afghan suicide bomber 'kills up to 40' - BBC News</td>\n",
              "      <td>US airstrikes kill at least 250 ISIS fighters ...</td>\n",
              "      <td>Turkish Cop Who Took Down Istanbul Gunman Hail...</td>\n",
              "      <td>Cannabis compounds could treat Alzheimer's by ...</td>\n",
              "      <td>Japan's top court has approved blanket surveil...</td>\n",
              "      <td>CIA Gave Romania Millions to Host Secret Prisons</td>\n",
              "      <td>Groups urge U.N. to suspend Saudi Arabia from ...</td>\n",
              "      <td>Googles free wifi at Indian railway stations i...</td>\n",
              "      <td>Mounting evidence suggests 'hobbits' were wipe...</td>\n",
              "      <td>The men who carried out Tuesday's terror attac...</td>\n",
              "      <td>Calls to suspend Saudi Arabia from UN Human Ri...</td>\n",
              "      <td>More Than 100 Nobel Laureates Call Out Greenpe...</td>\n",
              "      <td>British pedophile sentenced to 85 years in US ...</td>\n",
              "      <td>US permitted 1,200 offshore fracks in Gulf of ...</td>\n",
              "      <td>We will be swimming in ridicule - French beach...</td>\n",
              "      <td>UEFA says no minutes of silence for Istanbul v...</td>\n",
              "      <td>Law Enforcement Sources: Gun Used in Paris Ter...</td>\n",
              "    </tr>\n",
              "    <tr>\n",
              "      <th>1988</th>\n",
              "      <td>2016-07-01</td>\n",
              "      <td>1</td>\n",
              "      <td>A 117-year-old woman in Mexico City finally re...</td>\n",
              "      <td>IMF chief backs Athens as permanent Olympic host</td>\n",
              "      <td>The president of France says if Brexit won, so...</td>\n",
              "      <td>British Man Who Must Give Police 24 Hours' Not...</td>\n",
              "      <td>100+ Nobel laureates urge Greenpeace to stop o...</td>\n",
              "      <td>Brazil: Huge spike in number of police killing...</td>\n",
              "      <td>Austria's highest court annuls presidential el...</td>\n",
              "      <td>Facebook wins privacy case, can track any Belg...</td>\n",
              "      <td>Switzerland denies Muslim girls citizenship af...</td>\n",
              "      <td>China kills millions of innocent meditators fo...</td>\n",
              "      <td>France Cracks Down on Factory Farms - A viral ...</td>\n",
              "      <td>Abbas PLO Faction Calls Killer of 13-Year-Old ...</td>\n",
              "      <td>Taiwanese warship accidentally fires missile t...</td>\n",
              "      <td>Iran celebrates American Human Rights Week, mo...</td>\n",
              "      <td>U.N. panel moves to curb bias against L.G.B.T....</td>\n",
              "      <td>The United States has placed Myanmar, Uzbekist...</td>\n",
              "      <td>S&amp;amp;P revises European Union credit rating t...</td>\n",
              "      <td>India gets $1 billion loan from World Bank for...</td>\n",
              "      <td>U.S. sailors detained by Iran spoke too much u...</td>\n",
              "      <td>Mass fish kill in Vietnam solved as Taiwan ste...</td>\n",
              "      <td>Philippines president Rodrigo Duterte urges pe...</td>\n",
              "      <td>Spain arrests three Pakistanis accused of prom...</td>\n",
              "      <td>Venezuela, where anger over food shortages is ...</td>\n",
              "      <td>A Hindu temple worker has been killed by three...</td>\n",
              "      <td>Ozone layer hole seems to be healing - US &amp;amp...</td>\n",
              "    </tr>\n",
              "  </tbody>\n",
              "</table>\n",
              "<p>1989 rows × 27 columns</p>\n",
              "</div>"
            ],
            "text/plain": [
              "            Date  ...                                              Top25\n",
              "0     2008-08-08  ...           b\"No Help for Mexico's Kidnapping Surge\"\n",
              "1     2008-08-11  ...  b\"So this is what it's come to: trading sex fo...\n",
              "2     2008-08-12  ...  b\"BBC NEWS | Asia-Pacific | Extinction 'by man...\n",
              "3     2008-08-13  ...  b'2006: Nobel laureate Aleksander Solzhenitsyn...\n",
              "4     2008-08-14  ...  b'Philippines : Peace Advocate say Muslims nee...\n",
              "...          ...  ...                                                ...\n",
              "1984  2016-06-27  ...  Pakistani clerics declare transgender marriage...\n",
              "1985  2016-06-28  ...  Mexico's security forces routinely use 'sexual...\n",
              "1986  2016-06-29  ...  Tiny New Zealand town with 'too many jobs' lau...\n",
              "1987  2016-06-30  ...  Law Enforcement Sources: Gun Used in Paris Ter...\n",
              "1988  2016-07-01  ...  Ozone layer hole seems to be healing - US &amp...\n",
              "\n",
              "[1989 rows x 27 columns]"
            ]
          },
          "metadata": {
            "tags": []
          },
          "execution_count": 7
        }
      ]
    },
    {
      "cell_type": "markdown",
      "metadata": {
        "id": "NiElntphrBwO"
      },
      "source": [
        "### News"
      ]
    },
    {
      "cell_type": "markdown",
      "metadata": {
        "id": "e1eK7XRpxVgz"
      },
      "source": [
        "#### Random Forrest/ Bag of Words"
      ]
    },
    {
      "cell_type": "code",
      "metadata": {
        "id": "dIBId-y3lciM"
      },
      "source": [
        "import pandas as pd\n",
        "from sklearn.feature_extraction.text import CountVectorizer\n",
        "from sklearn.ensemble import RandomForestClassifier\n",
        "\n",
        "class RandomForrestSentiment():\n",
        "\n",
        "  def __init__(self, stock_dataset, news_dataset_path = 'stock_news/Combined_News_DJIA.csv'):\n",
        "    self.news_path = news_dataset_path\n",
        "    self.stock_data = stock_dataset\n",
        "    self.news_data = pd.read_csv(news_dataset_path)\n",
        "\n",
        "# -----------------------------------------------------------------------------------\n",
        "  #DATA PREP\n",
        "  # sets up news dataset for random forrest\n",
        "  def prepare_news_data(self, data = 0, label = 'source'):\n",
        "    if label != 'source':\n",
        "    # allows using next day's stock change by providing stock dataframe, can make this better\n",
        "      if data:\n",
        "        self.news_data['Label']  = data['Label'].astype(int)\n",
        "\n",
        "    # split data\n",
        "    self.train = self.news_data[self.news_data['Date'] < '20150101']\n",
        "    self.test = self.news_data[self.news_data['Date'] > '20141231']\n",
        "\n",
        "    # remove extra indices\n",
        "    self.data = self.train.iloc[:, 2:27]\n",
        "\n",
        "    # remove non alphabetical characters\n",
        "    self.data.replace(\"[^a-zA-Z]\", \" \", regex=True, inplace=True)\n",
        "\n",
        "    # rename columns\n",
        "    list1 = [i for i in range(25)]\n",
        "    new_Index = [str(i) for i in list1]\n",
        "    self.data.columns = new_Index\n",
        "\n",
        "    # make everything lowercase\n",
        "    for index in new_Index:\n",
        "        self.data[index] = self.data[index].str.lower()\n",
        "\n",
        "    # create list for each row merging all headlines into one\n",
        "    self.headlines = []\n",
        "    for row in range(0, len(self.data.index)):\n",
        "        self.headlines.append(' '.join(str(x) for x in self.data.iloc[row, 0:25]))\n",
        "\n",
        "  def prepare_reddit_data(self):\n",
        "    self.r_data =  pd.read_csv('/content/stock_news/RedditNews.csv')\n",
        "    foo = lambda a: \" / \".join(a) \n",
        "    self.reddit_data = self.r_data.groupby(by=['Date']).agg({'News':foo}).reset_index()\n",
        "    \n",
        "    #remove weekends/ non-trading days\n",
        "    self.labels_tradingdays = self.news_data.iloc[:, 0:2]\n",
        "    self.reddit_data = pd.merge(left=self.reddit_data, right=self.labels_tradingdays)\n",
        "\n",
        "    self.reddit_data['News'].replace(\"[^a-zA-Z]\", \" \", regex=True, inplace=True)\n",
        "    self.reddit_data['News'].str.lower()\n",
        "\n",
        "    self.train = self.reddit_data.loc[(reddit_data['Date'] >= '20080812') & (reddit_data['Date'] < '20150101')]\n",
        "    self.train = self.train.reset_index()\n",
        "    self.train['Label'] = self.news_data[self.news_data['Date'] < '20150101']['Label']\n",
        "\n",
        "    self.test = self.reddit_data[self.reddit_data['Date'] > '20141231']\n",
        "    self.test['Label'] = self.news_data[self.news_data['Date'] > '20141231']['Label']\n",
        "    self.test = self.test.reset_index()\n",
        "\n",
        "    self.headlines = self.train['News'].to_list()\n",
        "\n",
        "\n",
        "# -----------------------------------------------------------------------------------\n",
        "  #TOKENIZATION\n",
        "  def tokenize_data(self, bag = True, ngrams = 3): #original value of 2\n",
        "    # convert all sentences into vectors\n",
        "    self.countVector = CountVectorizer(ngram_range=(ngrams, ngrams))\n",
        "    #ngram(2,2) means it will combine the 2 words together and assign the value\n",
        "\n",
        "    # bag of words\n",
        "    if bag:\n",
        "      self.trainDataset = self.countVector.fit_transform(self.headlines)\n",
        "\n",
        "  def train_model(self):\n",
        "    # Setup random forest classifier and train\n",
        "    self.randomClassifier = RandomForestClassifier(n_estimators=50, criterion='entropy') #original values of 15, 200, etc.\n",
        "    self.randomClassifier.fit(self.trainDataset, self.train['Label'])\n",
        "\n",
        "  def test_model(self, reddit=False):\n",
        "    # predict for test data\n",
        "    self.testTransform =[]\n",
        "\n",
        "    if reddit == False:\n",
        "        for row in range(0, len(self.test.index)):\n",
        "          self.testTransform.append(' '.join(str(x) for x in self.test.iloc[row, 2:27]))\n",
        "    else:\n",
        "      self.testTransform = self.test['News'].to_list()\n",
        "\n",
        "    self.test_dataset = self.countVector.transform(self.testTransform)\n",
        "\n",
        "    self.predictions = self.randomClassifier.predict(self.test_dataset)\n",
        "\n",
        "  def get_performance_report(self):\n",
        "    report(self.test['Label'], self.predictions)\n"
      ],
      "execution_count": 8,
      "outputs": []
    },
    {
      "cell_type": "code",
      "metadata": {
        "colab": {
          "base_uri": "https://localhost:8080/"
        },
        "id": "dcr2yPXd4pLe",
        "outputId": "4ad726d8-baac-4970-bebc-77db4a88cc85"
      },
      "source": [
        "generic_forrest = RandomForrestSentiment(dia_data)\n",
        "generic_forrest.prepare_news_data()\n",
        "generic_forrest.tokenize_data()\n",
        "generic_forrest.train_model()\n",
        "generic_forrest.test_model()\n",
        "generic_forrest.get_performance_report()"
      ],
      "execution_count": 9,
      "outputs": [
        {
          "output_type": "stream",
          "text": [
            "Confusion Matrix\n",
            "[[128  58]\n",
            " [  0 192]]\n",
            "\n",
            "Overall prediction accuracy: 0.8465608465608465\n",
            "\n",
            "Classification Report: \n",
            "              precision    recall  f1-score   support\n",
            "\n",
            "           0       1.00      0.69      0.82       186\n",
            "           1       0.77      1.00      0.87       192\n",
            "\n",
            "    accuracy                           0.85       378\n",
            "   macro avg       0.88      0.84      0.84       378\n",
            "weighted avg       0.88      0.85      0.84       378\n",
            "\n"
          ],
          "name": "stdout"
        }
      ]
    },
    {
      "cell_type": "code",
      "metadata": {
        "colab": {
          "base_uri": "https://localhost:8080/"
        },
        "id": "eKz7Mhm9_HDf",
        "outputId": "98045528-35bb-4572-a326-93ebb633f156"
      },
      "source": [
        "reddit_forrest = RandomForrestSentiment(dia_data)\n",
        "reddit_forrest.prepare_reddit_data()\n",
        "reddit_forrest.tokenize_data()\n",
        "reddit_forrest.train_model()\n",
        "reddit_forrest.test_model(reddit=True)\n",
        "reddit_forrest.get_performance_report()"
      ],
      "execution_count": 10,
      "outputs": [
        {
          "output_type": "stream",
          "text": [
            "/usr/local/lib/python3.7/dist-packages/ipykernel_launcher.py:62: SettingWithCopyWarning: \n",
            "A value is trying to be set on a copy of a slice from a DataFrame.\n",
            "Try using .loc[row_indexer,col_indexer] = value instead\n",
            "\n",
            "See the caveats in the documentation: https://pandas.pydata.org/pandas-docs/stable/user_guide/indexing.html#returning-a-view-versus-a-copy\n"
          ],
          "name": "stderr"
        },
        {
          "output_type": "stream",
          "text": [
            "Confusion Matrix\n",
            "[[ 96  90]\n",
            " [ 85 107]]\n",
            "\n",
            "Overall prediction accuracy: 0.5370370370370371\n",
            "\n",
            "Classification Report: \n",
            "              precision    recall  f1-score   support\n",
            "\n",
            "           0       0.53      0.52      0.52       186\n",
            "           1       0.54      0.56      0.55       192\n",
            "\n",
            "    accuracy                           0.54       378\n",
            "   macro avg       0.54      0.54      0.54       378\n",
            "weighted avg       0.54      0.54      0.54       378\n",
            "\n"
          ],
          "name": "stdout"
        }
      ]
    },
    {
      "cell_type": "code",
      "metadata": {
        "colab": {
          "base_uri": "https://localhost:8080/",
          "height": 424
        },
        "id": "Y_L4RuNOBmD_",
        "outputId": "b8b66082-095b-45b5-f154-a20b3ef63ceb"
      },
      "source": [
        "news_data = generic_forrest.news_data\n",
        "r_data =  pd.read_csv('/content/stock_news/RedditNews.csv')\n",
        "foo = lambda a: \" / \".join(a) \n",
        "reddit_data = r_data.groupby(by=['Date']).agg({'News':foo}).reset_index()\n",
        "\n",
        "labels_tradingdays = news_data.iloc[:, 0:2]\n",
        "reddit_data = pd.merge(left=reddit_data, right=labels_tradingdays)\n",
        "reddit_data"
      ],
      "execution_count": 11,
      "outputs": [
        {
          "output_type": "execute_result",
          "data": {
            "text/html": [
              "<div>\n",
              "<style scoped>\n",
              "    .dataframe tbody tr th:only-of-type {\n",
              "        vertical-align: middle;\n",
              "    }\n",
              "\n",
              "    .dataframe tbody tr th {\n",
              "        vertical-align: top;\n",
              "    }\n",
              "\n",
              "    .dataframe thead th {\n",
              "        text-align: right;\n",
              "    }\n",
              "</style>\n",
              "<table border=\"1\" class=\"dataframe\">\n",
              "  <thead>\n",
              "    <tr style=\"text-align: right;\">\n",
              "      <th></th>\n",
              "      <th>Date</th>\n",
              "      <th>News</th>\n",
              "      <th>Label</th>\n",
              "    </tr>\n",
              "  </thead>\n",
              "  <tbody>\n",
              "    <tr>\n",
              "      <th>0</th>\n",
              "      <td>2008-08-08</td>\n",
              "      <td>b\"Georgia 'downs two Russian warplanes' as cou...</td>\n",
              "      <td>0</td>\n",
              "    </tr>\n",
              "    <tr>\n",
              "      <th>1</th>\n",
              "      <td>2008-08-11</td>\n",
              "      <td>b'Why wont America and Nato help us? If they w...</td>\n",
              "      <td>1</td>\n",
              "    </tr>\n",
              "    <tr>\n",
              "      <th>2</th>\n",
              "      <td>2008-08-12</td>\n",
              "      <td>b'Remember that adorable 9-year-old who sang a...</td>\n",
              "      <td>0</td>\n",
              "    </tr>\n",
              "    <tr>\n",
              "      <th>3</th>\n",
              "      <td>2008-08-13</td>\n",
              "      <td>b' U.S. refuses Israel weapons to attack Iran:...</td>\n",
              "      <td>0</td>\n",
              "    </tr>\n",
              "    <tr>\n",
              "      <th>4</th>\n",
              "      <td>2008-08-14</td>\n",
              "      <td>b'All the experts admit that we should legalis...</td>\n",
              "      <td>1</td>\n",
              "    </tr>\n",
              "    <tr>\n",
              "      <th>...</th>\n",
              "      <td>...</td>\n",
              "      <td>...</td>\n",
              "      <td>...</td>\n",
              "    </tr>\n",
              "    <tr>\n",
              "      <th>1984</th>\n",
              "      <td>2016-06-27</td>\n",
              "      <td>Barclays and RBS shares suspended from trading...</td>\n",
              "      <td>0</td>\n",
              "    </tr>\n",
              "    <tr>\n",
              "      <th>1985</th>\n",
              "      <td>2016-06-28</td>\n",
              "      <td>2,500 Scientists To Australia: If You Want To ...</td>\n",
              "      <td>1</td>\n",
              "    </tr>\n",
              "    <tr>\n",
              "      <th>1986</th>\n",
              "      <td>2016-06-29</td>\n",
              "      <td>Explosion At Airport In Istanbul / Yemeni form...</td>\n",
              "      <td>1</td>\n",
              "    </tr>\n",
              "    <tr>\n",
              "      <th>1987</th>\n",
              "      <td>2016-06-30</td>\n",
              "      <td>Jamaica proposes marijuana dispensers for tour...</td>\n",
              "      <td>1</td>\n",
              "    </tr>\n",
              "    <tr>\n",
              "      <th>1988</th>\n",
              "      <td>2016-07-01</td>\n",
              "      <td>A 117-year-old woman in Mexico City finally re...</td>\n",
              "      <td>1</td>\n",
              "    </tr>\n",
              "  </tbody>\n",
              "</table>\n",
              "<p>1989 rows × 3 columns</p>\n",
              "</div>"
            ],
            "text/plain": [
              "            Date                                               News  Label\n",
              "0     2008-08-08  b\"Georgia 'downs two Russian warplanes' as cou...      0\n",
              "1     2008-08-11  b'Why wont America and Nato help us? If they w...      1\n",
              "2     2008-08-12  b'Remember that adorable 9-year-old who sang a...      0\n",
              "3     2008-08-13  b' U.S. refuses Israel weapons to attack Iran:...      0\n",
              "4     2008-08-14  b'All the experts admit that we should legalis...      1\n",
              "...          ...                                                ...    ...\n",
              "1984  2016-06-27  Barclays and RBS shares suspended from trading...      0\n",
              "1985  2016-06-28  2,500 Scientists To Australia: If You Want To ...      1\n",
              "1986  2016-06-29  Explosion At Airport In Istanbul / Yemeni form...      1\n",
              "1987  2016-06-30  Jamaica proposes marijuana dispensers for tour...      1\n",
              "1988  2016-07-01  A 117-year-old woman in Mexico City finally re...      1\n",
              "\n",
              "[1989 rows x 3 columns]"
            ]
          },
          "metadata": {
            "tags": []
          },
          "execution_count": 11
        }
      ]
    },
    {
      "cell_type": "markdown",
      "metadata": {
        "id": "2P84t8JexODc"
      },
      "source": [
        "### DistilBERT"
      ]
    },
    {
      "cell_type": "code",
      "metadata": {
        "id": "5iog5VqwwbJ-"
      },
      "source": [
        "# Prep all data for headlines\n",
        "# remove extra indices\n",
        "\n",
        "data = df.iloc[:, 2:27]\n",
        "\n",
        "# remove non alphabetical characters\n",
        "data.replace(\"[^a-zA-Z]\", \" \", regex=True, inplace=True)\n",
        "\n",
        "# rename columns\n",
        "list1 = [i for i in range(25)]\n",
        "new_Index = [str(i) for i in list1]\n",
        "data.columns = new_Index\n",
        "\n",
        "# make everything lowercase\n",
        "for index in new_Index:\n",
        "    data[index] = data[index].str.lower()\n",
        "\n",
        "# create list for each row merging all headlines into one\n",
        "news_headlines = []\n",
        "for row in range(0, len(data.index)):\n",
        "    news_headlines.append(' '.join(str(x) for x in data.iloc[row, 0:25]))"
      ],
      "execution_count": 11,
      "outputs": []
    },
    {
      "cell_type": "code",
      "metadata": {
        "colab": {
          "base_uri": "https://localhost:8080/"
        },
        "id": "7gVpMfKhyfYT",
        "outputId": "94405bba-1d93-4972-ffd3-8c8c2b719af6"
      },
      "source": [
        "!pip install transformers"
      ],
      "execution_count": 12,
      "outputs": [
        {
          "output_type": "stream",
          "text": [
            "Collecting transformers\n",
            "\u001b[?25l  Downloading https://files.pythonhosted.org/packages/ed/d5/f4157a376b8a79489a76ce6cfe147f4f3be1e029b7144fa7b8432e8acb26/transformers-4.4.2-py3-none-any.whl (2.0MB)\n",
            "\u001b[K     |████████████████████████████████| 2.0MB 14.9MB/s \n",
            "\u001b[?25hCollecting tokenizers<0.11,>=0.10.1\n",
            "\u001b[?25l  Downloading https://files.pythonhosted.org/packages/ae/04/5b870f26a858552025a62f1649c20d29d2672c02ff3c3fb4c688ca46467a/tokenizers-0.10.2-cp37-cp37m-manylinux2010_x86_64.whl (3.3MB)\n",
            "\u001b[K     |████████████████████████████████| 3.3MB 50.5MB/s \n",
            "\u001b[?25hRequirement already satisfied: requests in /usr/local/lib/python3.7/dist-packages (from transformers) (2.23.0)\n",
            "Requirement already satisfied: numpy>=1.17 in /usr/local/lib/python3.7/dist-packages (from transformers) (1.19.5)\n",
            "Requirement already satisfied: regex!=2019.12.17 in /usr/local/lib/python3.7/dist-packages (from transformers) (2019.12.20)\n",
            "Collecting sacremoses\n",
            "\u001b[?25l  Downloading https://files.pythonhosted.org/packages/08/cd/342e584ee544d044fb573ae697404ce22ede086c9e87ce5960772084cad0/sacremoses-0.0.44.tar.gz (862kB)\n",
            "\u001b[K     |████████████████████████████████| 870kB 51.2MB/s \n",
            "\u001b[?25hRequirement already satisfied: filelock in /usr/local/lib/python3.7/dist-packages (from transformers) (3.0.12)\n",
            "Requirement already satisfied: packaging in /usr/local/lib/python3.7/dist-packages (from transformers) (20.9)\n",
            "Requirement already satisfied: importlib-metadata; python_version < \"3.8\" in /usr/local/lib/python3.7/dist-packages (from transformers) (3.8.1)\n",
            "Requirement already satisfied: tqdm>=4.27 in /usr/local/lib/python3.7/dist-packages (from transformers) (4.41.1)\n",
            "Requirement already satisfied: certifi>=2017.4.17 in /usr/local/lib/python3.7/dist-packages (from requests->transformers) (2020.12.5)\n",
            "Requirement already satisfied: urllib3!=1.25.0,!=1.25.1,<1.26,>=1.21.1 in /usr/local/lib/python3.7/dist-packages (from requests->transformers) (1.24.3)\n",
            "Requirement already satisfied: chardet<4,>=3.0.2 in /usr/local/lib/python3.7/dist-packages (from requests->transformers) (3.0.4)\n",
            "Requirement already satisfied: idna<3,>=2.5 in /usr/local/lib/python3.7/dist-packages (from requests->transformers) (2.10)\n",
            "Requirement already satisfied: six in /usr/local/lib/python3.7/dist-packages (from sacremoses->transformers) (1.15.0)\n",
            "Requirement already satisfied: click in /usr/local/lib/python3.7/dist-packages (from sacremoses->transformers) (7.1.2)\n",
            "Requirement already satisfied: joblib in /usr/local/lib/python3.7/dist-packages (from sacremoses->transformers) (1.0.1)\n",
            "Requirement already satisfied: pyparsing>=2.0.2 in /usr/local/lib/python3.7/dist-packages (from packaging->transformers) (2.4.7)\n",
            "Requirement already satisfied: typing-extensions>=3.6.4; python_version < \"3.8\" in /usr/local/lib/python3.7/dist-packages (from importlib-metadata; python_version < \"3.8\"->transformers) (3.7.4.3)\n",
            "Requirement already satisfied: zipp>=0.5 in /usr/local/lib/python3.7/dist-packages (from importlib-metadata; python_version < \"3.8\"->transformers) (3.4.1)\n",
            "Building wheels for collected packages: sacremoses\n",
            "  Building wheel for sacremoses (setup.py) ... \u001b[?25l\u001b[?25hdone\n",
            "  Created wheel for sacremoses: filename=sacremoses-0.0.44-cp37-none-any.whl size=886084 sha256=543e5f8e4f0f608a133896714333b1ba132dbc82e07ef41113fe38c2fbc59aad\n",
            "  Stored in directory: /root/.cache/pip/wheels/3e/fb/c0/13ab4d63d537658f448366744654323077c4d90069b6512f3c\n",
            "Successfully built sacremoses\n",
            "Installing collected packages: tokenizers, sacremoses, transformers\n",
            "Successfully installed sacremoses-0.0.44 tokenizers-0.10.2 transformers-4.4.2\n"
          ],
          "name": "stdout"
        }
      ]
    },
    {
      "cell_type": "code",
      "metadata": {
        "id": "U-pP_m6FPwKl"
      },
      "source": [
        "import warnings\n",
        "warnings.simplefilter('ignore')\n",
        "import numpy as np\n",
        "import pandas as pd\n",
        "from tqdm import tqdm\n",
        "from sklearn import metrics\n",
        "import transformers\n",
        "import torch\n",
        "from torch.utils.data import Dataset, DataLoader, RandomSampler, SequentialSampler\n",
        "from transformers import DistilBertTokenizer, DistilBertModel\n",
        "import logging\n",
        "logging.basicConfig(level=logging.ERROR)"
      ],
      "execution_count": 13,
      "outputs": []
    },
    {
      "cell_type": "code",
      "metadata": {
        "id": "0nHJ-ZhiP17D"
      },
      "source": [
        "# # Setting up the device for GPU usage\n",
        "\n",
        "from torch import cuda\n",
        "device = 'cuda' if cuda.is_available() else 'cpu'"
      ],
      "execution_count": 14,
      "outputs": []
    },
    {
      "cell_type": "code",
      "metadata": {
        "id": "hZKWXo4mQi3j",
        "colab": {
          "base_uri": "https://localhost:8080/",
          "height": 168,
          "referenced_widgets": [
            "6ea57f5d2d2a4b57996f518b153f0095",
            "28ff2667d32748d296f92b51b3e73e0c",
            "a6fa2e5e745341d593942bf6e6a0f15e",
            "820a030f02ad43e3864f35335f6abacf",
            "b65e0987ab3a4950b6fb1d9686395431",
            "6e4386a1ec2141b0b5e3272c2f72a20d",
            "dfad723897e540a39b046732a92a74ab",
            "ebb6684fa42244d38d3bf0e82d8e98c0",
            "201f086f09b44a028501ed3d6738d15e",
            "e08d59bec2f643f2a63afed70991e30d",
            "b52826a98a774656b11af339fc5dcda2",
            "50cc0a1ae111464fbe971449f65bb5ac",
            "ddcc387cd44345ad89643c70e33af620",
            "ffbcef7b57814053a6cc3c5109a02c4a",
            "4a9162fe2cfd41368266e0003ddf8789",
            "12dfd97ecb6d4ee08efff90149efc1cd",
            "33f81addf9f541f1bf5c5e013382fe94",
            "b4cceae63b9d4ff0a5d3292bd0f22313",
            "a7391053be0e4cd4babd4119e945e0ea",
            "f5b4c74d4e88436c8a9f5c30673a227f",
            "d7d272e6f04f4f5db60ba7780f0cfa64",
            "6362933b374a491a9f6dddc904ad569a",
            "240c3468e50e4525980f87f0f7b08b19",
            "5d2aac924e304814a9d0096bedf8e1c2"
          ]
        },
        "outputId": "4f421e7c-d689-4c42-b555-52c67bdf4f33"
      },
      "source": [
        "# Sections of config\n",
        "\n",
        "# Defining some key variables that will be used later on in the training\n",
        "MAX_LEN = 512\n",
        "TRAIN_BATCH_SIZE = 4\n",
        "VALID_BATCH_SIZE = 4\n",
        "EPOCHS = 5\n",
        "LEARNING_RATE = 1e-05\n",
        "\n",
        "tokenizer = DistilBertTokenizer.from_pretrained('distilbert-base-uncased', truncation=True, do_lower_case=True)\n",
        "# tokenizer = Tokenizer.from_pretrained('distilgpt2', truncation=True, do_lower_case=True)"
      ],
      "execution_count": 15,
      "outputs": [
        {
          "output_type": "display_data",
          "data": {
            "application/vnd.jupyter.widget-view+json": {
              "model_id": "6ea57f5d2d2a4b57996f518b153f0095",
              "version_minor": 0,
              "version_major": 2
            },
            "text/plain": [
              "HBox(children=(FloatProgress(value=0.0, description='Downloading', max=231508.0, style=ProgressStyle(descripti…"
            ]
          },
          "metadata": {
            "tags": []
          }
        },
        {
          "output_type": "stream",
          "text": [
            "\n"
          ],
          "name": "stdout"
        },
        {
          "output_type": "display_data",
          "data": {
            "application/vnd.jupyter.widget-view+json": {
              "model_id": "201f086f09b44a028501ed3d6738d15e",
              "version_minor": 0,
              "version_major": 2
            },
            "text/plain": [
              "HBox(children=(FloatProgress(value=0.0, description='Downloading', max=28.0, style=ProgressStyle(description_w…"
            ]
          },
          "metadata": {
            "tags": []
          }
        },
        {
          "output_type": "stream",
          "text": [
            "\n"
          ],
          "name": "stdout"
        },
        {
          "output_type": "display_data",
          "data": {
            "application/vnd.jupyter.widget-view+json": {
              "model_id": "33f81addf9f541f1bf5c5e013382fe94",
              "version_minor": 0,
              "version_major": 2
            },
            "text/plain": [
              "HBox(children=(FloatProgress(value=0.0, description='Downloading', max=466062.0, style=ProgressStyle(descripti…"
            ]
          },
          "metadata": {
            "tags": []
          }
        },
        {
          "output_type": "stream",
          "text": [
            "\n"
          ],
          "name": "stdout"
        }
      ]
    },
    {
      "cell_type": "code",
      "metadata": {
        "id": "EJM-_VTeQn8K"
      },
      "source": [
        "class LabelDataset(Dataset):\n",
        "\n",
        "  def __init__(self, dataframe, tokenizer, max_len):\n",
        "    self.tokenizer = tokenizer\n",
        "    self.data = dataframe\n",
        "    self.text = dataframe.Headlines\n",
        "    self.targets = self.data.Labels\n",
        "    self.max_len = max_len\n",
        "\n",
        "  def __len__(self):\n",
        "    return len(self.text)\n",
        "\n",
        "  def __getitem__(self, index):\n",
        "    text = str(self.text[index])\n",
        "    text = \" \".join(text.split())\n",
        "\n",
        "    inputs = self.tokenizer.encode_plus(\n",
        "      text,\n",
        "      None,\n",
        "      add_special_tokens=True,\n",
        "      max_length=self.max_len,\n",
        "      pad_to_max_length=True,\n",
        "      return_token_type_ids=True\n",
        "    )\n",
        "    ids = inputs['input_ids']\n",
        "    mask = inputs['attention_mask']\n",
        "    token_type_ids = inputs[\"token_type_ids\"]\n",
        "\n",
        "\n",
        "    return {\n",
        "      'ids': torch.tensor(ids, dtype=torch.long),\n",
        "      'mask': torch.tensor(mask, dtype=torch.long),\n",
        "      'token_type_ids': torch.tensor(token_type_ids, dtype=torch.long),\n",
        "      'targets': torch.tensor(self.targets[index], dtype=torch.float)\n",
        "    }"
      ],
      "execution_count": 16,
      "outputs": []
    },
    {
      "cell_type": "code",
      "metadata": {
        "colab": {
          "base_uri": "https://localhost:8080/"
        },
        "id": "vq4tBqGPREvt",
        "outputId": "e8b847b9-28a3-4188-89d7-28a6c8909d03"
      },
      "source": [
        "# Creating the dataset and dataloader for the neural network\n",
        "train_dat = pd.DataFrame()\n",
        "train_dat['Headlines'] = reddit_forrest.headlines#news_headlines # reddit_forrest.headlines\n",
        "train_dat['Labels'] = df['Label']\n",
        "# train_dat['Labels'] = stock_lagged['Label']\n",
        "# train_dat['Labels'] = generic_forrest.news_data['Label']\n",
        "train_dat['Labels'] = train_dat.iloc[:, 1:].values.tolist()\n",
        "train_dat['Date'] = df['Date']\n",
        "train_dat\n",
        "\n",
        "new_df = train_dat\n",
        "\n",
        "# train_size = 0.8\n",
        "# train_data=new_df.sample(frac=train_size,random_state=200)\n",
        "# test_data=new_df.drop(train_data.index).reset_index(drop=True)\n",
        "# train_data = train_data.reset_index(drop=True)\n",
        "\n",
        "# Split data\n",
        "train_data = new_df[new_df['Date'] < '2014-10-01']\n",
        "test_data = new_df[new_df['Date'] >= '2014-10-01']\n",
        "# test_data = new_df.loc[(new_df['Date'] >= '2014-10-01') & (new_df['Date'] <= '2015-07-01')]\n",
        "# val_data = new_df[new_df['Date'] > '2015-07-01']\n",
        "\n",
        "del train_data['Date']\n",
        "del test_data['Date']\n",
        "# del val_data['Date']\n",
        "\n",
        "test_data = test_data.reset_index()\n",
        "# val_data = val_data.reset_index()\n",
        "\n",
        "print(\"FULL Dataset: {}\".format(new_df.shape))\n",
        "print(\"TRAIN Dataset: {}\".format(train_data.shape))\n",
        "print(\"TEST Dataset: {}\".format(test_data.shape))\n",
        "# print(\"VAL Dataset: {}\".format(val_data.shape))\n",
        "\n",
        "training_set = LabelDataset(train_data, tokenizer, MAX_LEN)\n",
        "testing_set = LabelDataset(test_data, tokenizer, MAX_LEN)\n",
        "# validation_set = LabelDataset(val_data, tokenizer, MAX_LEN)"
      ],
      "execution_count": 25,
      "outputs": [
        {
          "output_type": "stream",
          "text": [
            "FULL Dataset: (1782, 3)\n",
            "TRAIN Dataset: (1547, 2)\n",
            "TEST Dataset: (235, 3)\n"
          ],
          "name": "stdout"
        }
      ]
    },
    {
      "cell_type": "code",
      "metadata": {
        "id": "cz8xKkunRGIi"
      },
      "source": [
        "train_params = {'batch_size': TRAIN_BATCH_SIZE,\n",
        "                'shuffle': False,\n",
        "                'num_workers': 0\n",
        "                }\n",
        "\n",
        "test_params = {'batch_size': VALID_BATCH_SIZE,\n",
        "                'shuffle': False,\n",
        "                'num_workers': 0\n",
        "                }\n",
        "\n",
        "val_params = {'batch_size': VALID_BATCH_SIZE,\n",
        "                'shuffle': False,\n",
        "                'num_workers': 0\n",
        "                }\n",
        "\n",
        "training_loader = DataLoader(training_set, **train_params)\n",
        "testing_loader = DataLoader(testing_set, **test_params)\n",
        "# validation_loader = DataLoader(validation_set, ** val_params)"
      ],
      "execution_count": 26,
      "outputs": []
    },
    {
      "cell_type": "code",
      "metadata": {
        "id": "RHJQRgiBvwTC",
        "colab": {
          "base_uri": "https://localhost:8080/"
        },
        "outputId": "c1c2f037-4081-4192-90f3-a42408e50e84"
      },
      "source": [
        "# Creating the customized model, by adding a drop out and a dense layer on top of distil bert to get the final output for the model. \n",
        "# Example source: https://colab.research.google.com/github/DhavalTaunk08/Transformers_scripts/blob/master/Transformers_multilabel_distilbert.ipynb#scrollTo=FeftvDhjDSPp\n",
        "\n",
        "class DistilBERTClass(torch.nn.Module):\n",
        "  def __init__(self):\n",
        "    super(DistilBERTClass, self).__init__()\n",
        "    # self.l1 = DistilBertModel.from_pretrained(\"distilgpt2\")\n",
        "    self.l1 = DistilBertModel.from_pretrained(\"distilbert-base-uncased\")\n",
        "    self.pre_classifier = torch.nn.Linear(768, 768)\n",
        "    self.dropout = torch.nn.Dropout(0.1)\n",
        "    self.classifier = torch.nn.Linear(768, 1)\n",
        "\n",
        "  def forward(self, input_ids, attention_mask, token_type_ids):\n",
        "    output_1 = self.l1(input_ids=input_ids, attention_mask=attention_mask)\n",
        "    hidden_state = output_1[0]\n",
        "    pooler = hidden_state[:, 0]\n",
        "    pooler = self.pre_classifier(pooler)\n",
        "    pooler = torch.nn.Tanh()(pooler)\n",
        "    pooler = self.dropout(pooler)\n",
        "    output = self.classifier(pooler)\n",
        "    return output\n",
        "\n",
        "model = DistilBERTClass()\n",
        "model.to(device)"
      ],
      "execution_count": 27,
      "outputs": [
        {
          "output_type": "execute_result",
          "data": {
            "text/plain": [
              "DistilBERTClass(\n",
              "  (l1): DistilBertModel(\n",
              "    (embeddings): Embeddings(\n",
              "      (word_embeddings): Embedding(30522, 768, padding_idx=0)\n",
              "      (position_embeddings): Embedding(512, 768)\n",
              "      (LayerNorm): LayerNorm((768,), eps=1e-12, elementwise_affine=True)\n",
              "      (dropout): Dropout(p=0.1, inplace=False)\n",
              "    )\n",
              "    (transformer): Transformer(\n",
              "      (layer): ModuleList(\n",
              "        (0): TransformerBlock(\n",
              "          (attention): MultiHeadSelfAttention(\n",
              "            (dropout): Dropout(p=0.1, inplace=False)\n",
              "            (q_lin): Linear(in_features=768, out_features=768, bias=True)\n",
              "            (k_lin): Linear(in_features=768, out_features=768, bias=True)\n",
              "            (v_lin): Linear(in_features=768, out_features=768, bias=True)\n",
              "            (out_lin): Linear(in_features=768, out_features=768, bias=True)\n",
              "          )\n",
              "          (sa_layer_norm): LayerNorm((768,), eps=1e-12, elementwise_affine=True)\n",
              "          (ffn): FFN(\n",
              "            (dropout): Dropout(p=0.1, inplace=False)\n",
              "            (lin1): Linear(in_features=768, out_features=3072, bias=True)\n",
              "            (lin2): Linear(in_features=3072, out_features=768, bias=True)\n",
              "          )\n",
              "          (output_layer_norm): LayerNorm((768,), eps=1e-12, elementwise_affine=True)\n",
              "        )\n",
              "        (1): TransformerBlock(\n",
              "          (attention): MultiHeadSelfAttention(\n",
              "            (dropout): Dropout(p=0.1, inplace=False)\n",
              "            (q_lin): Linear(in_features=768, out_features=768, bias=True)\n",
              "            (k_lin): Linear(in_features=768, out_features=768, bias=True)\n",
              "            (v_lin): Linear(in_features=768, out_features=768, bias=True)\n",
              "            (out_lin): Linear(in_features=768, out_features=768, bias=True)\n",
              "          )\n",
              "          (sa_layer_norm): LayerNorm((768,), eps=1e-12, elementwise_affine=True)\n",
              "          (ffn): FFN(\n",
              "            (dropout): Dropout(p=0.1, inplace=False)\n",
              "            (lin1): Linear(in_features=768, out_features=3072, bias=True)\n",
              "            (lin2): Linear(in_features=3072, out_features=768, bias=True)\n",
              "          )\n",
              "          (output_layer_norm): LayerNorm((768,), eps=1e-12, elementwise_affine=True)\n",
              "        )\n",
              "        (2): TransformerBlock(\n",
              "          (attention): MultiHeadSelfAttention(\n",
              "            (dropout): Dropout(p=0.1, inplace=False)\n",
              "            (q_lin): Linear(in_features=768, out_features=768, bias=True)\n",
              "            (k_lin): Linear(in_features=768, out_features=768, bias=True)\n",
              "            (v_lin): Linear(in_features=768, out_features=768, bias=True)\n",
              "            (out_lin): Linear(in_features=768, out_features=768, bias=True)\n",
              "          )\n",
              "          (sa_layer_norm): LayerNorm((768,), eps=1e-12, elementwise_affine=True)\n",
              "          (ffn): FFN(\n",
              "            (dropout): Dropout(p=0.1, inplace=False)\n",
              "            (lin1): Linear(in_features=768, out_features=3072, bias=True)\n",
              "            (lin2): Linear(in_features=3072, out_features=768, bias=True)\n",
              "          )\n",
              "          (output_layer_norm): LayerNorm((768,), eps=1e-12, elementwise_affine=True)\n",
              "        )\n",
              "        (3): TransformerBlock(\n",
              "          (attention): MultiHeadSelfAttention(\n",
              "            (dropout): Dropout(p=0.1, inplace=False)\n",
              "            (q_lin): Linear(in_features=768, out_features=768, bias=True)\n",
              "            (k_lin): Linear(in_features=768, out_features=768, bias=True)\n",
              "            (v_lin): Linear(in_features=768, out_features=768, bias=True)\n",
              "            (out_lin): Linear(in_features=768, out_features=768, bias=True)\n",
              "          )\n",
              "          (sa_layer_norm): LayerNorm((768,), eps=1e-12, elementwise_affine=True)\n",
              "          (ffn): FFN(\n",
              "            (dropout): Dropout(p=0.1, inplace=False)\n",
              "            (lin1): Linear(in_features=768, out_features=3072, bias=True)\n",
              "            (lin2): Linear(in_features=3072, out_features=768, bias=True)\n",
              "          )\n",
              "          (output_layer_norm): LayerNorm((768,), eps=1e-12, elementwise_affine=True)\n",
              "        )\n",
              "        (4): TransformerBlock(\n",
              "          (attention): MultiHeadSelfAttention(\n",
              "            (dropout): Dropout(p=0.1, inplace=False)\n",
              "            (q_lin): Linear(in_features=768, out_features=768, bias=True)\n",
              "            (k_lin): Linear(in_features=768, out_features=768, bias=True)\n",
              "            (v_lin): Linear(in_features=768, out_features=768, bias=True)\n",
              "            (out_lin): Linear(in_features=768, out_features=768, bias=True)\n",
              "          )\n",
              "          (sa_layer_norm): LayerNorm((768,), eps=1e-12, elementwise_affine=True)\n",
              "          (ffn): FFN(\n",
              "            (dropout): Dropout(p=0.1, inplace=False)\n",
              "            (lin1): Linear(in_features=768, out_features=3072, bias=True)\n",
              "            (lin2): Linear(in_features=3072, out_features=768, bias=True)\n",
              "          )\n",
              "          (output_layer_norm): LayerNorm((768,), eps=1e-12, elementwise_affine=True)\n",
              "        )\n",
              "        (5): TransformerBlock(\n",
              "          (attention): MultiHeadSelfAttention(\n",
              "            (dropout): Dropout(p=0.1, inplace=False)\n",
              "            (q_lin): Linear(in_features=768, out_features=768, bias=True)\n",
              "            (k_lin): Linear(in_features=768, out_features=768, bias=True)\n",
              "            (v_lin): Linear(in_features=768, out_features=768, bias=True)\n",
              "            (out_lin): Linear(in_features=768, out_features=768, bias=True)\n",
              "          )\n",
              "          (sa_layer_norm): LayerNorm((768,), eps=1e-12, elementwise_affine=True)\n",
              "          (ffn): FFN(\n",
              "            (dropout): Dropout(p=0.1, inplace=False)\n",
              "            (lin1): Linear(in_features=768, out_features=3072, bias=True)\n",
              "            (lin2): Linear(in_features=3072, out_features=768, bias=True)\n",
              "          )\n",
              "          (output_layer_norm): LayerNorm((768,), eps=1e-12, elementwise_affine=True)\n",
              "        )\n",
              "      )\n",
              "    )\n",
              "  )\n",
              "  (pre_classifier): Linear(in_features=768, out_features=768, bias=True)\n",
              "  (dropout): Dropout(p=0.1, inplace=False)\n",
              "  (classifier): Linear(in_features=768, out_features=1, bias=True)\n",
              ")"
            ]
          },
          "metadata": {
            "tags": []
          },
          "execution_count": 27
        }
      ]
    },
    {
      "cell_type": "code",
      "metadata": {
        "id": "Mk145BxGS9o1"
      },
      "source": [
        "def loss_fn(outputs, targets):\n",
        "  return torch.nn.BCEWithLogitsLoss()(outputs, targets)\n",
        "\n",
        "optimizer = torch.optim.Adam(params =  model.parameters(), lr=LEARNING_RATE)\n",
        "\n",
        "def train_model(epoch):\n",
        "  model.train()\n",
        "  for _,data in tqdm(enumerate(training_loader, 0)):\n",
        "    ids = data['ids'].to(device, dtype = torch.long)\n",
        "    mask = data['mask'].to(device, dtype = torch.long)\n",
        "    token_type_ids = data['token_type_ids'].to(device, dtype = torch.long)\n",
        "    targets = data['targets'].to(device, dtype = torch.float)\n",
        "\n",
        "    outputs = model(ids, mask, token_type_ids)\n",
        "\n",
        "    optimizer.zero_grad()\n",
        "    loss = loss_fn(outputs, targets)\n",
        "    if _%5000==0:\n",
        "      print(f'Epoch: {epoch}, Loss:  {loss.item()}')\n",
        "    \n",
        "    optimizer.zero_grad()\n",
        "    loss.backward()\n",
        "    optimizer.step()"
      ],
      "execution_count": 28,
      "outputs": []
    },
    {
      "cell_type": "code",
      "metadata": {
        "id": "lT-Aa-Q1S_lZ",
        "colab": {
          "base_uri": "https://localhost:8080/"
        },
        "outputId": "8dfd3177-27fd-47a1-aa13-ec9c23825803"
      },
      "source": [
        "for epoch in range(EPOCHS):\n",
        "    train_model(epoch)"
      ],
      "execution_count": 29,
      "outputs": [
        {
          "output_type": "stream",
          "text": [
            "1it [00:00,  3.29it/s]"
          ],
          "name": "stderr"
        },
        {
          "output_type": "stream",
          "text": [
            "Epoch: 0, Loss:  0.668325662612915\n"
          ],
          "name": "stdout"
        },
        {
          "output_type": "stream",
          "text": [
            "387it [01:36,  4.02it/s]\n",
            "1it [00:00,  4.16it/s]"
          ],
          "name": "stderr"
        },
        {
          "output_type": "stream",
          "text": [
            "Epoch: 1, Loss:  0.7669241428375244\n"
          ],
          "name": "stdout"
        },
        {
          "output_type": "stream",
          "text": [
            "387it [01:35,  4.04it/s]\n",
            "1it [00:00,  4.28it/s]"
          ],
          "name": "stderr"
        },
        {
          "output_type": "stream",
          "text": [
            "Epoch: 2, Loss:  0.7706451416015625\n"
          ],
          "name": "stdout"
        },
        {
          "output_type": "stream",
          "text": [
            "387it [01:35,  4.04it/s]\n",
            "1it [00:00,  4.12it/s]"
          ],
          "name": "stderr"
        },
        {
          "output_type": "stream",
          "text": [
            "Epoch: 3, Loss:  0.5321630239486694\n"
          ],
          "name": "stdout"
        },
        {
          "output_type": "stream",
          "text": [
            "387it [01:35,  4.03it/s]\n",
            "1it [00:00,  4.23it/s]"
          ],
          "name": "stderr"
        },
        {
          "output_type": "stream",
          "text": [
            "Epoch: 4, Loss:  0.16161087155342102\n"
          ],
          "name": "stdout"
        },
        {
          "output_type": "stream",
          "text": [
            "387it [01:35,  4.03it/s]\n"
          ],
          "name": "stderr"
        }
      ]
    },
    {
      "cell_type": "code",
      "metadata": {
        "id": "el3_qbEJTA7Q"
      },
      "source": [
        "def validation(testing_loader):\n",
        "  model.eval()\n",
        "  fin_targets=[]\n",
        "  fin_outputs=[]\n",
        "  with torch.no_grad():\n",
        "    for _, data in tqdm(enumerate(testing_loader, 0)):\n",
        "      ids = data['ids'].to(device, dtype = torch.long)\n",
        "      mask = data['mask'].to(device, dtype = torch.long)\n",
        "      token_type_ids = data['token_type_ids'].to(device, dtype = torch.long)\n",
        "      targets = data['targets'].to(device, dtype = torch.float)\n",
        "      outputs = model(ids, mask, token_type_ids)\n",
        "      fin_targets.extend(targets.cpu().detach().numpy().tolist())\n",
        "      fin_outputs.extend(torch.sigmoid(outputs).cpu().detach().numpy().tolist())\n",
        "  return fin_outputs, fin_targets"
      ],
      "execution_count": 30,
      "outputs": []
    },
    {
      "cell_type": "code",
      "metadata": {
        "cellView": "code",
        "colab": {
          "base_uri": "https://localhost:8080/"
        },
        "id": "IokY-AhFTCPb",
        "outputId": "9d1adefe-a9b4-495f-b2bb-9dc5635eea4e"
      },
      "source": [
        "outputs, targets = validation(testing_loader)\n",
        "\n",
        "# val_out, val_targets = validation(validation_loader)\n",
        "# val_outputs = np.array(val_out) >= 0.5\n",
        "\n",
        "final_outputs = np.array(outputs) >=0.5"
      ],
      "execution_count": 31,
      "outputs": [
        {
          "output_type": "stream",
          "text": [
            "59it [00:05, 10.34it/s]\n"
          ],
          "name": "stderr"
        }
      ]
    },
    {
      "cell_type": "code",
      "metadata": {
        "colab": {
          "base_uri": "https://localhost:8080/"
        },
        "id": "vFVRkk3eTDjH",
        "outputId": "e0d7aa80-0785-4df5-d37d-4720ad1a980d"
      },
      "source": [
        "# Saving the files to drive\n",
        "\n",
        "output_model_file = \"/content/drive/MyDrive/ECE 579 Project/models/distilbert_model_reddit.bin\"\n",
        "output_vocab_file = \"/content/drive/MyDrive/ECE 579 Project/models/vocab_reddit.bin\"\n",
        "\n",
        "torch.save(model, output_model_file)\n",
        "tokenizer.save_vocabulary(output_vocab_file)\n",
        "\n",
        "print('Saved')"
      ],
      "execution_count": 33,
      "outputs": [
        {
          "output_type": "stream",
          "text": [
            "Saved\n"
          ],
          "name": "stdout"
        }
      ]
    },
    {
      "cell_type": "code",
      "metadata": {
        "colab": {
          "base_uri": "https://localhost:8080/"
        },
        "id": "6rHce0E6UnKF",
        "outputId": "c354c758-bdcc-4434-d07b-70f24d575bc6"
      },
      "source": [
        "report(targets, final_outputs.astype(int))"
      ],
      "execution_count": 32,
      "outputs": [
        {
          "output_type": "stream",
          "text": [
            "Confusion Matrix\n",
            "[[ 16 103]\n",
            " [ 26  90]]\n",
            "\n",
            "Overall prediction accuracy: 0.451063829787234\n",
            "\n",
            "Classification Report: \n",
            "              precision    recall  f1-score   support\n",
            "\n",
            "         0.0       0.38      0.13      0.20       119\n",
            "         1.0       0.47      0.78      0.58       116\n",
            "\n",
            "    accuracy                           0.45       235\n",
            "   macro avg       0.42      0.46      0.39       235\n",
            "weighted avg       0.42      0.45      0.39       235\n",
            "\n"
          ],
          "name": "stdout"
        }
      ]
    },
    {
      "cell_type": "code",
      "metadata": {
        "id": "btbZgWvLi7iB"
      },
      "source": [
        "# report(val_targets, val_outputs.astype(int))"
      ],
      "execution_count": null,
      "outputs": []
    },
    {
      "cell_type": "markdown",
      "metadata": {
        "id": "4YSoi-qmlS86"
      },
      "source": [
        "### Vadersentiment"
      ]
    },
    {
      "cell_type": "code",
      "metadata": {
        "colab": {
          "base_uri": "https://localhost:8080/"
        },
        "id": "qE5fgSvElYYZ",
        "outputId": "3b9defa2-5ddd-4f82-b93d-44f4cb9c127e"
      },
      "source": [
        "!pip install vaderSentiment"
      ],
      "execution_count": 12,
      "outputs": [
        {
          "output_type": "stream",
          "text": [
            "Collecting vaderSentiment\n",
            "\u001b[?25l  Downloading https://files.pythonhosted.org/packages/76/fc/310e16254683c1ed35eeb97386986d6c00bc29df17ce280aed64d55537e9/vaderSentiment-3.3.2-py2.py3-none-any.whl (125kB)\n",
            "\r\u001b[K     |██▋                             | 10kB 13.1MB/s eta 0:00:01\r\u001b[K     |█████▏                          | 20kB 12.4MB/s eta 0:00:01\r\u001b[K     |███████▉                        | 30kB 8.7MB/s eta 0:00:01\r\u001b[K     |██████████▍                     | 40kB 7.9MB/s eta 0:00:01\r\u001b[K     |█████████████                   | 51kB 5.1MB/s eta 0:00:01\r\u001b[K     |███████████████▋                | 61kB 5.7MB/s eta 0:00:01\r\u001b[K     |██████████████████▏             | 71kB 5.7MB/s eta 0:00:01\r\u001b[K     |████████████████████▉           | 81kB 5.9MB/s eta 0:00:01\r\u001b[K     |███████████████████████▍        | 92kB 5.8MB/s eta 0:00:01\r\u001b[K     |██████████████████████████      | 102kB 4.9MB/s eta 0:00:01\r\u001b[K     |████████████████████████████▋   | 112kB 4.9MB/s eta 0:00:01\r\u001b[K     |███████████████████████████████▏| 122kB 4.9MB/s eta 0:00:01\r\u001b[K     |████████████████████████████████| 133kB 4.9MB/s \n",
            "\u001b[?25hRequirement already satisfied: requests in /usr/local/lib/python3.7/dist-packages (from vaderSentiment) (2.23.0)\n",
            "Requirement already satisfied: certifi>=2017.4.17 in /usr/local/lib/python3.7/dist-packages (from requests->vaderSentiment) (2020.12.5)\n",
            "Requirement already satisfied: idna<3,>=2.5 in /usr/local/lib/python3.7/dist-packages (from requests->vaderSentiment) (2.10)\n",
            "Requirement already satisfied: urllib3!=1.25.0,!=1.25.1,<1.26,>=1.21.1 in /usr/local/lib/python3.7/dist-packages (from requests->vaderSentiment) (1.24.3)\n",
            "Requirement already satisfied: chardet<4,>=3.0.2 in /usr/local/lib/python3.7/dist-packages (from requests->vaderSentiment) (3.0.4)\n",
            "Installing collected packages: vaderSentiment\n",
            "Successfully installed vaderSentiment-3.3.2\n"
          ],
          "name": "stdout"
        }
      ]
    },
    {
      "cell_type": "code",
      "metadata": {
        "id": "fDpeyW8X5SpV"
      },
      "source": [
        "# Prep all data for headlines\n",
        "# remove extra indices\n",
        "\n",
        "data = df.iloc[:, 2:27]\n",
        "\n",
        "# remove non alphabetical characters\n",
        "data.replace(\"[^a-zA-Z]\", \" \", regex=True, inplace=True)\n",
        "\n",
        "# rename columns\n",
        "list1 = [i for i in range(25)]\n",
        "new_Index = [str(i) for i in list1]\n",
        "data.columns = new_Index\n",
        "\n",
        "# make everything lowercase\n",
        "for index in new_Index:\n",
        "    data[index] = data[index].str.lower()\n",
        "\n",
        "# create list for each row merging all headlines into one\n",
        "news_headlines = []\n",
        "for row in range(0, len(data.index)):\n",
        "    news_headlines.append(' '.join(str(x) for x in data.iloc[row, 0:25]))"
      ],
      "execution_count": 13,
      "outputs": []
    },
    {
      "cell_type": "code",
      "metadata": {
        "id": "3PBes0PelclA"
      },
      "source": [
        "from vaderSentiment.vaderSentiment import SentimentIntensityAnalyzer\n",
        "\n",
        "vader_analyzer = SentimentIntensityAnalyzer()\n",
        "out = []\n",
        "\n",
        "# use headlines list from generic_forrest - since vadersentiment is a pre-trained tool no training is required\n",
        "for item in range(0, len(reddit_forrest.headlines)): #news_headlines\n",
        "  out.append(vader_analyzer.polarity_scores(news_headlines[item]))\n",
        "\n",
        "vader_output = pd.DataFrame(out, columns=['neg', 'neu', 'pos', 'compound'])"
      ],
      "execution_count": 14,
      "outputs": []
    },
    {
      "cell_type": "code",
      "metadata": {
        "colab": {
          "base_uri": "https://localhost:8080/"
        },
        "id": "kqUSOipibhUV",
        "outputId": "90c3bb45-51a0-4eae-dc64-734f02f63d0a"
      },
      "source": [
        "vader_accuracy = pd.DataFrame()\n",
        "\n",
        "vader_accuracy['Prediction'] = vader_output['compound']\n",
        "vader_accuracy['Label'] = df['Label']\n",
        "\n",
        "vader_accuracy.loc[vader_accuracy['Prediction'] >= 0, 'Rounded'] = 1\n",
        "vader_accuracy.loc[vader_accuracy['Prediction'] < 0, 'Rounded'] = 0\n",
        "\n",
        "report(vader_accuracy['Label'], vader_accuracy['Rounded'])"
      ],
      "execution_count": 15,
      "outputs": [
        {
          "output_type": "stream",
          "text": [
            "Confusion Matrix\n",
            "[[818  11]\n",
            " [941  12]]\n",
            "\n",
            "Overall prediction accuracy: 0.4657687991021324\n",
            "\n",
            "Classification Report: \n",
            "              precision    recall  f1-score   support\n",
            "\n",
            "           0       0.47      0.99      0.63       829\n",
            "           1       0.52      0.01      0.02       953\n",
            "\n",
            "    accuracy                           0.47      1782\n",
            "   macro avg       0.49      0.50      0.33      1782\n",
            "weighted avg       0.50      0.47      0.31      1782\n",
            "\n"
          ],
          "name": "stdout"
        }
      ]
    },
    {
      "cell_type": "markdown",
      "metadata": {
        "id": "DcfvTKiRpfJy"
      },
      "source": [
        "## XGBoost"
      ]
    },
    {
      "cell_type": "code",
      "metadata": {
        "colab": {
          "base_uri": "https://localhost:8080/",
          "height": 424
        },
        "id": "l_49uNuT80Ap",
        "outputId": "8085145e-1b6c-451b-a35f-f0b2dd7cb3ab"
      },
      "source": [
        "rf_labels = pd.DataFrame(df['Label'].loc[(df['Date'] < '20141231')])\n",
        "rf_labels = rf_labels['Label'].append(pd.Series(name = 'Label', data = generic_forrest.predictions), ignore_index = True)\n",
        "rf_labels = rf_labels.rename('RandomForrest')\n",
        "\n",
        "start_date = '2008-08-08'\n",
        "end_date = '2016-06-28'\n",
        "test_stock_data = dia_data.data.loc[(dia_data.data['<DATE>'] >= start_date) & (dia_data.data['<DATE>'] <= end_date)]\n",
        "\n",
        "stock_with_predictions = test_stock_data.reset_index()\n",
        "del stock_with_predictions['index']\n",
        "stock_with_predictions['Predictions'] = rf_labels\n",
        "stock_with_predictions"
      ],
      "execution_count": 16,
      "outputs": [
        {
          "output_type": "execute_result",
          "data": {
            "text/html": [
              "<div>\n",
              "<style scoped>\n",
              "    .dataframe tbody tr th:only-of-type {\n",
              "        vertical-align: middle;\n",
              "    }\n",
              "\n",
              "    .dataframe tbody tr th {\n",
              "        vertical-align: top;\n",
              "    }\n",
              "\n",
              "    .dataframe thead th {\n",
              "        text-align: right;\n",
              "    }\n",
              "</style>\n",
              "<table border=\"1\" class=\"dataframe\">\n",
              "  <thead>\n",
              "    <tr style=\"text-align: right;\">\n",
              "      <th></th>\n",
              "      <th>&lt;DATE&gt;</th>\n",
              "      <th>&lt;OPEN&gt;</th>\n",
              "      <th>&lt;HIGH&gt;</th>\n",
              "      <th>&lt;LOW&gt;</th>\n",
              "      <th>&lt;CLOSE&gt;</th>\n",
              "      <th>&lt;VOL&gt;</th>\n",
              "      <th>Predictions</th>\n",
              "    </tr>\n",
              "  </thead>\n",
              "  <tbody>\n",
              "    <tr>\n",
              "      <th>0</th>\n",
              "      <td>2008-08-08</td>\n",
              "      <td>93.219</td>\n",
              "      <td>96.008</td>\n",
              "      <td>93.057</td>\n",
              "      <td>95.446</td>\n",
              "      <td>38254036</td>\n",
              "      <td>0</td>\n",
              "    </tr>\n",
              "    <tr>\n",
              "      <th>1</th>\n",
              "      <td>2008-08-11</td>\n",
              "      <td>95.483</td>\n",
              "      <td>96.908</td>\n",
              "      <td>95.307</td>\n",
              "      <td>96.136</td>\n",
              "      <td>27554381</td>\n",
              "      <td>1</td>\n",
              "    </tr>\n",
              "    <tr>\n",
              "      <th>2</th>\n",
              "      <td>2008-08-12</td>\n",
              "      <td>95.841</td>\n",
              "      <td>95.901</td>\n",
              "      <td>94.717</td>\n",
              "      <td>95.121</td>\n",
              "      <td>27502355</td>\n",
              "      <td>0</td>\n",
              "    </tr>\n",
              "    <tr>\n",
              "      <th>3</th>\n",
              "      <td>2008-08-13</td>\n",
              "      <td>94.717</td>\n",
              "      <td>94.813</td>\n",
              "      <td>93.608</td>\n",
              "      <td>94.189</td>\n",
              "      <td>34546335</td>\n",
              "      <td>0</td>\n",
              "    </tr>\n",
              "    <tr>\n",
              "      <th>4</th>\n",
              "      <td>2008-08-14</td>\n",
              "      <td>93.738</td>\n",
              "      <td>95.744</td>\n",
              "      <td>93.608</td>\n",
              "      <td>94.992</td>\n",
              "      <td>30158885</td>\n",
              "      <td>1</td>\n",
              "    </tr>\n",
              "    <tr>\n",
              "      <th>...</th>\n",
              "      <td>...</td>\n",
              "      <td>...</td>\n",
              "      <td>...</td>\n",
              "      <td>...</td>\n",
              "      <td>...</td>\n",
              "      <td>...</td>\n",
              "      <td>...</td>\n",
              "    </tr>\n",
              "    <tr>\n",
              "      <th>1980</th>\n",
              "      <td>2016-06-22</td>\n",
              "      <td>164.530</td>\n",
              "      <td>165.170</td>\n",
              "      <td>163.780</td>\n",
              "      <td>163.920</td>\n",
              "      <td>3205796</td>\n",
              "      <td>1</td>\n",
              "    </tr>\n",
              "    <tr>\n",
              "      <th>1981</th>\n",
              "      <td>2016-06-23</td>\n",
              "      <td>165.220</td>\n",
              "      <td>165.970</td>\n",
              "      <td>164.920</td>\n",
              "      <td>165.970</td>\n",
              "      <td>3167600</td>\n",
              "      <td>1</td>\n",
              "    </tr>\n",
              "    <tr>\n",
              "      <th>1982</th>\n",
              "      <td>2016-06-24</td>\n",
              "      <td>161.120</td>\n",
              "      <td>163.080</td>\n",
              "      <td>159.970</td>\n",
              "      <td>160.270</td>\n",
              "      <td>12324106</td>\n",
              "      <td>1</td>\n",
              "    </tr>\n",
              "    <tr>\n",
              "      <th>1983</th>\n",
              "      <td>2016-06-27</td>\n",
              "      <td>159.180</td>\n",
              "      <td>159.180</td>\n",
              "      <td>157.260</td>\n",
              "      <td>158.010</td>\n",
              "      <td>8327343</td>\n",
              "      <td>1</td>\n",
              "    </tr>\n",
              "    <tr>\n",
              "      <th>1984</th>\n",
              "      <td>2016-06-28</td>\n",
              "      <td>159.550</td>\n",
              "      <td>160.500</td>\n",
              "      <td>158.920</td>\n",
              "      <td>160.460</td>\n",
              "      <td>6112097</td>\n",
              "      <td>1</td>\n",
              "    </tr>\n",
              "  </tbody>\n",
              "</table>\n",
              "<p>1985 rows × 7 columns</p>\n",
              "</div>"
            ],
            "text/plain": [
              "         <DATE>   <OPEN>   <HIGH>    <LOW>  <CLOSE>     <VOL>  Predictions\n",
              "0    2008-08-08   93.219   96.008   93.057   95.446  38254036            0\n",
              "1    2008-08-11   95.483   96.908   95.307   96.136  27554381            1\n",
              "2    2008-08-12   95.841   95.901   94.717   95.121  27502355            0\n",
              "3    2008-08-13   94.717   94.813   93.608   94.189  34546335            0\n",
              "4    2008-08-14   93.738   95.744   93.608   94.992  30158885            1\n",
              "...         ...      ...      ...      ...      ...       ...          ...\n",
              "1980 2016-06-22  164.530  165.170  163.780  163.920   3205796            1\n",
              "1981 2016-06-23  165.220  165.970  164.920  165.970   3167600            1\n",
              "1982 2016-06-24  161.120  163.080  159.970  160.270  12324106            1\n",
              "1983 2016-06-27  159.180  159.180  157.260  158.010   8327343            1\n",
              "1984 2016-06-28  159.550  160.500  158.920  160.460   6112097            1\n",
              "\n",
              "[1985 rows x 7 columns]"
            ]
          },
          "metadata": {
            "tags": []
          },
          "execution_count": 16
        }
      ]
    },
    {
      "cell_type": "code",
      "metadata": {
        "id": "zSnuWEbTnrfc"
      },
      "source": [
        "def xgboost_data_gen(stock_data):\n",
        "  # Building input data - including stock data, sentiment, technical indicators (RSI/ MA/ etc.)\n",
        "  # stock data\n",
        "  start_date = '2008-08-08'\n",
        "  end_date = '2016-06-28'\n",
        "  test_stock_data = stock_data\n",
        "  test_stock_data = test_stock_data.loc[(test_stock_data['<DATE>'] >= start_date) & (test_stock_data['<DATE>'] <= end_date)]\n",
        "  test_stock_data = test_stock_data.reset_index()\n",
        "\n",
        "  # # random forrest output\n",
        "  # rf_labels = pd.DataFrame(df['Label'].loc[(df['Date'] < '20141231')])\n",
        "  # rf_labels = rf_labels['Label'].append(pd.Series(name = 'Label', data = generic_forrest.predictions), ignore_index = True)\n",
        "  # rf_labels = rf_labels.rename('RandomForrest')\n",
        "\n",
        "  # technical indicators\n",
        "  # moving average columns\n",
        "  test_stock_data['MA5'] = test_stock_data['<CLOSE>'].rolling(window=5).mean()\n",
        "  test_stock_data['MA10'] = test_stock_data['<CLOSE>'].rolling(window=10).mean()\n",
        "  test_stock_data['MA20'] = test_stock_data['<CLOSE>'].rolling(window=20).mean()\n",
        "  test_stock_data['MA50'] = test_stock_data['<CLOSE>'].rolling(window=50).mean()\n",
        "  test_stock_data['MA200'] = test_stock_data['<CLOSE>'].rolling(window=200).mean()\n",
        "\n",
        "  # Force Index (ForceIndex)\n",
        "  test_stock_data['FI'] = test_stock_data['<CLOSE>'].diff(1) * test_stock_data['<VOL>']\n",
        "\n",
        "  # final concat of data inputs    \n",
        "  xgboost_data = pd.concat([test_stock_data], axis=1, join='inner') #vader_output, rf_labels,\n",
        "  # rename columns since xgboost doesn't like <>\n",
        "  xgboost_data.rename(columns = {'<DATE>':'Date', '<OPEN>':'Open', '<HIGH>':'High', '<LOW>':'Low', '<CLOSE>':'Close', '<VOL>':'Vol'}, inplace = True)\n",
        "  # get rid of old index\n",
        "  del xgboost_data['index']\n",
        "\n",
        "  # make sure data looks good\n",
        "  return xgboost_data"
      ],
      "execution_count": 17,
      "outputs": []
    },
    {
      "cell_type": "code",
      "metadata": {
        "id": "s_JlMMqx6xM5"
      },
      "source": [
        "def xgboost_split(xg_data):\n",
        "\n",
        "  # split into test and train around 2014-10-01\n",
        "  X_train = xg_data[xg_data['Date'] < '2015-01-01']\n",
        "  del X_train['Date']\n",
        "  X_test = xg_data[xg_data['Date'] >= '2015-01-01']\n",
        "  del X_test['Date']\n",
        "  y_train = df[df['Date'] < '2014-12-31']['Label']\n",
        "  y_test = df[df['Date'] >= '2014-12-31']['Label']\n",
        "\n",
        "  # remove some extra data pieces.... (not sure why these are here)\n",
        "  y_test.pop(1985)\n",
        "  y_test.pop(1986)\n",
        "  y_test.pop(1987)\n",
        "  y_test.pop(1988)\n",
        "\n",
        "  return X_train, X_test, y_train, y_test"
      ],
      "execution_count": 18,
      "outputs": []
    },
    {
      "cell_type": "code",
      "metadata": {
        "id": "QFlHsal3nQxv"
      },
      "source": [
        "from xgboost import XGBClassifier\n",
        "from sklearn.metrics import classification_report\n",
        "\n",
        "def xg_train(X_train, X_test, y_train, y_test):\n",
        "  # setup xgboost classifier (binary classifier)\n",
        "  model = XGBClassifier(max_depth = 50, n_estimators = 500, learning_rate = 0.01)\n",
        "  # train model\n",
        "  model.fit(X_train, y_train)\n",
        "  # predict test data\n",
        "  y_pred = model.predict(X_test)\n",
        "  # display accuracy\n",
        "  accu_score = accuracy_score(y_test, y_pred)\n",
        "  return model, y_pred"
      ],
      "execution_count": 19,
      "outputs": []
    },
    {
      "cell_type": "code",
      "metadata": {
        "id": "KCqYU-Ek_7Hn"
      },
      "source": [
        "import seaborn as sns\n",
        "import numpy as np\n",
        "\n",
        "def xg_importance(model, data):\n",
        "  # plot feature importance in classifier\n",
        "  indices = np.argsort(model.feature_importances_)[::-1]\n",
        "\n",
        "  features = []\n",
        "  for i in range(10):\n",
        "      features.append(data.columns[indices[i]])\n",
        "\n",
        "  fig, ax = plt.subplots(figsize=(15,5))     \n",
        "\n",
        "  sns.barplot(x=features, y=model.feature_importances_[indices[range(10)]],\\\n",
        "  label=\"Importtant Categorical Features\", palette=(\"Blues_d\"),ax=ax).\\\n",
        "  set_title('Categorical Features Importance')\n",
        "\n",
        "  ax.set(xlabel=\"Columns\", ylabel = \"Importance\")"
      ],
      "execution_count": 20,
      "outputs": []
    },
    {
      "cell_type": "code",
      "metadata": {
        "colab": {
          "base_uri": "https://localhost:8080/"
        },
        "id": "pL7NfHIPr2cU",
        "outputId": "baa96b33-2237-4631-c35b-f28c72a7a18a"
      },
      "source": [
        "xgboost_data_dia = xgboost_data_gen(stock_with_predictions)\n",
        "# xgboost_data_spy = xgboost_data_gen(spy_data)\n",
        "# xgboost_data_qqq = xgboost_data_gen(qqq_data)\n",
        "\n",
        "X_train_dia, X_test_dia, y_train_dia, y_test_dia = xgboost_split(xgboost_data_dia)\n",
        "# X_train_spy, X_test_spy, y_train_spy, y_test_spy = xgboost_split(xgboost_data_spy)\n",
        "# X_train_qqq, X_test_qqq, y_train_qqq, y_test_qqq = xgboost_split(xgboost_data_qqq)\n",
        "\n",
        "dia_model, dia_pred = xg_train(X_train_dia, X_test_dia, y_train_dia, y_test_dia)\n",
        "report(y_test_dia, dia_pred)\n",
        "# spy_model, spy_pred = xg_train(X_train_spy, X_test_spy, y_train_spy, y_test_spy)\n",
        "# qqq_model, qqq_pred = xg_train(X_train_qqq, X_test_qqq, y_train_qqq, y_test_qqq)"
      ],
      "execution_count": 22,
      "outputs": [
        {
          "output_type": "stream",
          "text": [
            "0.8453333333333334\n",
            "              precision    recall  f1-score   support\n",
            "\n",
            "           0       0.69      1.00      0.82       129\n",
            "           1       1.00      0.76      0.87       246\n",
            "\n",
            "    accuracy                           0.85       375\n",
            "   macro avg       0.84      0.88      0.84       375\n",
            "weighted avg       0.89      0.85      0.85       375\n",
            "\n",
            "Confusion Matrix\n",
            "[[129  58]\n",
            " [  0 188]]\n",
            "\n",
            "Overall prediction accuracy: 0.8453333333333334\n",
            "\n",
            "Classification Report: \n",
            "              precision    recall  f1-score   support\n",
            "\n",
            "           0       1.00      0.69      0.82       187\n",
            "           1       0.76      1.00      0.87       188\n",
            "\n",
            "    accuracy                           0.85       375\n",
            "   macro avg       0.88      0.84      0.84       375\n",
            "weighted avg       0.88      0.85      0.84       375\n",
            "\n"
          ],
          "name": "stdout"
        }
      ]
    },
    {
      "cell_type": "markdown",
      "metadata": {
        "id": "LbFzAfajAix9"
      },
      "source": [
        "## ARIMA"
      ]
    },
    {
      "cell_type": "code",
      "metadata": {
        "id": "GUXGF-pGswYX",
        "colab": {
          "base_uri": "https://localhost:8080/"
        },
        "outputId": "4c058e7d-e6a1-4457-dac3-6c913aa613d5"
      },
      "source": [
        "import numpy as np \n",
        "import pandas as pd \n",
        "import matplotlib.pyplot as plt\n",
        "from pandas.plotting import lag_plot\n",
        "from pandas import datetime\n",
        "from statsmodels.tsa.arima_model import ARIMA\n",
        "from sklearn.metrics import mean_squared_error"
      ],
      "execution_count": 23,
      "outputs": [
        {
          "output_type": "stream",
          "text": [
            "/usr/local/lib/python3.7/dist-packages/ipykernel_launcher.py:5: FutureWarning: The pandas.datetime class is deprecated and will be removed from pandas in a future version. Import from datetime module instead.\n",
            "  \"\"\"\n",
            "/usr/local/lib/python3.7/dist-packages/statsmodels/tools/_testing.py:19: FutureWarning: pandas.util.testing is deprecated. Use the functions in the public API at pandas.testing instead.\n",
            "  import pandas.util.testing as tm\n"
          ],
          "name": "stderr"
        }
      ]
    },
    {
      "cell_type": "code",
      "metadata": {
        "id": "AB4n78XxPTlP"
      },
      "source": [
        "#split data\n",
        "train_arima_data = stock_with_predictions[stock_with_predictions['<DATE>'] < '20150101']\n",
        "test_arima_data = stock_with_predictions[stock_with_predictions['<DATE>'] > '20141231']"
      ],
      "execution_count": 24,
      "outputs": []
    },
    {
      "cell_type": "code",
      "metadata": {
        "colab": {
          "base_uri": "https://localhost:8080/"
        },
        "id": "1xtr1jTqPW0L",
        "outputId": "2f4bc82d-9a2e-4de9-ba08-b34610c8dafc"
      },
      "source": [
        "#Prediction is the target value\n",
        "target_training_data = train_arima_data['<CLOSE>'].values\n",
        "target_test_data = test_arima_data['<CLOSE>'].values\n",
        "\n",
        "history = [x for x in target_training_data]\n",
        "arima_predictions = []\n",
        "N_test_observations = len(target_test_data)\n",
        "\n",
        "#ARIMA parameters: p=4,d=1,q=0\n",
        "for time_point in range(N_test_observations):\n",
        "    model = ARIMA(history, order=(4,1,0))\n",
        "    model_fit = model.fit(disp=0)\n",
        "    output = model_fit.forecast()\n",
        "    yhat = output[0]\n",
        "    arima_predictions.append(yhat.item())\n",
        "    true_test_value = target_test_data[time_point]\n",
        "    history.append(true_test_value)\n",
        "\n",
        "MSE_error = mean_squared_error(target_test_data, arima_predictions)\n",
        "print('Testing Mean Squared Error is {}'.format(MSE_error))"
      ],
      "execution_count": 25,
      "outputs": [
        {
          "output_type": "stream",
          "text": [
            "Testing Mean Squared Error is 2.2210535885594145\n"
          ],
          "name": "stdout"
        }
      ]
    },
    {
      "cell_type": "code",
      "metadata": {
        "colab": {
          "base_uri": "https://localhost:8080/",
          "height": 730
        },
        "id": "JyXEZQL1PYKd",
        "outputId": "95896191-a705-4332-a014-bd590a254964"
      },
      "source": [
        "#test_set_range = stock_with_predictions[int(len(stock_with_predictions)*0.7):].index\n",
        "plt.figure(figsize=(16, 12))\n",
        "plt.plot(arima_predictions, color='blue', marker='o', linestyle='dashed',label='Predicted Price')\n",
        "plt.plot(target_test_data, color='red', label='Actual Price')\n",
        "plt.title('DIJA Trend Prediction')\n",
        "plt.xlabel('Date')\n",
        "plt.ylabel('Prices')\n",
        "#plt.xticks(np.arange(881,1259,50), df.Date[881:1259:50])\n",
        "plt.legend()\n",
        "plt.show()"
      ],
      "execution_count": 28,
      "outputs": [
        {
          "output_type": "display_data",
          "data": {
            "image/png": "[encoded data removed]",
            "text/plain": [
              "<Figure size 1152x864 with 1 Axes>"
            ]
          },
          "metadata": {
            "tags": [],
            "needs_background": "light"
          }
        }
      ]
    },
    {
      "cell_type": "markdown",
      "metadata": {
        "id": "gTPHv1dq1uVi"
      },
      "source": [
        "## Stock Backtesting Stuff"
      ]
    },
    {
      "cell_type": "markdown",
      "metadata": {
        "id": "08bO4SFhpsxc"
      },
      "source": [
        "### Simple vectorized estimates\n",
        "\n",
        "* Long model buys when sentiment is positive, sells when not\n",
        "* Long short model buys when sentiment is positive and shorts when it is negative "
      ]
    },
    {
      "cell_type": "code",
      "metadata": {
        "id": "Y7Mp43qNPz2i"
      },
      "source": [
        "#class Backtesting():\n",
        "#   def __init__(self, stock_data, label_data, initial_value):\n",
        "#     self.stock = stock_data\n",
        "#     self.label = label_data\n",
        "#     self.output_df = self.stock\n",
        "#     self.init_val = initial_value\n",
        "#     self.liquid = True\n",
        "#     self.shares = 0\n",
        "#     self.cur_val = self.init_val\n"
      ],
      "execution_count": null,
      "outputs": []
    },
    {
      "cell_type": "code",
      "metadata": {
        "id": "Eajd3YXiM51w"
      },
      "source": [
        "import numpy as np\n",
        "\n",
        "# Vectorized simple solution in function form, class to follow after expansion including plotting etc.\n",
        "def simple_backtest(start_date, predictions, stock_data, arima_pred = 0, arima = False, combo = False, arima_weight = 1, sentiment_weight = 10, arima_thresh = 0, end_date = '2016-07-01'):\n",
        "  test_stock_data = stock_data.loc[(stock_data['<DATE>'] >= start_date) & (stock_data['<DATE>'] <= end_date)]\n",
        "  test_stock_data = stock_data[stock_data['<DATE>'] > start_date]\n",
        "  test_stock_data = test_stock_data.reset_index()\n",
        "\n",
        "  if arima:\n",
        "    pred_df = pd.DataFrame(arima_pred, columns=['Arima_pred'])\n",
        "    pred_df['Sentiment_pred'] = pd.DataFrame(predictions, columns=['Sentiment'])\n",
        "    pred_df.loc[pred_df['Sentiment_pred'] < 1, 'Sentiment_pred'] = -1\n",
        "\n",
        "  else:\n",
        "    pred_df = pd.DataFrame(predictions, columns=['Sentiment'])\n",
        "\n",
        "  pred_df['Open'] = test_stock_data['<OPEN>']\n",
        "  pred_df['Close'] = test_stock_data['<CLOSE>']\n",
        "  pred_df['Date'] = test_stock_data['<DATE>']\n",
        "  # Shift percent change so that the next day's percent change is in line with the sentiment\n",
        "  pred_df['Change'] = pred_df['Close'].pct_change().shift(-1).dropna()\n",
        "  \n",
        "  if arima:\n",
        "    pred_df['Predicted change'] = pred_df['Arima_pred'] - pred_df['Close']\n",
        "\n",
        "    pred_df.loc[pred_df['Predicted change'] >= arima_thresh, 'Pos_change'] = pred_df['Change']\n",
        "    pred_df.loc[pred_df['Predicted change'] < arima_thresh, 'Pos_change'] = 0\n",
        "\n",
        "    pred_df.loc[pred_df['Predicted change'] <= arima_thresh*(-1),'Pos_change_shrt'] =  pred_df['Change']*(-1)\n",
        "    pred_df.loc[pred_df['Predicted change'] > arima_thresh*(-1),'Pos_change_shrt'] =  0\n",
        "\n",
        "    if combo:\n",
        "      # pred_df.loc[(pred_df['Predicted change']*arima_weight + pred_df['Sentiment_pred']*sentiment_weight) >= arima_thresh, 'Pos_change'] = pred_df['Change']\n",
        "      # pred_df.loc[(pred_df['Predicted change']*arima_weight + pred_df['Sentiment_pred']*sentiment_weight) < arima_thresh, 'Pos_change'] = 0\n",
        "\n",
        "      # pred_df.loc[(pred_df['Predicted change']*arima_weight + pred_df['Sentiment_pred']*sentiment_weight) <= arima_thresh,'Pos_change_shrt'] =  pred_df['Change']*(-1)\n",
        "      # pred_df.loc[(pred_df['Predicted change']*arima_weight + pred_df['Sentiment_pred']*sentiment_weight) > arima_thresh,'Pos_change_shrt'] =  0\n",
        "\n",
        "      pred_df.loc[(pred_df['Predicted change']*arima_weight + pred_df['Predicted change']*pred_df['Sentiment_pred']*sentiment_weight) >= arima_thresh, 'Pos_change'] = pred_df['Change']\n",
        "      pred_df.loc[(pred_df['Predicted change']*arima_weight + pred_df['Predicted change']*pred_df['Sentiment_pred']*sentiment_weight) < arima_thresh, 'Pos_change'] = 0\n",
        "\n",
        "      # pred_df.loc[(pred_df['Predicted change']*arima_weight + pred_df['Predicted change']*pred_df['Sentiment_pred']*sentiment_weight) <= arima_thresh,'Pos_change_shrt'] =  pred_df['Change']*(-1)\n",
        "      # pred_df.loc[(pred_df['Predicted change']*arima_weight + pred_df['Predicted change']*pred_df['Sentiment_pred']*sentiment_weight) > arima_thresh,'Pos_change_shrt'] =  0\n",
        "\n",
        "  else:\n",
        "    # Setup column for changes that our position will be exposed to (while we're bought in)\n",
        "    pred_df['Pos_change'] = pred_df['Sentiment'] * pred_df['Change']\n",
        "    # # Setup column for long and short returns\n",
        "    pred_df.loc[pred_df['Sentiment'] < 1 ,'Pos_change_shrt'] =  pred_df['Change']*(-1)\n",
        "    pred_df.loc[pred_df['Sentiment'] >= 1 ,'Pos_change_shrt'] =  0\n",
        "    # pred_df['Pos_change_shrt'] = pred_df['Sentiment'] * pred_df['Change']*(-1)# + pred_df['Pos_change']\n",
        "\n",
        "  # Calculate cumulative return for dow jones, long positions, and long/short positions\n",
        "  pred_df['Cumul_ret_dji'] = np.exp(np.log1p(pred_df['Change']).cumsum())\n",
        "  pred_df['Cumul_ret_long'] = np.exp(np.log1p(pred_df['Pos_change']).cumsum())\n",
        "  # pred_df['Cumul_ret_long_shrt'] = (np.exp(np.log1p(pred_df['Pos_change']).cumsum()) + np.exp(np.log1p(pred_df['Pos_change_shrt']).cumsum()))/2\n",
        "  return pred_df"
      ],
      "execution_count": 29,
      "outputs": []
    },
    {
      "cell_type": "code",
      "metadata": {
        "colab": {
          "base_uri": "https://localhost:8080/",
          "height": 424
        },
        "id": "zqY9Bw6rOhAI",
        "outputId": "25e7fedc-d7ab-48ff-bd2f-5a93d14ee110"
      },
      "source": [
        "news_predictions = generic_forrest.predictions\n",
        "reddit_predictions = reddit_forrest.predictions\n",
        "\n",
        "stock_data = dia_data.data.reset_index()\n",
        "# randomforrest\n",
        "pred_df_forrest = simple_backtest('2014-12-31', news_predictions, stock_data)\n",
        "\n",
        "pred_df_reddit_forest = simple_backtest('2014-12-31', reddit_predictions, stock_data)\n",
        "# xgboost\n",
        "pred_df_xgboost = simple_backtest('2014-12-31', dia_pred, stock_data)\n",
        "\n",
        "# arima\n",
        "pred_df_arima = simple_backtest('2014-12-31', news_predictions, stock_data, arima_predictions, arima_thresh = .1, arima = True)\n",
        "\n",
        "#combo arima forest\n",
        "pred_df_arima_forest = simple_backtest('2014-12-31', news_predictions, stock_data, arima_predictions, arima_thresh = .1, arima_weight = 2, sentiment_weight = 1, arima = True, combo = True)\n",
        "\n",
        "pred_df_arima"
      ],
      "execution_count": 30,
      "outputs": [
        {
          "output_type": "execute_result",
          "data": {
            "text/html": [
              "<div>\n",
              "<style scoped>\n",
              "    .dataframe tbody tr th:only-of-type {\n",
              "        vertical-align: middle;\n",
              "    }\n",
              "\n",
              "    .dataframe tbody tr th {\n",
              "        vertical-align: top;\n",
              "    }\n",
              "\n",
              "    .dataframe thead th {\n",
              "        text-align: right;\n",
              "    }\n",
              "</style>\n",
              "<table border=\"1\" class=\"dataframe\">\n",
              "  <thead>\n",
              "    <tr style=\"text-align: right;\">\n",
              "      <th></th>\n",
              "      <th>Arima_pred</th>\n",
              "      <th>Sentiment_pred</th>\n",
              "      <th>Open</th>\n",
              "      <th>Close</th>\n",
              "      <th>Date</th>\n",
              "      <th>Change</th>\n",
              "      <th>Predicted change</th>\n",
              "      <th>Pos_change</th>\n",
              "      <th>Pos_change_shrt</th>\n",
              "      <th>Cumul_ret_dji</th>\n",
              "      <th>Cumul_ret_long</th>\n",
              "    </tr>\n",
              "  </thead>\n",
              "  <tbody>\n",
              "    <tr>\n",
              "      <th>0</th>\n",
              "      <td>159.008438</td>\n",
              "      <td>1</td>\n",
              "      <td>159.56</td>\n",
              "      <td>158.87</td>\n",
              "      <td>2015-01-02</td>\n",
              "      <td>-0.016869</td>\n",
              "      <td>0.138438</td>\n",
              "      <td>-0.016869</td>\n",
              "      <td>0.000000</td>\n",
              "      <td>0.983131</td>\n",
              "      <td>0.983131</td>\n",
              "    </tr>\n",
              "    <tr>\n",
              "      <th>1</th>\n",
              "      <td>158.945960</td>\n",
              "      <td>-1</td>\n",
              "      <td>158.12</td>\n",
              "      <td>156.19</td>\n",
              "      <td>2015-01-05</td>\n",
              "      <td>-0.008643</td>\n",
              "      <td>2.755960</td>\n",
              "      <td>-0.008643</td>\n",
              "      <td>0.000000</td>\n",
              "      <td>0.974633</td>\n",
              "      <td>0.974633</td>\n",
              "    </tr>\n",
              "    <tr>\n",
              "      <th>2</th>\n",
              "      <td>156.416958</td>\n",
              "      <td>-1</td>\n",
              "      <td>156.39</td>\n",
              "      <td>154.84</td>\n",
              "      <td>2015-01-06</td>\n",
              "      <td>0.012787</td>\n",
              "      <td>1.576958</td>\n",
              "      <td>0.012787</td>\n",
              "      <td>0.000000</td>\n",
              "      <td>0.987096</td>\n",
              "      <td>0.987096</td>\n",
              "    </tr>\n",
              "    <tr>\n",
              "      <th>3</th>\n",
              "      <td>155.134785</td>\n",
              "      <td>1</td>\n",
              "      <td>156.20</td>\n",
              "      <td>156.82</td>\n",
              "      <td>2015-01-07</td>\n",
              "      <td>0.018174</td>\n",
              "      <td>-1.685215</td>\n",
              "      <td>0.000000</td>\n",
              "      <td>-0.018174</td>\n",
              "      <td>1.005036</td>\n",
              "      <td>0.987096</td>\n",
              "    </tr>\n",
              "    <tr>\n",
              "      <th>4</th>\n",
              "      <td>156.620256</td>\n",
              "      <td>1</td>\n",
              "      <td>158.30</td>\n",
              "      <td>159.67</td>\n",
              "      <td>2015-01-08</td>\n",
              "      <td>-0.008831</td>\n",
              "      <td>-3.049744</td>\n",
              "      <td>0.000000</td>\n",
              "      <td>0.008831</td>\n",
              "      <td>0.996160</td>\n",
              "      <td>0.987096</td>\n",
              "    </tr>\n",
              "    <tr>\n",
              "      <th>...</th>\n",
              "      <td>...</td>\n",
              "      <td>...</td>\n",
              "      <td>...</td>\n",
              "      <td>...</td>\n",
              "      <td>...</td>\n",
              "      <td>...</td>\n",
              "      <td>...</td>\n",
              "      <td>...</td>\n",
              "      <td>...</td>\n",
              "      <td>...</td>\n",
              "      <td>...</td>\n",
              "    </tr>\n",
              "    <tr>\n",
              "      <th>370</th>\n",
              "      <td>164.291355</td>\n",
              "      <td>1</td>\n",
              "      <td>164.53</td>\n",
              "      <td>163.92</td>\n",
              "      <td>2016-06-22</td>\n",
              "      <td>0.012506</td>\n",
              "      <td>0.371355</td>\n",
              "      <td>0.012506</td>\n",
              "      <td>0.000000</td>\n",
              "      <td>1.044691</td>\n",
              "      <td>1.117728</td>\n",
              "    </tr>\n",
              "    <tr>\n",
              "      <th>371</th>\n",
              "      <td>164.031241</td>\n",
              "      <td>1</td>\n",
              "      <td>165.22</td>\n",
              "      <td>165.97</td>\n",
              "      <td>2016-06-23</td>\n",
              "      <td>-0.034344</td>\n",
              "      <td>-1.938759</td>\n",
              "      <td>0.000000</td>\n",
              "      <td>0.034344</td>\n",
              "      <td>1.008812</td>\n",
              "      <td>1.117728</td>\n",
              "    </tr>\n",
              "    <tr>\n",
              "      <th>372</th>\n",
              "      <td>165.856376</td>\n",
              "      <td>1</td>\n",
              "      <td>161.12</td>\n",
              "      <td>160.27</td>\n",
              "      <td>2016-06-24</td>\n",
              "      <td>-0.014101</td>\n",
              "      <td>5.586376</td>\n",
              "      <td>-0.014101</td>\n",
              "      <td>0.000000</td>\n",
              "      <td>0.994587</td>\n",
              "      <td>1.101967</td>\n",
              "    </tr>\n",
              "    <tr>\n",
              "      <th>373</th>\n",
              "      <td>160.608588</td>\n",
              "      <td>1</td>\n",
              "      <td>159.18</td>\n",
              "      <td>158.01</td>\n",
              "      <td>2016-06-27</td>\n",
              "      <td>0.015505</td>\n",
              "      <td>2.598588</td>\n",
              "      <td>0.015505</td>\n",
              "      <td>0.000000</td>\n",
              "      <td>1.010008</td>\n",
              "      <td>1.119053</td>\n",
              "    </tr>\n",
              "    <tr>\n",
              "      <th>374</th>\n",
              "      <td>158.544860</td>\n",
              "      <td>1</td>\n",
              "      <td>159.55</td>\n",
              "      <td>160.46</td>\n",
              "      <td>2016-06-28</td>\n",
              "      <td>NaN</td>\n",
              "      <td>-1.915140</td>\n",
              "      <td>0.000000</td>\n",
              "      <td>NaN</td>\n",
              "      <td>NaN</td>\n",
              "      <td>1.119053</td>\n",
              "    </tr>\n",
              "  </tbody>\n",
              "</table>\n",
              "<p>375 rows × 11 columns</p>\n",
              "</div>"
            ],
            "text/plain": [
              "     Arima_pred  Sentiment_pred  ...  Cumul_ret_dji  Cumul_ret_long\n",
              "0    159.008438               1  ...       0.983131        0.983131\n",
              "1    158.945960              -1  ...       0.974633        0.974633\n",
              "2    156.416958              -1  ...       0.987096        0.987096\n",
              "3    155.134785               1  ...       1.005036        0.987096\n",
              "4    156.620256               1  ...       0.996160        0.987096\n",
              "..          ...             ...  ...            ...             ...\n",
              "370  164.291355               1  ...       1.044691        1.117728\n",
              "371  164.031241               1  ...       1.008812        1.117728\n",
              "372  165.856376               1  ...       0.994587        1.101967\n",
              "373  160.608588               1  ...       1.010008        1.119053\n",
              "374  158.544860               1  ...            NaN        1.119053\n",
              "\n",
              "[375 rows x 11 columns]"
            ]
          },
          "metadata": {
            "tags": []
          },
          "execution_count": 30
        }
      ]
    },
    {
      "cell_type": "code",
      "metadata": {
        "colab": {
          "base_uri": "https://localhost:8080/",
          "height": 730
        },
        "id": "qk9pHe9T1RsP",
        "outputId": "04a69f20-329b-44c2-ace1-039636148f1e"
      },
      "source": [
        "# Plot results\n",
        "import matplotlib.pyplot as plt\n",
        "%matplotlib inline\n",
        "\n",
        "def plot_backtest(prediction_df, title='DJIA vs Model Returns from Test Data Predictions', label_1='DJIA', label_2='Long Model', label_3='Long/Short Model'):\n",
        "  pred_df = prediction_df\n",
        "\n",
        "  plt.figure(figsize=(16, 12)) \n",
        "  plt.plot(pred_df['Date'], pred_df['Cumul_ret_dji'], label = label_1)\n",
        "  plt.plot(pred_df['Date'], pred_df['Cumul_ret_long'], label = label_2)\n",
        "  # plt.plot(pred_df['Date'], pred_df['Cumul_ret_long_shrt'], label = label_3)\n",
        "  plt.xlabel('Date')\n",
        "  plt.title(title)\n",
        "  plt.ylabel('Cumulative Return')\n",
        "  plt.legend()\n",
        "  plt.show()\n",
        "\n",
        "plot_backtest(pred_df_xgboost)"
      ],
      "execution_count": 31,
      "outputs": [
        {
          "output_type": "display_data",
          "data": {
            "image/png": "[encoded data removed]",
            "text/plain": [
              "<Figure size 1152x864 with 1 Axes>"
            ]
          },
          "metadata": {
            "tags": [],
            "needs_background": "light"
          }
        }
      ]
    },
    {
      "cell_type": "code",
      "metadata": {
        "id": "5IwBMgp7nko1"
      },
      "source": [
        "plot_backtest(pred_df_arima_forest)"
      ],
      "execution_count": null,
      "outputs": []
    },
    {
      "cell_type": "code",
      "metadata": {
        "id": "x8o2QXW9y_TI"
      },
      "source": [
        "plot_backtest(pred_df_forrest)"
      ],
      "execution_count": null,
      "outputs": []
    },
    {
      "cell_type": "code",
      "metadata": {
        "id": "smZ-5ChDNTtN"
      },
      "source": [
        "plot_backtest(pred_df_reddit_forest)"
      ],
      "execution_count": null,
      "outputs": []
    },
    {
      "cell_type": "code",
      "metadata": {
        "id": "8pOde1kvm7to"
      },
      "source": [
        "plot_backtest(pred_df_arima)"
      ],
      "execution_count": null,
      "outputs": []
    },
    {
      "cell_type": "code",
      "metadata": {
        "id": "Z5SxfehD3TUn",
        "colab": {
          "base_uri": "https://localhost:8080/",
          "height": 730
        },
        "outputId": "3b05e634-44b6-4324-fe9f-d45132344108"
      },
      "source": [
        "plt.figure(figsize=(16, 12)) \n",
        "plt.plot(pred_df_xgboost['Date'], pred_df_xgboost['Cumul_ret_dji'], label = 'DJIA Benchmark')\n",
        "plt.plot(pred_df_xgboost['Date'], pred_df_xgboost['Cumul_ret_long'], label = 'XGBoost Classifier')\n",
        "plt.plot(pred_df_forrest['Date'], pred_df_forrest['Cumul_ret_long'], label = 'Random Forest')\n",
        "plt.plot(pred_df_arima['Date'], pred_df_arima['Cumul_ret_long'], label = 'ARIMA')\n",
        "plt.plot(pred_df_arima_forest['Date'], pred_df_arima_forest['Cumul_ret_long'], label = 'ARIMA + Random Forest')\n",
        "\n",
        "# plt.plot(pred_df['Date'], pred_df['Cumul_ret_long_shrt'], label = label_3)\n",
        "plt.xlabel('Date')\n",
        "plt.title('Cumulative Returns of Each Model/ Strategy')\n",
        "plt.ylabel('Cumulative Return')\n",
        "plt.legend()\n",
        "plt.show()"
      ],
      "execution_count": 32,
      "outputs": [
        {
          "output_type": "display_data",
          "data": {
            "image/png": "[encoded data removed]",
            "text/plain": [
              "<Figure size 1152x864 with 1 Axes>"
            ]
          },
          "metadata": {
            "tags": [],
            "needs_background": "light"
          }
        }
      ]
    }
  ]
}